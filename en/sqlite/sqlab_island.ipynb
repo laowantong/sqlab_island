{
 "cells": [
  {
   "cell_type": "code",
   "execution_count": null,
   "id": "6bc5c139",
   "metadata": {
    "init_cell": true
   },
   "outputs": [],
   "source": [
    "from sqlab.nb_tools import show_tables\n",
    "from sqlab.dbms.sqlite.nb_tools import get_engine, add_connexion_listener\n",
    "\n",
    "class ColumnGetter:\n",
    "    def __getitem__(self, label):\n",
    "        return list(_.dict()[label])\n",
    "col = ColumnGetter()\n",
    "\n",
    "def print_assert(label):\n",
    "    print(f'assert col[\"{label}\"] == {col[label]}'.replace(\"Decimal('\", \"\").replace(\".00')\", \"\"))\n",
    "\n",
    "engine = get_engine()\n",
    "extensions = [\n",
    "    \"~/.sqlpkg/nalgeon/crypto/crypto\",\n",
    "    \"~/.sqlpkg/nalgeon/define/define\",\n",
    "    \"~/.sqlpkg/nalgeon/regexp/regexp\",\n",
    "    \"~/.sqlpkg/nyurik/compressions/libsqlite_compressions\",\n",
    "]\n",
    "add_connexion_listener(engine, extensions)"
   ]
  },
  {
   "cell_type": "code",
   "execution_count": null,
   "id": "073edba3",
   "metadata": {
    "init_cell": true
   },
   "outputs": [
    {
     "data": {
      "text/html": [
       "<span style=\"color: green\">19 rows affected.</span>"
      ],
      "text/plain": [
       "19 rows affected."
      ]
     },
     "metadata": {},
     "output_type": "display_data"
    },
    {
     "data": {
      "text/html": [
       "<span style=\"color: green\">9 rows affected.</span>"
      ],
      "text/plain": [
       "9 rows affected."
      ]
     },
     "metadata": {},
     "output_type": "display_data"
    },
    {
     "data": {
      "text/html": [
       "<span style=\"color: green\">3 rows affected.</span>"
      ],
      "text/plain": [
       "3 rows affected."
      ]
     },
     "metadata": {},
     "output_type": "display_data"
    },
    {
     "data": {
      "text/html": [
       "<span style=\"color: green\">74 rows affected.</span>"
      ],
      "text/plain": [
       "74 rows affected."
      ]
     },
     "metadata": {},
     "output_type": "display_data"
    },
    {
     "data": {
      "text/html": [
       "<span style=\"color: green\">29 rows affected.</span>"
      ],
      "text/plain": [
       "29 rows affected."
      ]
     },
     "metadata": {},
     "output_type": "display_data"
    },
    {
     "name": "stdout",
     "output_type": "stream",
     "text": [
      "Table           Columns                                                    \n",
      "---------------------------------------------------------------------------\n",
      "decrypt         msg                                                        \n",
      "inhabitant      personid, name, villageid, gender, job, gold, state, hash  \n",
      "item            item, owner, hash                                          \n",
      "sqlab_info      name, value                                                \n",
      "sqlab_msg       msg                                                        \n",
      "sqlean_define   name, type, body                                           \n",
      "village         villageid, name, chief, hash                               \n"
     ]
    }
   ],
   "source": [
    "%config SqlMagic.displaycon = False\n",
    "%config SqlMagic.displaylimit = 0\n",
    "%reload_ext sql\n",
    "%sql engine\n",
    "%sql --file output/dump.sql\n",
    "show_tables(engine)"
   ]
  },
  {
   "cell_type": "markdown",
   "id": "729bdb94",
   "metadata": {},
   "source": [
    "# SQLab Island"
   ]
  },
  {
   "cell_type": "markdown",
   "id": "ee3c5069",
   "metadata": {},
   "source": [
    "## `SELECT *`"
   ]
  },
  {
   "cell_type": "markdown",
   "id": "15bf630e",
   "metadata": {},
   "source": [
    "**Episode [042].**\n",
    "Oh dear, what happened? It seems that I am the only survivor of the air crash. Wow, there are some villages on this island.\n",
    "\n",
    "```sql\n",
    "SELECT *\n",
    "FROM village\n",
    "```"
   ]
  },
  {
   "cell_type": "markdown",
   "id": "03084437",
   "metadata": {},
   "source": [
    "**Statement.** Copy-paste the previous query. After the star `*`, add a comma and the given formula. Execute the complete query."
   ]
  },
  {
   "cell_type": "code",
   "execution_count": null,
   "id": "b6acafe6",
   "metadata": {},
   "outputs": [
    {
     "data": {
      "text/html": [
       "<table>\n",
       "    <thead>\n",
       "        <tr>\n",
       "            <th>villageid</th>\n",
       "            <th>name</th>\n",
       "            <th>chief</th>\n",
       "            <th>hash</th>\n",
       "            <th>token</th>\n",
       "        </tr>\n",
       "    </thead>\n",
       "    <tbody>\n",
       "        <tr>\n",
       "            <td>1</td>\n",
       "            <td>Monkeycity</td>\n",
       "            <td>1</td>\n",
       "            <td>626144185414</td>\n",
       "            <td>280010183117016</td>\n",
       "        </tr>\n",
       "        <tr>\n",
       "            <td>2</td>\n",
       "            <td>Cucumbertown</td>\n",
       "            <td>6</td>\n",
       "            <td>433400391491</td>\n",
       "            <td>280010183117016</td>\n",
       "        </tr>\n",
       "        <tr>\n",
       "            <td>3</td>\n",
       "            <td>Onionville</td>\n",
       "            <td>13</td>\n",
       "            <td>251841620292</td>\n",
       "            <td>280010183117016</td>\n",
       "        </tr>\n",
       "    </tbody>\n",
       "</table>"
      ]
     },
     "execution_count": null,
     "metadata": {},
     "output_type": "execute_result"
    }
   ],
   "source": [
    "%%sql\n",
    "SELECT *\n",
    "     , salt_042(sum(nn(hash)) OVER ()) AS token\n",
    "FROM village\n",
    "--> Episode [002]"
   ]
  },
  {
   "cell_type": "markdown",
   "id": "4d2ef8c1",
   "metadata": {},
   "source": [
    "**Episode [002].** It seems there are a few people living in these villages."
   ]
  },
  {
   "cell_type": "markdown",
   "id": "4e19bb2b",
   "metadata": {},
   "source": [
    "**Statement.** How can you see a list of all inhabitants?"
   ]
  },
  {
   "cell_type": "code",
   "execution_count": null,
   "id": "322dac46",
   "metadata": {},
   "outputs": [
    {
     "data": {
      "text/html": [
       "<table>\n",
       "    <thead>\n",
       "        <tr>\n",
       "            <th>personid</th>\n",
       "            <th>name</th>\n",
       "            <th>villageid</th>\n",
       "            <th>gender</th>\n",
       "            <th>job</th>\n",
       "            <th>gold</th>\n",
       "            <th>state</th>\n",
       "            <th>hash</th>\n",
       "            <th>token</th>\n",
       "        </tr>\n",
       "    </thead>\n",
       "    <tbody>\n",
       "        <tr>\n",
       "            <td>1</td>\n",
       "            <td>Paul Bakerman</td>\n",
       "            <td>1</td>\n",
       "            <td>m</td>\n",
       "            <td>baker</td>\n",
       "            <td>850</td>\n",
       "            <td>friendly</td>\n",
       "            <td>646611776879</td>\n",
       "            <td>127572182569252</td>\n",
       "        </tr>\n",
       "        <tr>\n",
       "            <td>2</td>\n",
       "            <td>Ernest Perry</td>\n",
       "            <td>3</td>\n",
       "            <td>m</td>\n",
       "            <td>weaponsmith</td>\n",
       "            <td>280</td>\n",
       "            <td>friendly</td>\n",
       "            <td>630197013484</td>\n",
       "            <td>127572182569252</td>\n",
       "        </tr>\n",
       "        <tr>\n",
       "            <td>3</td>\n",
       "            <td>Rita Ox</td>\n",
       "            <td>1</td>\n",
       "            <td>f</td>\n",
       "            <td>baker</td>\n",
       "            <td>350</td>\n",
       "            <td>friendly</td>\n",
       "            <td>589077802421</td>\n",
       "            <td>127572182569252</td>\n",
       "        </tr>\n",
       "        <tr>\n",
       "            <td>4</td>\n",
       "            <td>Carl Ox</td>\n",
       "            <td>1</td>\n",
       "            <td>m</td>\n",
       "            <td>merchant</td>\n",
       "            <td>250</td>\n",
       "            <td>friendly</td>\n",
       "            <td>850110253458</td>\n",
       "            <td>127572182569252</td>\n",
       "        </tr>\n",
       "        <tr>\n",
       "            <td>5</td>\n",
       "            <td>Dirty Dieter</td>\n",
       "            <td>3</td>\n",
       "            <td>m</td>\n",
       "            <td>smith</td>\n",
       "            <td>650</td>\n",
       "            <td>evil</td>\n",
       "            <td>920149177207</td>\n",
       "            <td>127572182569252</td>\n",
       "        </tr>\n",
       "        <tr>\n",
       "            <td>6</td>\n",
       "            <td>Gerry Slaughterer</td>\n",
       "            <td>2</td>\n",
       "            <td>m</td>\n",
       "            <td>butcher</td>\n",
       "            <td>4850</td>\n",
       "            <td>evil</td>\n",
       "            <td>856968177321</td>\n",
       "            <td>127572182569252</td>\n",
       "        </tr>\n",
       "        <tr>\n",
       "            <td>7</td>\n",
       "            <td>Peter Slaughterer</td>\n",
       "            <td>3</td>\n",
       "            <td>m</td>\n",
       "            <td>butcher</td>\n",
       "            <td>3250</td>\n",
       "            <td>evil</td>\n",
       "            <td>681036005590</td>\n",
       "            <td>127572182569252</td>\n",
       "        </tr>\n",
       "        <tr>\n",
       "            <td>8</td>\n",
       "            <td>Arthur Tailor</td>\n",
       "            <td>2</td>\n",
       "            <td>m</td>\n",
       "            <td>pilot</td>\n",
       "            <td>490</td>\n",
       "            <td>kidnapped</td>\n",
       "            <td>509268313479</td>\n",
       "            <td>127572182569252</td>\n",
       "        </tr>\n",
       "        <tr>\n",
       "            <td>9</td>\n",
       "            <td>Tiffany Drummer</td>\n",
       "            <td>1</td>\n",
       "            <td>f</td>\n",
       "            <td>baker</td>\n",
       "            <td>550</td>\n",
       "            <td>evil</td>\n",
       "            <td>592129557518</td>\n",
       "            <td>127572182569252</td>\n",
       "        </tr>\n",
       "        <tr>\n",
       "            <td>10</td>\n",
       "            <td>Peter Drummer</td>\n",
       "            <td>1</td>\n",
       "            <td>m</td>\n",
       "            <td>smith</td>\n",
       "            <td>600</td>\n",
       "            <td>friendly</td>\n",
       "            <td>445353142598</td>\n",
       "            <td>127572182569252</td>\n",
       "        </tr>\n",
       "        <tr>\n",
       "            <td>11</td>\n",
       "            <td>Dirty Diane</td>\n",
       "            <td>3</td>\n",
       "            <td>f</td>\n",
       "            <td>farmer</td>\n",
       "            <td>10</td>\n",
       "            <td>evil</td>\n",
       "            <td>873885492698</td>\n",
       "            <td>127572182569252</td>\n",
       "        </tr>\n",
       "        <tr>\n",
       "            <td>12</td>\n",
       "            <td>Otto Alexander</td>\n",
       "            <td>2</td>\n",
       "            <td>m</td>\n",
       "            <td>dealer</td>\n",
       "            <td>680</td>\n",
       "            <td>friendly</td>\n",
       "            <td>591142648847</td>\n",
       "            <td>127572182569252</td>\n",
       "        </tr>\n",
       "        <tr>\n",
       "            <td>13</td>\n",
       "            <td>Fred Dix</td>\n",
       "            <td>3</td>\n",
       "            <td>m</td>\n",
       "            <td>author</td>\n",
       "            <td>420</td>\n",
       "            <td>friendly</td>\n",
       "            <td>758537101048</td>\n",
       "            <td>127572182569252</td>\n",
       "        </tr>\n",
       "        <tr>\n",
       "            <td>14</td>\n",
       "            <td>Enrico Carpenter</td>\n",
       "            <td>3</td>\n",
       "            <td>m</td>\n",
       "            <td>weaponsmith</td>\n",
       "            <td>510</td>\n",
       "            <td>evil</td>\n",
       "            <td>342855603621</td>\n",
       "            <td>127572182569252</td>\n",
       "        </tr>\n",
       "        <tr>\n",
       "            <td>15</td>\n",
       "            <td>Helen Grasshead</td>\n",
       "            <td>2</td>\n",
       "            <td>f</td>\n",
       "            <td>dealer</td>\n",
       "            <td>680</td>\n",
       "            <td>friendly</td>\n",
       "            <td>152461466647</td>\n",
       "            <td>127572182569252</td>\n",
       "        </tr>\n",
       "        <tr>\n",
       "            <td>16</td>\n",
       "            <td>Ivy Hatter</td>\n",
       "            <td>1</td>\n",
       "            <td>f</td>\n",
       "            <td>dealer</td>\n",
       "            <td>770</td>\n",
       "            <td>evil</td>\n",
       "            <td>31678689780</td>\n",
       "            <td>127572182569252</td>\n",
       "        </tr>\n",
       "        <tr>\n",
       "            <td>17</td>\n",
       "            <td>Edward Grasshead</td>\n",
       "            <td>3</td>\n",
       "            <td>m</td>\n",
       "            <td>butcher</td>\n",
       "            <td>990</td>\n",
       "            <td>friendly</td>\n",
       "            <td>143447863181</td>\n",
       "            <td>127572182569252</td>\n",
       "        </tr>\n",
       "        <tr>\n",
       "            <td>18</td>\n",
       "            <td>Ryan Horse</td>\n",
       "            <td>3</td>\n",
       "            <td>m</td>\n",
       "            <td>blacksmith</td>\n",
       "            <td>390</td>\n",
       "            <td>friendly</td>\n",
       "            <td>462983685817</td>\n",
       "            <td>127572182569252</td>\n",
       "        </tr>\n",
       "        <tr>\n",
       "            <td>19</td>\n",
       "            <td>Ann Meaty</td>\n",
       "            <td>2</td>\n",
       "            <td>f</td>\n",
       "            <td>butcher</td>\n",
       "            <td>2280</td>\n",
       "            <td>friendly</td>\n",
       "            <td>251247264297</td>\n",
       "            <td>127572182569252</td>\n",
       "        </tr>\n",
       "    </tbody>\n",
       "</table>"
      ]
     },
     "execution_count": null,
     "metadata": {},
     "output_type": "execute_result"
    }
   ],
   "source": [
    "%%sql\n",
    "SELECT *\n",
    "     , salt_002(sum(nn(hash)) OVER ()) AS token\n",
    "FROM inhabitant\n",
    "--> Episode [048]"
   ]
  },
  {
   "cell_type": "markdown",
   "id": "063d5b3d",
   "metadata": {},
   "source": [
    "## `WHERE`"
   ]
  },
  {
   "cell_type": "markdown",
   "id": "40f1743a",
   "metadata": {},
   "source": [
    "### Comparison operator `=`"
   ]
  },
  {
   "cell_type": "markdown",
   "id": "413bf764",
   "metadata": {},
   "source": [
    "**Episode [048].**\n",
    "Woah, so many people!\n",
    "\n",
    "Man! I'm hungry. I will go and find a butcher to ask for some free sausages.\n",
    "\n",
    "```sql\n",
    "SELECT *\n",
    "FROM inhabitant\n",
    "WHERE job = 'butcher'\n",
    "```"
   ]
  },
  {
   "cell_type": "markdown",
   "id": "1fa65ffe",
   "metadata": {},
   "source": [
    "**Statement.** Copy-paste the previous query, add the given formula, and execute it."
   ]
  },
  {
   "cell_type": "code",
   "execution_count": null,
   "id": "0a5fc67e",
   "metadata": {},
   "outputs": [
    {
     "data": {
      "text/html": [
       "<table>\n",
       "    <thead>\n",
       "        <tr>\n",
       "            <th>personid</th>\n",
       "            <th>name</th>\n",
       "            <th>villageid</th>\n",
       "            <th>gender</th>\n",
       "            <th>job</th>\n",
       "            <th>gold</th>\n",
       "            <th>state</th>\n",
       "            <th>hash</th>\n",
       "            <th>token</th>\n",
       "        </tr>\n",
       "    </thead>\n",
       "    <tbody>\n",
       "        <tr>\n",
       "            <td>6</td>\n",
       "            <td>Gerry Slaughterer</td>\n",
       "            <td>2</td>\n",
       "            <td>m</td>\n",
       "            <td>butcher</td>\n",
       "            <td>4850</td>\n",
       "            <td>evil</td>\n",
       "            <td>856968177321</td>\n",
       "            <td>278655325129117</td>\n",
       "        </tr>\n",
       "        <tr>\n",
       "            <td>7</td>\n",
       "            <td>Peter Slaughterer</td>\n",
       "            <td>3</td>\n",
       "            <td>m</td>\n",
       "            <td>butcher</td>\n",
       "            <td>3250</td>\n",
       "            <td>evil</td>\n",
       "            <td>681036005590</td>\n",
       "            <td>278655325129117</td>\n",
       "        </tr>\n",
       "        <tr>\n",
       "            <td>17</td>\n",
       "            <td>Edward Grasshead</td>\n",
       "            <td>3</td>\n",
       "            <td>m</td>\n",
       "            <td>butcher</td>\n",
       "            <td>990</td>\n",
       "            <td>friendly</td>\n",
       "            <td>143447863181</td>\n",
       "            <td>278655325129117</td>\n",
       "        </tr>\n",
       "        <tr>\n",
       "            <td>19</td>\n",
       "            <td>Ann Meaty</td>\n",
       "            <td>2</td>\n",
       "            <td>f</td>\n",
       "            <td>butcher</td>\n",
       "            <td>2280</td>\n",
       "            <td>friendly</td>\n",
       "            <td>251247264297</td>\n",
       "            <td>278655325129117</td>\n",
       "        </tr>\n",
       "    </tbody>\n",
       "</table>"
      ]
     },
     "execution_count": null,
     "metadata": {},
     "output_type": "execute_result"
    }
   ],
   "source": [
    "%%sql\n",
    "SELECT *\n",
    "     , salt_048(sum(nn(hash)) OVER ()) AS token\n",
    "FROM inhabitant A\n",
    "WHERE job = 'butcher'\n",
    "--> Episode [023]"
   ]
  },
  {
   "cell_type": "markdown",
   "id": "7aa14fc1",
   "metadata": {},
   "source": [
    "**Episode [023].**\n",
    "\n",
    "– There you are! Enjoy your meal! But take care of yourself. As long as you are unarmed, stay away from villains. Not everyone on this island is friendly.  \n",
    "– Thank you, Edward!"
   ]
  },
  {
   "cell_type": "markdown",
   "id": "790af18a",
   "metadata": {},
   "source": [
    "**Statement.** Okay, let's see who is friendly on this island..."
   ]
  },
  {
   "cell_type": "code",
   "execution_count": null,
   "id": "4e4e9631",
   "metadata": {},
   "outputs": [
    {
     "data": {
      "text/html": [
       "<table>\n",
       "    <thead>\n",
       "        <tr>\n",
       "            <th>personid</th>\n",
       "            <th>name</th>\n",
       "            <th>villageid</th>\n",
       "            <th>gender</th>\n",
       "            <th>job</th>\n",
       "            <th>gold</th>\n",
       "            <th>state</th>\n",
       "            <th>hash</th>\n",
       "            <th>token</th>\n",
       "        </tr>\n",
       "    </thead>\n",
       "    <tbody>\n",
       "        <tr>\n",
       "            <td>1</td>\n",
       "            <td>Paul Bakerman</td>\n",
       "            <td>1</td>\n",
       "            <td>m</td>\n",
       "            <td>baker</td>\n",
       "            <td>850</td>\n",
       "            <td>friendly</td>\n",
       "            <td>646611776879</td>\n",
       "            <td>49877984153702</td>\n",
       "        </tr>\n",
       "        <tr>\n",
       "            <td>2</td>\n",
       "            <td>Ernest Perry</td>\n",
       "            <td>3</td>\n",
       "            <td>m</td>\n",
       "            <td>weaponsmith</td>\n",
       "            <td>280</td>\n",
       "            <td>friendly</td>\n",
       "            <td>630197013484</td>\n",
       "            <td>49877984153702</td>\n",
       "        </tr>\n",
       "        <tr>\n",
       "            <td>3</td>\n",
       "            <td>Rita Ox</td>\n",
       "            <td>1</td>\n",
       "            <td>f</td>\n",
       "            <td>baker</td>\n",
       "            <td>350</td>\n",
       "            <td>friendly</td>\n",
       "            <td>589077802421</td>\n",
       "            <td>49877984153702</td>\n",
       "        </tr>\n",
       "        <tr>\n",
       "            <td>4</td>\n",
       "            <td>Carl Ox</td>\n",
       "            <td>1</td>\n",
       "            <td>m</td>\n",
       "            <td>merchant</td>\n",
       "            <td>250</td>\n",
       "            <td>friendly</td>\n",
       "            <td>850110253458</td>\n",
       "            <td>49877984153702</td>\n",
       "        </tr>\n",
       "        <tr>\n",
       "            <td>10</td>\n",
       "            <td>Peter Drummer</td>\n",
       "            <td>1</td>\n",
       "            <td>m</td>\n",
       "            <td>smith</td>\n",
       "            <td>600</td>\n",
       "            <td>friendly</td>\n",
       "            <td>445353142598</td>\n",
       "            <td>49877984153702</td>\n",
       "        </tr>\n",
       "        <tr>\n",
       "            <td>12</td>\n",
       "            <td>Otto Alexander</td>\n",
       "            <td>2</td>\n",
       "            <td>m</td>\n",
       "            <td>dealer</td>\n",
       "            <td>680</td>\n",
       "            <td>friendly</td>\n",
       "            <td>591142648847</td>\n",
       "            <td>49877984153702</td>\n",
       "        </tr>\n",
       "        <tr>\n",
       "            <td>13</td>\n",
       "            <td>Fred Dix</td>\n",
       "            <td>3</td>\n",
       "            <td>m</td>\n",
       "            <td>author</td>\n",
       "            <td>420</td>\n",
       "            <td>friendly</td>\n",
       "            <td>758537101048</td>\n",
       "            <td>49877984153702</td>\n",
       "        </tr>\n",
       "        <tr>\n",
       "            <td>15</td>\n",
       "            <td>Helen Grasshead</td>\n",
       "            <td>2</td>\n",
       "            <td>f</td>\n",
       "            <td>dealer</td>\n",
       "            <td>680</td>\n",
       "            <td>friendly</td>\n",
       "            <td>152461466647</td>\n",
       "            <td>49877984153702</td>\n",
       "        </tr>\n",
       "        <tr>\n",
       "            <td>17</td>\n",
       "            <td>Edward Grasshead</td>\n",
       "            <td>3</td>\n",
       "            <td>m</td>\n",
       "            <td>butcher</td>\n",
       "            <td>990</td>\n",
       "            <td>friendly</td>\n",
       "            <td>143447863181</td>\n",
       "            <td>49877984153702</td>\n",
       "        </tr>\n",
       "        <tr>\n",
       "            <td>18</td>\n",
       "            <td>Ryan Horse</td>\n",
       "            <td>3</td>\n",
       "            <td>m</td>\n",
       "            <td>blacksmith</td>\n",
       "            <td>390</td>\n",
       "            <td>friendly</td>\n",
       "            <td>462983685817</td>\n",
       "            <td>49877984153702</td>\n",
       "        </tr>\n",
       "        <tr>\n",
       "            <td>19</td>\n",
       "            <td>Ann Meaty</td>\n",
       "            <td>2</td>\n",
       "            <td>f</td>\n",
       "            <td>butcher</td>\n",
       "            <td>2280</td>\n",
       "            <td>friendly</td>\n",
       "            <td>251247264297</td>\n",
       "            <td>49877984153702</td>\n",
       "        </tr>\n",
       "    </tbody>\n",
       "</table>"
      ]
     },
     "execution_count": null,
     "metadata": {},
     "output_type": "execute_result"
    }
   ],
   "source": [
    "%%sql\n",
    "SELECT *\n",
    "     , salt_023(sum(nn(hash)) OVER ()) AS token\n",
    "FROM inhabitant\n",
    "WHERE state = 'friendly'\n",
    "--> Episode [060]"
   ]
  },
  {
   "cell_type": "code",
   "execution_count": null,
   "id": "7c8b7d96",
   "metadata": {},
   "outputs": [
    {
     "data": {
      "text/html": [
       "<table>\n",
       "    <thead>\n",
       "        <tr>\n",
       "            <th>personid</th>\n",
       "            <th>name</th>\n",
       "            <th>villageid</th>\n",
       "            <th>gender</th>\n",
       "            <th>job</th>\n",
       "            <th>gold</th>\n",
       "            <th>state</th>\n",
       "            <th>hash</th>\n",
       "            <th>token</th>\n",
       "        </tr>\n",
       "    </thead>\n",
       "    <tbody>\n",
       "        <tr>\n",
       "            <td>1</td>\n",
       "            <td>Paul Bakerman</td>\n",
       "            <td>1</td>\n",
       "            <td>m</td>\n",
       "            <td>baker</td>\n",
       "            <td>850</td>\n",
       "            <td>friendly</td>\n",
       "            <td>646611776879</td>\n",
       "            <td>49634567641071</td>\n",
       "        </tr>\n",
       "        <tr>\n",
       "            <td>2</td>\n",
       "            <td>Ernest Perry</td>\n",
       "            <td>3</td>\n",
       "            <td>m</td>\n",
       "            <td>weaponsmith</td>\n",
       "            <td>280</td>\n",
       "            <td>friendly</td>\n",
       "            <td>630197013484</td>\n",
       "            <td>49634567641071</td>\n",
       "        </tr>\n",
       "        <tr>\n",
       "            <td>3</td>\n",
       "            <td>Rita Ox</td>\n",
       "            <td>1</td>\n",
       "            <td>f</td>\n",
       "            <td>baker</td>\n",
       "            <td>350</td>\n",
       "            <td>friendly</td>\n",
       "            <td>589077802421</td>\n",
       "            <td>49634567641071</td>\n",
       "        </tr>\n",
       "        <tr>\n",
       "            <td>4</td>\n",
       "            <td>Carl Ox</td>\n",
       "            <td>1</td>\n",
       "            <td>m</td>\n",
       "            <td>merchant</td>\n",
       "            <td>250</td>\n",
       "            <td>friendly</td>\n",
       "            <td>850110253458</td>\n",
       "            <td>49634567641071</td>\n",
       "        </tr>\n",
       "        <tr>\n",
       "            <td>8</td>\n",
       "            <td>Arthur Tailor</td>\n",
       "            <td>2</td>\n",
       "            <td>m</td>\n",
       "            <td>pilot</td>\n",
       "            <td>490</td>\n",
       "            <td>kidnapped</td>\n",
       "            <td>509268313479</td>\n",
       "            <td>49634567641071</td>\n",
       "        </tr>\n",
       "        <tr>\n",
       "            <td>10</td>\n",
       "            <td>Peter Drummer</td>\n",
       "            <td>1</td>\n",
       "            <td>m</td>\n",
       "            <td>smith</td>\n",
       "            <td>600</td>\n",
       "            <td>friendly</td>\n",
       "            <td>445353142598</td>\n",
       "            <td>49634567641071</td>\n",
       "        </tr>\n",
       "        <tr>\n",
       "            <td>12</td>\n",
       "            <td>Otto Alexander</td>\n",
       "            <td>2</td>\n",
       "            <td>m</td>\n",
       "            <td>dealer</td>\n",
       "            <td>680</td>\n",
       "            <td>friendly</td>\n",
       "            <td>591142648847</td>\n",
       "            <td>49634567641071</td>\n",
       "        </tr>\n",
       "        <tr>\n",
       "            <td>13</td>\n",
       "            <td>Fred Dix</td>\n",
       "            <td>3</td>\n",
       "            <td>m</td>\n",
       "            <td>author</td>\n",
       "            <td>420</td>\n",
       "            <td>friendly</td>\n",
       "            <td>758537101048</td>\n",
       "            <td>49634567641071</td>\n",
       "        </tr>\n",
       "        <tr>\n",
       "            <td>15</td>\n",
       "            <td>Helen Grasshead</td>\n",
       "            <td>2</td>\n",
       "            <td>f</td>\n",
       "            <td>dealer</td>\n",
       "            <td>680</td>\n",
       "            <td>friendly</td>\n",
       "            <td>152461466647</td>\n",
       "            <td>49634567641071</td>\n",
       "        </tr>\n",
       "        <tr>\n",
       "            <td>17</td>\n",
       "            <td>Edward Grasshead</td>\n",
       "            <td>3</td>\n",
       "            <td>m</td>\n",
       "            <td>butcher</td>\n",
       "            <td>990</td>\n",
       "            <td>friendly</td>\n",
       "            <td>143447863181</td>\n",
       "            <td>49634567641071</td>\n",
       "        </tr>\n",
       "        <tr>\n",
       "            <td>18</td>\n",
       "            <td>Ryan Horse</td>\n",
       "            <td>3</td>\n",
       "            <td>m</td>\n",
       "            <td>blacksmith</td>\n",
       "            <td>390</td>\n",
       "            <td>friendly</td>\n",
       "            <td>462983685817</td>\n",
       "            <td>49634567641071</td>\n",
       "        </tr>\n",
       "        <tr>\n",
       "            <td>19</td>\n",
       "            <td>Ann Meaty</td>\n",
       "            <td>2</td>\n",
       "            <td>f</td>\n",
       "            <td>butcher</td>\n",
       "            <td>2280</td>\n",
       "            <td>friendly</td>\n",
       "            <td>251247264297</td>\n",
       "            <td>49634567641071</td>\n",
       "        </tr>\n",
       "    </tbody>\n",
       "</table>"
      ]
     },
     "execution_count": null,
     "metadata": {},
     "output_type": "execute_result"
    }
   ],
   "source": [
    "%%sql\n",
    "-- Hint. Some inhabitants are neither friendly or evil.\n",
    "SELECT *\n",
    "     , salt_023(sum(nn(hash)) OVER ()) AS token\n",
    "FROM inhabitant\n",
    "WHERE state != 'evil'"
   ]
  },
  {
   "cell_type": "code",
   "execution_count": null,
   "id": "156b546f",
   "metadata": {},
   "outputs": [
    {
     "data": {
      "text/html": [
       "<table>\n",
       "    <thead>\n",
       "        <tr>\n",
       "            <th>personid</th>\n",
       "            <th>name</th>\n",
       "            <th>villageid</th>\n",
       "            <th>gender</th>\n",
       "            <th>job</th>\n",
       "            <th>gold</th>\n",
       "            <th>state</th>\n",
       "            <th>hash</th>\n",
       "            <th>token</th>\n",
       "        </tr>\n",
       "    </thead>\n",
       "    <tbody>\n",
       "        <tr>\n",
       "            <td>5</td>\n",
       "            <td>Dirty Dieter</td>\n",
       "            <td>3</td>\n",
       "            <td>m</td>\n",
       "            <td>smith</td>\n",
       "            <td>650</td>\n",
       "            <td>evil</td>\n",
       "            <td>920149177207</td>\n",
       "            <td>48038106262884</td>\n",
       "        </tr>\n",
       "        <tr>\n",
       "            <td>6</td>\n",
       "            <td>Gerry Slaughterer</td>\n",
       "            <td>2</td>\n",
       "            <td>m</td>\n",
       "            <td>butcher</td>\n",
       "            <td>4850</td>\n",
       "            <td>evil</td>\n",
       "            <td>856968177321</td>\n",
       "            <td>48038106262884</td>\n",
       "        </tr>\n",
       "        <tr>\n",
       "            <td>7</td>\n",
       "            <td>Peter Slaughterer</td>\n",
       "            <td>3</td>\n",
       "            <td>m</td>\n",
       "            <td>butcher</td>\n",
       "            <td>3250</td>\n",
       "            <td>evil</td>\n",
       "            <td>681036005590</td>\n",
       "            <td>48038106262884</td>\n",
       "        </tr>\n",
       "        <tr>\n",
       "            <td>9</td>\n",
       "            <td>Tiffany Drummer</td>\n",
       "            <td>1</td>\n",
       "            <td>f</td>\n",
       "            <td>baker</td>\n",
       "            <td>550</td>\n",
       "            <td>evil</td>\n",
       "            <td>592129557518</td>\n",
       "            <td>48038106262884</td>\n",
       "        </tr>\n",
       "        <tr>\n",
       "            <td>11</td>\n",
       "            <td>Dirty Diane</td>\n",
       "            <td>3</td>\n",
       "            <td>f</td>\n",
       "            <td>farmer</td>\n",
       "            <td>10</td>\n",
       "            <td>evil</td>\n",
       "            <td>873885492698</td>\n",
       "            <td>48038106262884</td>\n",
       "        </tr>\n",
       "        <tr>\n",
       "            <td>14</td>\n",
       "            <td>Enrico Carpenter</td>\n",
       "            <td>3</td>\n",
       "            <td>m</td>\n",
       "            <td>weaponsmith</td>\n",
       "            <td>510</td>\n",
       "            <td>evil</td>\n",
       "            <td>342855603621</td>\n",
       "            <td>48038106262884</td>\n",
       "        </tr>\n",
       "        <tr>\n",
       "            <td>16</td>\n",
       "            <td>Ivy Hatter</td>\n",
       "            <td>1</td>\n",
       "            <td>f</td>\n",
       "            <td>dealer</td>\n",
       "            <td>770</td>\n",
       "            <td>evil</td>\n",
       "            <td>31678689780</td>\n",
       "            <td>48038106262884</td>\n",
       "        </tr>\n",
       "    </tbody>\n",
       "</table>"
      ]
     },
     "execution_count": null,
     "metadata": {},
     "output_type": "execute_result"
    }
   ],
   "source": [
    "%%sql\n",
    "-- Hint. Filter out the evil inhabitants, not the friendly ones.\n",
    "SELECT *\n",
    "     , salt_023(sum(nn(hash)) OVER ()) AS token\n",
    "FROM inhabitant\n",
    "WHERE state = 'evil'"
   ]
  },
  {
   "cell_type": "code",
   "execution_count": null,
   "id": "d91fdc85",
   "metadata": {},
   "outputs": [
    {
     "data": {
      "text/html": [
       "<table>\n",
       "    <thead>\n",
       "        <tr>\n",
       "            <th>personid</th>\n",
       "            <th>name</th>\n",
       "            <th>villageid</th>\n",
       "            <th>gender</th>\n",
       "            <th>job</th>\n",
       "            <th>gold</th>\n",
       "            <th>state</th>\n",
       "            <th>hash</th>\n",
       "            <th>token</th>\n",
       "        </tr>\n",
       "    </thead>\n",
       "    <tbody>\n",
       "        <tr>\n",
       "            <td>1</td>\n",
       "            <td>Paul Bakerman</td>\n",
       "            <td>1</td>\n",
       "            <td>m</td>\n",
       "            <td>baker</td>\n",
       "            <td>850</td>\n",
       "            <td>friendly</td>\n",
       "            <td>646611776879</td>\n",
       "            <td>36544000811616</td>\n",
       "        </tr>\n",
       "        <tr>\n",
       "            <td>2</td>\n",
       "            <td>Ernest Perry</td>\n",
       "            <td>3</td>\n",
       "            <td>m</td>\n",
       "            <td>weaponsmith</td>\n",
       "            <td>280</td>\n",
       "            <td>friendly</td>\n",
       "            <td>630197013484</td>\n",
       "            <td>36544000811616</td>\n",
       "        </tr>\n",
       "        <tr>\n",
       "            <td>3</td>\n",
       "            <td>Rita Ox</td>\n",
       "            <td>1</td>\n",
       "            <td>f</td>\n",
       "            <td>baker</td>\n",
       "            <td>350</td>\n",
       "            <td>friendly</td>\n",
       "            <td>589077802421</td>\n",
       "            <td>36544000811616</td>\n",
       "        </tr>\n",
       "        <tr>\n",
       "            <td>4</td>\n",
       "            <td>Carl Ox</td>\n",
       "            <td>1</td>\n",
       "            <td>m</td>\n",
       "            <td>merchant</td>\n",
       "            <td>250</td>\n",
       "            <td>friendly</td>\n",
       "            <td>850110253458</td>\n",
       "            <td>36544000811616</td>\n",
       "        </tr>\n",
       "        <tr>\n",
       "            <td>5</td>\n",
       "            <td>Dirty Dieter</td>\n",
       "            <td>3</td>\n",
       "            <td>m</td>\n",
       "            <td>smith</td>\n",
       "            <td>650</td>\n",
       "            <td>evil</td>\n",
       "            <td>920149177207</td>\n",
       "            <td>36544000811616</td>\n",
       "        </tr>\n",
       "        <tr>\n",
       "            <td>6</td>\n",
       "            <td>Gerry Slaughterer</td>\n",
       "            <td>2</td>\n",
       "            <td>m</td>\n",
       "            <td>butcher</td>\n",
       "            <td>4850</td>\n",
       "            <td>evil</td>\n",
       "            <td>856968177321</td>\n",
       "            <td>36544000811616</td>\n",
       "        </tr>\n",
       "        <tr>\n",
       "            <td>7</td>\n",
       "            <td>Peter Slaughterer</td>\n",
       "            <td>3</td>\n",
       "            <td>m</td>\n",
       "            <td>butcher</td>\n",
       "            <td>3250</td>\n",
       "            <td>evil</td>\n",
       "            <td>681036005590</td>\n",
       "            <td>36544000811616</td>\n",
       "        </tr>\n",
       "        <tr>\n",
       "            <td>8</td>\n",
       "            <td>Arthur Tailor</td>\n",
       "            <td>2</td>\n",
       "            <td>m</td>\n",
       "            <td>pilot</td>\n",
       "            <td>490</td>\n",
       "            <td>kidnapped</td>\n",
       "            <td>509268313479</td>\n",
       "            <td>36544000811616</td>\n",
       "        </tr>\n",
       "        <tr>\n",
       "            <td>9</td>\n",
       "            <td>Tiffany Drummer</td>\n",
       "            <td>1</td>\n",
       "            <td>f</td>\n",
       "            <td>baker</td>\n",
       "            <td>550</td>\n",
       "            <td>evil</td>\n",
       "            <td>592129557518</td>\n",
       "            <td>36544000811616</td>\n",
       "        </tr>\n",
       "        <tr>\n",
       "            <td>10</td>\n",
       "            <td>Peter Drummer</td>\n",
       "            <td>1</td>\n",
       "            <td>m</td>\n",
       "            <td>smith</td>\n",
       "            <td>600</td>\n",
       "            <td>friendly</td>\n",
       "            <td>445353142598</td>\n",
       "            <td>36544000811616</td>\n",
       "        </tr>\n",
       "        <tr>\n",
       "            <td>11</td>\n",
       "            <td>Dirty Diane</td>\n",
       "            <td>3</td>\n",
       "            <td>f</td>\n",
       "            <td>farmer</td>\n",
       "            <td>10</td>\n",
       "            <td>evil</td>\n",
       "            <td>873885492698</td>\n",
       "            <td>36544000811616</td>\n",
       "        </tr>\n",
       "        <tr>\n",
       "            <td>12</td>\n",
       "            <td>Otto Alexander</td>\n",
       "            <td>2</td>\n",
       "            <td>m</td>\n",
       "            <td>dealer</td>\n",
       "            <td>680</td>\n",
       "            <td>friendly</td>\n",
       "            <td>591142648847</td>\n",
       "            <td>36544000811616</td>\n",
       "        </tr>\n",
       "        <tr>\n",
       "            <td>13</td>\n",
       "            <td>Fred Dix</td>\n",
       "            <td>3</td>\n",
       "            <td>m</td>\n",
       "            <td>author</td>\n",
       "            <td>420</td>\n",
       "            <td>friendly</td>\n",
       "            <td>758537101048</td>\n",
       "            <td>36544000811616</td>\n",
       "        </tr>\n",
       "        <tr>\n",
       "            <td>14</td>\n",
       "            <td>Enrico Carpenter</td>\n",
       "            <td>3</td>\n",
       "            <td>m</td>\n",
       "            <td>weaponsmith</td>\n",
       "            <td>510</td>\n",
       "            <td>evil</td>\n",
       "            <td>342855603621</td>\n",
       "            <td>36544000811616</td>\n",
       "        </tr>\n",
       "        <tr>\n",
       "            <td>15</td>\n",
       "            <td>Helen Grasshead</td>\n",
       "            <td>2</td>\n",
       "            <td>f</td>\n",
       "            <td>dealer</td>\n",
       "            <td>680</td>\n",
       "            <td>friendly</td>\n",
       "            <td>152461466647</td>\n",
       "            <td>36544000811616</td>\n",
       "        </tr>\n",
       "        <tr>\n",
       "            <td>16</td>\n",
       "            <td>Ivy Hatter</td>\n",
       "            <td>1</td>\n",
       "            <td>f</td>\n",
       "            <td>dealer</td>\n",
       "            <td>770</td>\n",
       "            <td>evil</td>\n",
       "            <td>31678689780</td>\n",
       "            <td>36544000811616</td>\n",
       "        </tr>\n",
       "        <tr>\n",
       "            <td>17</td>\n",
       "            <td>Edward Grasshead</td>\n",
       "            <td>3</td>\n",
       "            <td>m</td>\n",
       "            <td>butcher</td>\n",
       "            <td>990</td>\n",
       "            <td>friendly</td>\n",
       "            <td>143447863181</td>\n",
       "            <td>36544000811616</td>\n",
       "        </tr>\n",
       "        <tr>\n",
       "            <td>18</td>\n",
       "            <td>Ryan Horse</td>\n",
       "            <td>3</td>\n",
       "            <td>m</td>\n",
       "            <td>blacksmith</td>\n",
       "            <td>390</td>\n",
       "            <td>friendly</td>\n",
       "            <td>462983685817</td>\n",
       "            <td>36544000811616</td>\n",
       "        </tr>\n",
       "        <tr>\n",
       "            <td>19</td>\n",
       "            <td>Ann Meaty</td>\n",
       "            <td>2</td>\n",
       "            <td>f</td>\n",
       "            <td>butcher</td>\n",
       "            <td>2280</td>\n",
       "            <td>friendly</td>\n",
       "            <td>251247264297</td>\n",
       "            <td>36544000811616</td>\n",
       "        </tr>\n",
       "    </tbody>\n",
       "</table>"
      ]
     },
     "execution_count": null,
     "metadata": {},
     "output_type": "execute_result"
    }
   ],
   "source": [
    "%%sql\n",
    "-- Hint. Filter out the evil inhabitants.\n",
    "SELECT *\n",
    "     , salt_023(sum(nn(hash)) OVER ()) AS token\n",
    "FROM inhabitant"
   ]
  },
  {
   "cell_type": "markdown",
   "id": "427697c5",
   "metadata": {},
   "source": [
    "### Boolean operator `AND`"
   ]
  },
  {
   "cell_type": "markdown",
   "id": "65943baa",
   "metadata": {},
   "source": [
    "**Episode [060].**\n",
    "There is no way around getting a sword for myself. "
   ]
  },
  {
   "cell_type": "markdown",
   "id": "223775f1",
   "metadata": {},
   "source": [
    "**Statement.** Now try to find a friendly weaponsmith to forge you one.\n",
    "\n",
    "_Tip._ You can combine predicates in the `WHERE` clause with `AND`."
   ]
  },
  {
   "cell_type": "code",
   "execution_count": null,
   "id": "617549f8",
   "metadata": {},
   "outputs": [
    {
     "data": {
      "text/html": [
       "<table>\n",
       "    <thead>\n",
       "        <tr>\n",
       "            <th>personid</th>\n",
       "            <th>name</th>\n",
       "            <th>villageid</th>\n",
       "            <th>gender</th>\n",
       "            <th>job</th>\n",
       "            <th>gold</th>\n",
       "            <th>state</th>\n",
       "            <th>hash</th>\n",
       "            <th>token</th>\n",
       "        </tr>\n",
       "    </thead>\n",
       "    <tbody>\n",
       "        <tr>\n",
       "            <td>2</td>\n",
       "            <td>Ernest Perry</td>\n",
       "            <td>3</td>\n",
       "            <td>m</td>\n",
       "            <td>weaponsmith</td>\n",
       "            <td>280</td>\n",
       "            <td>friendly</td>\n",
       "            <td>630197013484</td>\n",
       "            <td>111347585921835</td>\n",
       "        </tr>\n",
       "    </tbody>\n",
       "</table>"
      ]
     },
     "execution_count": null,
     "metadata": {},
     "output_type": "execute_result"
    }
   ],
   "source": [
    "%%sql\n",
    "SELECT *\n",
    "     , salt_060(sum(nn(hash)) OVER ()) AS token\n",
    "FROM inhabitant\n",
    "WHERE state = 'friendly'\n",
    "    AND job = 'weaponsmith'\n",
    "--> Episode [069]"
   ]
  },
  {
   "cell_type": "markdown",
   "id": "9966fa34",
   "metadata": {},
   "source": [
    "### Comparison operator `LIKE`"
   ]
  },
  {
   "cell_type": "markdown",
   "id": "6fa0da5c",
   "metadata": {},
   "source": [
    "**Episode [069].**\n",
    "Hm, that's very few."
   ]
  },
  {
   "cell_type": "markdown",
   "id": "8731ff98",
   "metadata": {},
   "source": [
    "**Statement.** Maybe other friendly smiths can help you out, e.g. a blacksmith.\n",
    "\n",
    "_Tip._ Try out: job LIKE '%smith' to find all inhabitants whose job ends with 'smith' (% is a wildcard for any number of characters)."
   ]
  },
  {
   "cell_type": "code",
   "execution_count": null,
   "id": "23c59067",
   "metadata": {},
   "outputs": [
    {
     "data": {
      "text/html": [
       "<table>\n",
       "    <thead>\n",
       "        <tr>\n",
       "            <th>personid</th>\n",
       "            <th>name</th>\n",
       "            <th>villageid</th>\n",
       "            <th>gender</th>\n",
       "            <th>job</th>\n",
       "            <th>gold</th>\n",
       "            <th>state</th>\n",
       "            <th>hash</th>\n",
       "            <th>token</th>\n",
       "        </tr>\n",
       "    </thead>\n",
       "    <tbody>\n",
       "        <tr>\n",
       "            <td>2</td>\n",
       "            <td>Ernest Perry</td>\n",
       "            <td>3</td>\n",
       "            <td>m</td>\n",
       "            <td>weaponsmith</td>\n",
       "            <td>280</td>\n",
       "            <td>friendly</td>\n",
       "            <td>630197013484</td>\n",
       "            <td>71493821063775</td>\n",
       "        </tr>\n",
       "        <tr>\n",
       "            <td>10</td>\n",
       "            <td>Peter Drummer</td>\n",
       "            <td>1</td>\n",
       "            <td>m</td>\n",
       "            <td>smith</td>\n",
       "            <td>600</td>\n",
       "            <td>friendly</td>\n",
       "            <td>445353142598</td>\n",
       "            <td>71493821063775</td>\n",
       "        </tr>\n",
       "        <tr>\n",
       "            <td>18</td>\n",
       "            <td>Ryan Horse</td>\n",
       "            <td>3</td>\n",
       "            <td>m</td>\n",
       "            <td>blacksmith</td>\n",
       "            <td>390</td>\n",
       "            <td>friendly</td>\n",
       "            <td>462983685817</td>\n",
       "            <td>71493821063775</td>\n",
       "        </tr>\n",
       "    </tbody>\n",
       "</table>"
      ]
     },
     "execution_count": null,
     "metadata": {},
     "output_type": "execute_result"
    }
   ],
   "source": [
    "%%sql\n",
    "SELECT *\n",
    "     , salt_069(sum(nn(hash)) OVER ()) AS token\n",
    "FROM inhabitant\n",
    "WHERE state = 'friendly'\n",
    "    AND job LIKE '%smith'\n",
    "--> Episode [090]"
   ]
  },
  {
   "cell_type": "code",
   "execution_count": null,
   "id": "608298c3",
   "metadata": {},
   "outputs": [
    {
     "data": {
      "text/html": [
       "<table>\n",
       "    <thead>\n",
       "        <tr>\n",
       "            <th>personid</th>\n",
       "            <th>name</th>\n",
       "            <th>villageid</th>\n",
       "            <th>gender</th>\n",
       "            <th>job</th>\n",
       "            <th>gold</th>\n",
       "            <th>state</th>\n",
       "            <th>hash</th>\n",
       "            <th>token</th>\n",
       "        </tr>\n",
       "    </thead>\n",
       "    <tbody>\n",
       "        <tr>\n",
       "            <td>10</td>\n",
       "            <td>Peter Drummer</td>\n",
       "            <td>1</td>\n",
       "            <td>m</td>\n",
       "            <td>smith</td>\n",
       "            <td>600</td>\n",
       "            <td>friendly</td>\n",
       "            <td>445353142598</td>\n",
       "            <td>70387888034034</td>\n",
       "        </tr>\n",
       "    </tbody>\n",
       "</table>"
      ]
     },
     "execution_count": null,
     "metadata": {},
     "output_type": "execute_result"
    }
   ],
   "source": [
    "%%sql\n",
    "-- Hint. Keep all villagers whose job's name ends with 'smith' (e.g., 'smith', 'blacksmith', etc.).\n",
    "SELECT *\n",
    "     , salt_069(sum(nn(hash)) OVER ()) AS token\n",
    "FROM inhabitant\n",
    "WHERE state = 'friendly'\n",
    "    AND job LIKE 'smith'"
   ]
  },
  {
   "cell_type": "code",
   "execution_count": null,
   "id": "3b87fd91",
   "metadata": {},
   "outputs": [
    {
     "data": {
      "text/html": [
       "<table>\n",
       "    <thead>\n",
       "        <tr>\n",
       "            <th>personid</th>\n",
       "            <th>name</th>\n",
       "            <th>villageid</th>\n",
       "            <th>gender</th>\n",
       "            <th>job</th>\n",
       "            <th>gold</th>\n",
       "            <th>state</th>\n",
       "            <th>hash</th>\n",
       "            <th>token</th>\n",
       "        </tr>\n",
       "    </thead>\n",
       "    <tbody>\n",
       "        <tr>\n",
       "            <td>1</td>\n",
       "            <td>Paul Bakerman</td>\n",
       "            <td>1</td>\n",
       "            <td>m</td>\n",
       "            <td>baker</td>\n",
       "            <td>850</td>\n",
       "            <td>friendly</td>\n",
       "            <td>646611776879</td>\n",
       "            <td>76307533465793</td>\n",
       "        </tr>\n",
       "        <tr>\n",
       "            <td>2</td>\n",
       "            <td>Ernest Perry</td>\n",
       "            <td>3</td>\n",
       "            <td>m</td>\n",
       "            <td>weaponsmith</td>\n",
       "            <td>280</td>\n",
       "            <td>friendly</td>\n",
       "            <td>630197013484</td>\n",
       "            <td>76307533465793</td>\n",
       "        </tr>\n",
       "        <tr>\n",
       "            <td>3</td>\n",
       "            <td>Rita Ox</td>\n",
       "            <td>1</td>\n",
       "            <td>f</td>\n",
       "            <td>baker</td>\n",
       "            <td>350</td>\n",
       "            <td>friendly</td>\n",
       "            <td>589077802421</td>\n",
       "            <td>76307533465793</td>\n",
       "        </tr>\n",
       "        <tr>\n",
       "            <td>4</td>\n",
       "            <td>Carl Ox</td>\n",
       "            <td>1</td>\n",
       "            <td>m</td>\n",
       "            <td>merchant</td>\n",
       "            <td>250</td>\n",
       "            <td>friendly</td>\n",
       "            <td>850110253458</td>\n",
       "            <td>76307533465793</td>\n",
       "        </tr>\n",
       "        <tr>\n",
       "            <td>10</td>\n",
       "            <td>Peter Drummer</td>\n",
       "            <td>1</td>\n",
       "            <td>m</td>\n",
       "            <td>smith</td>\n",
       "            <td>600</td>\n",
       "            <td>friendly</td>\n",
       "            <td>445353142598</td>\n",
       "            <td>76307533465793</td>\n",
       "        </tr>\n",
       "        <tr>\n",
       "            <td>12</td>\n",
       "            <td>Otto Alexander</td>\n",
       "            <td>2</td>\n",
       "            <td>m</td>\n",
       "            <td>dealer</td>\n",
       "            <td>680</td>\n",
       "            <td>friendly</td>\n",
       "            <td>591142648847</td>\n",
       "            <td>76307533465793</td>\n",
       "        </tr>\n",
       "        <tr>\n",
       "            <td>13</td>\n",
       "            <td>Fred Dix</td>\n",
       "            <td>3</td>\n",
       "            <td>m</td>\n",
       "            <td>author</td>\n",
       "            <td>420</td>\n",
       "            <td>friendly</td>\n",
       "            <td>758537101048</td>\n",
       "            <td>76307533465793</td>\n",
       "        </tr>\n",
       "        <tr>\n",
       "            <td>15</td>\n",
       "            <td>Helen Grasshead</td>\n",
       "            <td>2</td>\n",
       "            <td>f</td>\n",
       "            <td>dealer</td>\n",
       "            <td>680</td>\n",
       "            <td>friendly</td>\n",
       "            <td>152461466647</td>\n",
       "            <td>76307533465793</td>\n",
       "        </tr>\n",
       "        <tr>\n",
       "            <td>17</td>\n",
       "            <td>Edward Grasshead</td>\n",
       "            <td>3</td>\n",
       "            <td>m</td>\n",
       "            <td>butcher</td>\n",
       "            <td>990</td>\n",
       "            <td>friendly</td>\n",
       "            <td>143447863181</td>\n",
       "            <td>76307533465793</td>\n",
       "        </tr>\n",
       "        <tr>\n",
       "            <td>18</td>\n",
       "            <td>Ryan Horse</td>\n",
       "            <td>3</td>\n",
       "            <td>m</td>\n",
       "            <td>blacksmith</td>\n",
       "            <td>390</td>\n",
       "            <td>friendly</td>\n",
       "            <td>462983685817</td>\n",
       "            <td>76307533465793</td>\n",
       "        </tr>\n",
       "        <tr>\n",
       "            <td>19</td>\n",
       "            <td>Ann Meaty</td>\n",
       "            <td>2</td>\n",
       "            <td>f</td>\n",
       "            <td>butcher</td>\n",
       "            <td>2280</td>\n",
       "            <td>friendly</td>\n",
       "            <td>251247264297</td>\n",
       "            <td>76307533465793</td>\n",
       "        </tr>\n",
       "    </tbody>\n",
       "</table>"
      ]
     },
     "execution_count": null,
     "metadata": {},
     "output_type": "execute_result"
    }
   ],
   "source": [
    "%%sql\n",
    "-- Hint. Filter out the villagers whose job's name doesn't ends with 'smith'.\n",
    "SELECT *\n",
    "     , salt_069(sum(nn(hash)) OVER ()) AS token\n",
    "FROM inhabitant\n",
    "WHERE state = 'friendly'"
   ]
  },
  {
   "cell_type": "code",
   "execution_count": null,
   "id": "efd7ae8b",
   "metadata": {},
   "outputs": [
    {
     "data": {
      "text/html": [
       "<table>\n",
       "    <thead>\n",
       "        <tr>\n",
       "            <th>personid</th>\n",
       "            <th>name</th>\n",
       "            <th>villageid</th>\n",
       "            <th>gender</th>\n",
       "            <th>job</th>\n",
       "            <th>gold</th>\n",
       "            <th>state</th>\n",
       "            <th>hash</th>\n",
       "            <th>token</th>\n",
       "        </tr>\n",
       "    </thead>\n",
       "    <tbody>\n",
       "        <tr>\n",
       "            <td>2</td>\n",
       "            <td>Ernest Perry</td>\n",
       "            <td>3</td>\n",
       "            <td>m</td>\n",
       "            <td>weaponsmith</td>\n",
       "            <td>280</td>\n",
       "            <td>friendly</td>\n",
       "            <td>630197013484</td>\n",
       "            <td>73596625706163</td>\n",
       "        </tr>\n",
       "        <tr>\n",
       "            <td>5</td>\n",
       "            <td>Dirty Dieter</td>\n",
       "            <td>3</td>\n",
       "            <td>m</td>\n",
       "            <td>smith</td>\n",
       "            <td>650</td>\n",
       "            <td>evil</td>\n",
       "            <td>920149177207</td>\n",
       "            <td>73596625706163</td>\n",
       "        </tr>\n",
       "        <tr>\n",
       "            <td>10</td>\n",
       "            <td>Peter Drummer</td>\n",
       "            <td>1</td>\n",
       "            <td>m</td>\n",
       "            <td>smith</td>\n",
       "            <td>600</td>\n",
       "            <td>friendly</td>\n",
       "            <td>445353142598</td>\n",
       "            <td>73596625706163</td>\n",
       "        </tr>\n",
       "        <tr>\n",
       "            <td>14</td>\n",
       "            <td>Enrico Carpenter</td>\n",
       "            <td>3</td>\n",
       "            <td>m</td>\n",
       "            <td>weaponsmith</td>\n",
       "            <td>510</td>\n",
       "            <td>evil</td>\n",
       "            <td>342855603621</td>\n",
       "            <td>73596625706163</td>\n",
       "        </tr>\n",
       "        <tr>\n",
       "            <td>18</td>\n",
       "            <td>Ryan Horse</td>\n",
       "            <td>3</td>\n",
       "            <td>m</td>\n",
       "            <td>blacksmith</td>\n",
       "            <td>390</td>\n",
       "            <td>friendly</td>\n",
       "            <td>462983685817</td>\n",
       "            <td>73596625706163</td>\n",
       "        </tr>\n",
       "    </tbody>\n",
       "</table>"
      ]
     },
     "execution_count": null,
     "metadata": {},
     "output_type": "execute_result"
    }
   ],
   "source": [
    "%%sql\n",
    "-- Hint. Filter out the villagers which are not friendly.\n",
    "SELECT *\n",
    "     , salt_069(sum(nn(hash)) OVER ()) AS token\n",
    "FROM inhabitant\n",
    "WHERE job LIKE '%smith'"
   ]
  },
  {
   "cell_type": "markdown",
   "id": "3115a375",
   "metadata": {},
   "source": [
    "## `INSERT`"
   ]
  },
  {
   "cell_type": "markdown",
   "id": "81113dba",
   "metadata": {},
   "source": [
    "**Episode [090].**\n",
    "That looks better! I will go and visit those smiths.\n",
    "\n",
    "– Hi stranger! Where are you going? I'm Paul, I'm the major of Monkeycity. I will go ahead and register you as a citizen.\n",
    "\n",
    "```sql\n",
    "INSERT INTO inhabitant (name, villageid, gender, job, gold, state) VALUES ('Stranger', 1, '?', '?', 0, '?')\n",
    "```\n",
    "\n",
    "– No need to call me stranger!"
   ]
  },
  {
   "cell_type": "markdown",
   "id": "c2eb84e6",
   "metadata": {},
   "source": [
    "**Statement.** First, execute the `INSERT` statement. Then, look for your personid.\n",
    "\n",
    "_Tip._ In former queries, the * stands for: all columns. Instead of the star, you can also address one or more columns (separated by a comma) and you will only get the columns you need."
   ]
  },
  {
   "cell_type": "code",
   "execution_count": null,
   "id": "b55aed2a",
   "metadata": {},
   "outputs": [
    {
     "data": {
      "text/html": [
       "<span style=\"color: green\">1 rows affected.</span>"
      ],
      "text/plain": [
       "1 rows affected."
      ]
     },
     "metadata": {},
     "output_type": "display_data"
    },
    {
     "data": {
      "text/html": [
       "<table>\n",
       "    <thead>\n",
       "        <tr>\n",
       "            <th>personid</th>\n",
       "            <th>token</th>\n",
       "        </tr>\n",
       "    </thead>\n",
       "    <tbody>\n",
       "        <tr>\n",
       "            <td>20</td>\n",
       "            <td>30398186716581</td>\n",
       "        </tr>\n",
       "    </tbody>\n",
       "</table>"
      ]
     },
     "execution_count": null,
     "metadata": {},
     "output_type": "execute_result"
    }
   ],
   "source": [
    "%%sql\n",
    "INSERT INTO inhabitant (name, villageid, gender, job, gold, state)\n",
    "VALUES ('Stranger', 1, '?', '?', 0, '?');\n",
    "\n",
    "\n",
    "SELECT personid\n",
    "     , salt_090(sum(nn(hash)) OVER ()) AS token\n",
    "FROM inhabitant\n",
    "WHERE name = 'Stranger';\n",
    "--> Episode [099]"
   ]
  },
  {
   "cell_type": "code",
   "execution_count": null,
   "id": "ecea517e",
   "metadata": {},
   "outputs": [
    {
     "data": {
      "text/html": [
       "<span style=\"color: green\">1 rows affected.</span>"
      ],
      "text/plain": [
       "1 rows affected."
      ]
     },
     "metadata": {},
     "output_type": "display_data"
    },
    {
     "data": {
      "text/html": [
       "<table>\n",
       "    <thead>\n",
       "        <tr>\n",
       "            <th>personid</th>\n",
       "            <th>token</th>\n",
       "        </tr>\n",
       "    </thead>\n",
       "    <tbody>\n",
       "        <tr>\n",
       "            <td>20</td>\n",
       "            <td>30529521407667</td>\n",
       "        </tr>\n",
       "        <tr>\n",
       "            <td>21</td>\n",
       "            <td>30529521407667</td>\n",
       "        </tr>\n",
       "    </tbody>\n",
       "</table>"
      ]
     },
     "execution_count": null,
     "metadata": {},
     "output_type": "execute_result"
    }
   ],
   "source": [
    "%%sql\n",
    "-- Hint. Oops, it seems you have executed the `INSERT` statement twice or more.\n",
    "-- Execute the following queries to cancel all these insertions:\n",
    "-- DELETE from inhabitant WHERE name = 'Stranger';\n",
    "-- RESET inhabitant;\n",
    "INSERT INTO inhabitant (name, villageid, gender, job, gold, state)\n",
    "VALUES ('Stranger', 1, '?', '?', 0, '?');\n",
    "\n",
    "SELECT personid\n",
    "     , salt_090(sum(nn(hash)) OVER ()) AS token\n",
    "FROM inhabitant\n",
    "WHERE name = 'Stranger';"
   ]
  },
  {
   "cell_type": "code",
   "execution_count": null,
   "id": "2a8edf75",
   "metadata": {},
   "outputs": [
    {
     "data": {
      "text/html": [
       "<span style=\"color: green\">1 rows affected.</span>"
      ],
      "text/plain": [
       "1 rows affected."
      ]
     },
     "metadata": {},
     "output_type": "display_data"
    },
    {
     "data": {
      "text/html": [
       "<table>\n",
       "    <thead>\n",
       "        <tr>\n",
       "            <th>personid</th>\n",
       "            <th>token</th>\n",
       "        </tr>\n",
       "    </thead>\n",
       "    <tbody>\n",
       "        <tr>\n",
       "            <td>20</td>\n",
       "            <td>29198809911474</td>\n",
       "        </tr>\n",
       "        <tr>\n",
       "            <td>21</td>\n",
       "            <td>29198809911474</td>\n",
       "        </tr>\n",
       "        <tr>\n",
       "            <td>22</td>\n",
       "            <td>29198809911474</td>\n",
       "        </tr>\n",
       "    </tbody>\n",
       "</table>"
      ]
     },
     "execution_count": null,
     "metadata": {},
     "output_type": "execute_result"
    }
   ],
   "source": [
    "%%sql\n",
    "-- Hint. Oops, it seems you have executed the `INSERT` statement twice or more.\n",
    "-- Execute the following queries to cancel all these insertions:\n",
    "-- DELETE from inhabitant WHERE name = 'Stranger';\n",
    "-- RESET inhabitant;\n",
    "INSERT INTO inhabitant (name, villageid, gender, job, gold, state)\n",
    "VALUES ('Stranger', 1, '?', '?', 0, '?');\n",
    "\n",
    "SELECT personid\n",
    "     , salt_090(sum(nn(hash)) OVER ()) AS token\n",
    "FROM inhabitant\n",
    "WHERE name = 'Stranger';"
   ]
  },
  {
   "cell_type": "code",
   "execution_count": null,
   "id": "276396bb",
   "metadata": {},
   "outputs": [
    {
     "data": {
      "text/html": [
       "<span style=\"color: green\">1 rows affected.</span>"
      ],
      "text/plain": [
       "1 rows affected."
      ]
     },
     "metadata": {},
     "output_type": "display_data"
    },
    {
     "data": {
      "text/html": [
       "<table>\n",
       "    <thead>\n",
       "        <tr>\n",
       "            <th>personid</th>\n",
       "            <th>token</th>\n",
       "        </tr>\n",
       "    </thead>\n",
       "    <tbody>\n",
       "        <tr>\n",
       "            <td>20</td>\n",
       "            <td>29560835575636</td>\n",
       "        </tr>\n",
       "        <tr>\n",
       "            <td>21</td>\n",
       "            <td>29560835575636</td>\n",
       "        </tr>\n",
       "        <tr>\n",
       "            <td>22</td>\n",
       "            <td>29560835575636</td>\n",
       "        </tr>\n",
       "        <tr>\n",
       "            <td>23</td>\n",
       "            <td>29560835575636</td>\n",
       "        </tr>\n",
       "    </tbody>\n",
       "</table>"
      ]
     },
     "execution_count": null,
     "metadata": {},
     "output_type": "execute_result"
    }
   ],
   "source": [
    "%%sql\n",
    "-- Hint. Oops, it seems you have executed the `INSERT` statement twice or more.\n",
    "-- Execute the following queries to cancel all these insertions:\n",
    "-- DELETE from inhabitant WHERE name = 'Stranger';\n",
    "-- RESET inhabitant;\n",
    "INSERT INTO inhabitant (name, villageid, gender, job, gold, state)\n",
    "VALUES ('Stranger', 1, '?', '?', 0, '?');\n",
    "\n",
    "SELECT personid\n",
    "     , salt_090(sum(nn(hash)) OVER ()) AS token\n",
    "FROM inhabitant\n",
    "WHERE name = 'Stranger';"
   ]
  },
  {
   "cell_type": "code",
   "execution_count": null,
   "id": "cd6bec7b",
   "metadata": {},
   "outputs": [
    {
     "data": {
      "text/html": [
       "<span style=\"color: green\">1 rows affected.</span>"
      ],
      "text/plain": [
       "1 rows affected."
      ]
     },
     "metadata": {},
     "output_type": "display_data"
    },
    {
     "data": {
      "text/html": [
       "<table>\n",
       "    <thead>\n",
       "        <tr>\n",
       "            <th>personid</th>\n",
       "            <th>token</th>\n",
       "        </tr>\n",
       "    </thead>\n",
       "    <tbody>\n",
       "        <tr>\n",
       "            <td>20</td>\n",
       "            <td>28658891523095</td>\n",
       "        </tr>\n",
       "        <tr>\n",
       "            <td>21</td>\n",
       "            <td>28658891523095</td>\n",
       "        </tr>\n",
       "        <tr>\n",
       "            <td>22</td>\n",
       "            <td>28658891523095</td>\n",
       "        </tr>\n",
       "        <tr>\n",
       "            <td>23</td>\n",
       "            <td>28658891523095</td>\n",
       "        </tr>\n",
       "        <tr>\n",
       "            <td>24</td>\n",
       "            <td>28658891523095</td>\n",
       "        </tr>\n",
       "    </tbody>\n",
       "</table>"
      ]
     },
     "execution_count": null,
     "metadata": {},
     "output_type": "execute_result"
    }
   ],
   "source": [
    "%%sql\n",
    "-- Hint. Oops, it seems you have executed the `INSERT` statement twice or more.\n",
    "-- Execute the following queries to cancel all these insertions:\n",
    "-- DELETE from inhabitant WHERE name = 'Stranger';\n",
    "-- RESET inhabitant;\n",
    "INSERT INTO inhabitant (name, villageid, gender, job, gold, state)\n",
    "VALUES ('Stranger', 1, '?', '?', 0, '?');\n",
    "\n",
    "SELECT personid\n",
    "     , salt_090(sum(nn(hash)) OVER ()) AS token\n",
    "FROM inhabitant\n",
    "WHERE name = 'Stranger';"
   ]
  },
  {
   "cell_type": "code",
   "execution_count": null,
   "id": "747b2fec",
   "metadata": {},
   "outputs": [
    {
     "data": {
      "text/html": [
       "<span style=\"color: green\">5 rows affected.</span>"
      ],
      "text/plain": [
       "5 rows affected."
      ]
     },
     "metadata": {},
     "output_type": "display_data"
    },
    {
     "data": {
      "text/html": [
       "<span style=\"color: green\">1 rows affected.</span>"
      ],
      "text/plain": [
       "1 rows affected."
      ]
     },
     "metadata": {},
     "output_type": "display_data"
    },
    {
     "data": {
      "text/html": [
       "<table>\n",
       "    <thead>\n",
       "        <tr>\n",
       "        </tr>\n",
       "    </thead>\n",
       "    <tbody>\n",
       "    </tbody>\n",
       "</table>"
      ],
      "text/plain": [
       "++\n",
       "||\n",
       "++\n",
       "++"
      ]
     },
     "execution_count": null,
     "metadata": {},
     "output_type": "execute_result"
    }
   ],
   "source": [
    "%%sql\n",
    "-- Action. Fix mutiple insertions of the same record.\n",
    "DELETE FROM inhabitant WHERE name = 'Stranger';\n",
    "REINDEX inhabitant;\n",
    "\n",
    "\n",
    "INSERT INTO inhabitant (name, villageid, gender, job, gold, state)\n",
    "VALUES ('Stranger', 1, '?', '?', 0, '?');"
   ]
  },
  {
   "cell_type": "markdown",
   "id": "c8891e97",
   "metadata": {},
   "source": [
    "## `WHERE` (again)"
   ]
  },
  {
   "cell_type": "markdown",
   "id": "8431aae6",
   "metadata": {},
   "source": [
    "### Comparison operator `=`"
   ]
  },
  {
   "cell_type": "markdown",
   "id": "4bc4c9e5",
   "metadata": {},
   "source": [
    "**Episode [099].**\n",
    "\n",
    "– Hi Ernest! How much is a sword?  \n",
    "– I can offer to make you a sword for 150 gold. That's the cheapest you will find!"
   ]
  },
  {
   "cell_type": "markdown",
   "id": "4f944864",
   "metadata": {},
   "source": [
    "**Statement.** How much gold do you have?"
   ]
  },
  {
   "cell_type": "code",
   "execution_count": null,
   "id": "7edd9bfb",
   "metadata": {},
   "outputs": [
    {
     "data": {
      "text/html": [
       "<table>\n",
       "    <thead>\n",
       "        <tr>\n",
       "            <th>gold</th>\n",
       "            <th>token</th>\n",
       "        </tr>\n",
       "    </thead>\n",
       "    <tbody>\n",
       "        <tr>\n",
       "            <td>0</td>\n",
       "            <td>8348573347279</td>\n",
       "        </tr>\n",
       "    </tbody>\n",
       "</table>"
      ]
     },
     "execution_count": null,
     "metadata": {},
     "output_type": "execute_result"
    }
   ],
   "source": [
    "%%sql\n",
    "SELECT gold\n",
    "     , salt_099(sum(nn(hash)) OVER ()) AS token\n",
    "FROM inhabitant\n",
    "WHERE personid = 20\n",
    "--> Episode [073]"
   ]
  },
  {
   "cell_type": "code",
   "execution_count": null,
   "id": "849b0eb7",
   "metadata": {},
   "outputs": [
    {
     "data": {
      "text/html": [
       "<table>\n",
       "    <thead>\n",
       "        <tr>\n",
       "            <th>personid</th>\n",
       "            <th>gold</th>\n",
       "            <th>token</th>\n",
       "        </tr>\n",
       "    </thead>\n",
       "    <tbody>\n",
       "        <tr>\n",
       "            <td>1</td>\n",
       "            <td>850</td>\n",
       "            <td>16427621247298</td>\n",
       "        </tr>\n",
       "        <tr>\n",
       "            <td>2</td>\n",
       "            <td>280</td>\n",
       "            <td>16427621247298</td>\n",
       "        </tr>\n",
       "        <tr>\n",
       "            <td>3</td>\n",
       "            <td>350</td>\n",
       "            <td>16427621247298</td>\n",
       "        </tr>\n",
       "        <tr>\n",
       "            <td>4</td>\n",
       "            <td>250</td>\n",
       "            <td>16427621247298</td>\n",
       "        </tr>\n",
       "        <tr>\n",
       "            <td>5</td>\n",
       "            <td>650</td>\n",
       "            <td>16427621247298</td>\n",
       "        </tr>\n",
       "        <tr>\n",
       "            <td>6</td>\n",
       "            <td>4850</td>\n",
       "            <td>16427621247298</td>\n",
       "        </tr>\n",
       "        <tr>\n",
       "            <td>7</td>\n",
       "            <td>3250</td>\n",
       "            <td>16427621247298</td>\n",
       "        </tr>\n",
       "        <tr>\n",
       "            <td>8</td>\n",
       "            <td>490</td>\n",
       "            <td>16427621247298</td>\n",
       "        </tr>\n",
       "        <tr>\n",
       "            <td>9</td>\n",
       "            <td>550</td>\n",
       "            <td>16427621247298</td>\n",
       "        </tr>\n",
       "        <tr>\n",
       "            <td>10</td>\n",
       "            <td>600</td>\n",
       "            <td>16427621247298</td>\n",
       "        </tr>\n",
       "        <tr>\n",
       "            <td>11</td>\n",
       "            <td>10</td>\n",
       "            <td>16427621247298</td>\n",
       "        </tr>\n",
       "        <tr>\n",
       "            <td>12</td>\n",
       "            <td>680</td>\n",
       "            <td>16427621247298</td>\n",
       "        </tr>\n",
       "        <tr>\n",
       "            <td>13</td>\n",
       "            <td>420</td>\n",
       "            <td>16427621247298</td>\n",
       "        </tr>\n",
       "        <tr>\n",
       "            <td>14</td>\n",
       "            <td>510</td>\n",
       "            <td>16427621247298</td>\n",
       "        </tr>\n",
       "        <tr>\n",
       "            <td>15</td>\n",
       "            <td>680</td>\n",
       "            <td>16427621247298</td>\n",
       "        </tr>\n",
       "        <tr>\n",
       "            <td>16</td>\n",
       "            <td>770</td>\n",
       "            <td>16427621247298</td>\n",
       "        </tr>\n",
       "        <tr>\n",
       "            <td>17</td>\n",
       "            <td>990</td>\n",
       "            <td>16427621247298</td>\n",
       "        </tr>\n",
       "        <tr>\n",
       "            <td>18</td>\n",
       "            <td>390</td>\n",
       "            <td>16427621247298</td>\n",
       "        </tr>\n",
       "        <tr>\n",
       "            <td>19</td>\n",
       "            <td>2280</td>\n",
       "            <td>16427621247298</td>\n",
       "        </tr>\n",
       "        <tr>\n",
       "            <td>20</td>\n",
       "            <td>0</td>\n",
       "            <td>16427621247298</td>\n",
       "        </tr>\n",
       "    </tbody>\n",
       "</table>"
      ]
     },
     "execution_count": null,
     "metadata": {},
     "output_type": "execute_result"
    }
   ],
   "source": [
    "%%sql\n",
    "-- Hint. Restrict the result to the Stranger's row (personid: 20).\n",
    "SELECT personid, gold\n",
    "     , salt_099(sum(nn(hash)) OVER ()) AS token\n",
    "FROM inhabitant\n",
    "--> Episode [073]"
   ]
  },
  {
   "cell_type": "markdown",
   "id": "8ffc4ae4",
   "metadata": {},
   "source": [
    "### `IS NULL`"
   ]
  },
  {
   "cell_type": "markdown",
   "id": "15b0c171",
   "metadata": {},
   "source": [
    "**Episode [073].**\n",
    "Damn! No mon, no fun. There has to be another option to earn gold other than going to work. Maybe I could collect ownerless items and sell them!"
   ]
  },
  {
   "cell_type": "markdown",
   "id": "32dd51ca",
   "metadata": {},
   "source": [
    "**Statement.** Make a list of all items that don't belong to anyone.\n",
    "\n",
    "_Tip._ You can recognize ownerless items by: WHERE owner IS NULL"
   ]
  },
  {
   "cell_type": "code",
   "execution_count": null,
   "id": "26eb6e8a",
   "metadata": {},
   "outputs": [
    {
     "data": {
      "text/html": [
       "<table>\n",
       "    <thead>\n",
       "        <tr>\n",
       "            <th>item</th>\n",
       "            <th>owner</th>\n",
       "            <th>hash</th>\n",
       "            <th>token</th>\n",
       "        </tr>\n",
       "    </thead>\n",
       "    <tbody>\n",
       "        <tr>\n",
       "            <td>bucket</td>\n",
       "            <td>None</td>\n",
       "            <td>798643833227</td>\n",
       "            <td>250823105679734</td>\n",
       "        </tr>\n",
       "        <tr>\n",
       "            <td>carton</td>\n",
       "            <td>None</td>\n",
       "            <td>255607005723</td>\n",
       "            <td>250823105679734</td>\n",
       "        </tr>\n",
       "        <tr>\n",
       "            <td>coffee cup</td>\n",
       "            <td>None</td>\n",
       "            <td>975730919953</td>\n",
       "            <td>250823105679734</td>\n",
       "        </tr>\n",
       "        <tr>\n",
       "            <td>lightbulb</td>\n",
       "            <td>None</td>\n",
       "            <td>249640186289</td>\n",
       "            <td>250823105679734</td>\n",
       "        </tr>\n",
       "        <tr>\n",
       "            <td>ring</td>\n",
       "            <td>None</td>\n",
       "            <td>566337556816</td>\n",
       "            <td>250823105679734</td>\n",
       "        </tr>\n",
       "        <tr>\n",
       "            <td>teapot</td>\n",
       "            <td>None</td>\n",
       "            <td>687899054090</td>\n",
       "            <td>250823105679734</td>\n",
       "        </tr>\n",
       "    </tbody>\n",
       "</table>"
      ]
     },
     "execution_count": null,
     "metadata": {},
     "output_type": "execute_result"
    }
   ],
   "source": [
    "%%sql\n",
    "SELECT *\n",
    "     , salt_073(sum(nn(hash)) OVER ()) AS token\n",
    "FROM item\n",
    "WHERE owner IS NULL\n",
    "--> Episode [093]"
   ]
  },
  {
   "cell_type": "markdown",
   "id": "d691f30a",
   "metadata": {},
   "source": [
    "## `UPDATE`"
   ]
  },
  {
   "cell_type": "markdown",
   "id": "f746ce62",
   "metadata": {},
   "source": [
    "### `UPDATE` one row"
   ]
  },
  {
   "cell_type": "markdown",
   "id": "db59717a",
   "metadata": {},
   "source": [
    "**Episode [093].** So much cool stuff!\n",
    "\n",
    "Yay, a coffee cup. Let's collect it!\n",
    "\n",
    "```sql\n",
    "UPDATE item\n",
    "SET owner = 20\n",
    "WHERE item = 'coffee cup'\n",
    "```"
   ]
  },
  {
   "cell_type": "markdown",
   "id": "a57501d5",
   "metadata": {},
   "source": [
    "**Statement.** Execute the `UPDATE` statement, and check the `item` table afterwards."
   ]
  },
  {
   "cell_type": "code",
   "execution_count": null,
   "id": "693ac72d",
   "metadata": {},
   "outputs": [
    {
     "data": {
      "text/html": [
       "<span style=\"color: green\">1 rows affected.</span>"
      ],
      "text/plain": [
       "1 rows affected."
      ]
     },
     "metadata": {},
     "output_type": "display_data"
    },
    {
     "data": {
      "text/html": [
       "<table>\n",
       "    <thead>\n",
       "        <tr>\n",
       "            <th>item</th>\n",
       "            <th>owner</th>\n",
       "            <th>hash</th>\n",
       "            <th>token</th>\n",
       "        </tr>\n",
       "    </thead>\n",
       "    <tbody>\n",
       "        <tr>\n",
       "            <td>bucket</td>\n",
       "            <td>None</td>\n",
       "            <td>798643833227</td>\n",
       "            <td>112781382726964</td>\n",
       "        </tr>\n",
       "        <tr>\n",
       "            <td>carton</td>\n",
       "            <td>None</td>\n",
       "            <td>255607005723</td>\n",
       "            <td>112781382726964</td>\n",
       "        </tr>\n",
       "        <tr>\n",
       "            <td>coffee cup</td>\n",
       "            <td>20</td>\n",
       "            <td>316658990502</td>\n",
       "            <td>112781382726964</td>\n",
       "        </tr>\n",
       "        <tr>\n",
       "            <td>lightbulb</td>\n",
       "            <td>None</td>\n",
       "            <td>249640186289</td>\n",
       "            <td>112781382726964</td>\n",
       "        </tr>\n",
       "        <tr>\n",
       "            <td>ring</td>\n",
       "            <td>None</td>\n",
       "            <td>566337556816</td>\n",
       "            <td>112781382726964</td>\n",
       "        </tr>\n",
       "        <tr>\n",
       "            <td>teapot</td>\n",
       "            <td>None</td>\n",
       "            <td>687899054090</td>\n",
       "            <td>112781382726964</td>\n",
       "        </tr>\n",
       "        <tr>\n",
       "            <td>hammer</td>\n",
       "            <td>2</td>\n",
       "            <td>472208162722</td>\n",
       "            <td>112781382726964</td>\n",
       "        </tr>\n",
       "        <tr>\n",
       "            <td>cane</td>\n",
       "            <td>5</td>\n",
       "            <td>981554018809</td>\n",
       "            <td>112781382726964</td>\n",
       "        </tr>\n",
       "        <tr>\n",
       "            <td>rope</td>\n",
       "            <td>17</td>\n",
       "            <td>665590533694</td>\n",
       "            <td>112781382726964</td>\n",
       "        </tr>\n",
       "    </tbody>\n",
       "</table>"
      ]
     },
     "execution_count": null,
     "metadata": {},
     "output_type": "execute_result"
    }
   ],
   "source": [
    "%%sql\n",
    "UPDATE item\n",
    "SET owner = 20\n",
    "WHERE item = 'coffee cup';\n",
    "\n",
    "\n",
    "SELECT *\n",
    "     , salt_093(sum(nn(hash)) OVER ()) AS token\n",
    "FROM item\n",
    "--> Episode [033]"
   ]
  },
  {
   "cell_type": "markdown",
   "id": "6ea6c97a",
   "metadata": {},
   "source": [
    "### `UPDATE` several rows"
   ]
  },
  {
   "cell_type": "markdown",
   "id": "b154ebf0",
   "metadata": {},
   "source": [
    "**Episode [033].**"
   ]
  },
  {
   "cell_type": "markdown",
   "id": "107791bb",
   "metadata": {},
   "source": [
    "**Statement.** Do you know a trick how to collect all the ownerless items? Afterwards, list all of the items you own."
   ]
  },
  {
   "cell_type": "code",
   "execution_count": null,
   "id": "27f27d91",
   "metadata": {},
   "outputs": [
    {
     "data": {
      "text/html": [
       "<span style=\"color: green\">5 rows affected.</span>"
      ],
      "text/plain": [
       "5 rows affected."
      ]
     },
     "metadata": {},
     "output_type": "display_data"
    },
    {
     "data": {
      "text/html": [
       "<table>\n",
       "    <thead>\n",
       "        <tr>\n",
       "            <th>item</th>\n",
       "            <th>token</th>\n",
       "        </tr>\n",
       "    </thead>\n",
       "    <tbody>\n",
       "        <tr>\n",
       "            <td>bucket</td>\n",
       "            <td>140361992167979</td>\n",
       "        </tr>\n",
       "        <tr>\n",
       "            <td>carton</td>\n",
       "            <td>140361992167979</td>\n",
       "        </tr>\n",
       "        <tr>\n",
       "            <td>coffee cup</td>\n",
       "            <td>140361992167979</td>\n",
       "        </tr>\n",
       "        <tr>\n",
       "            <td>lightbulb</td>\n",
       "            <td>140361992167979</td>\n",
       "        </tr>\n",
       "        <tr>\n",
       "            <td>ring</td>\n",
       "            <td>140361992167979</td>\n",
       "        </tr>\n",
       "        <tr>\n",
       "            <td>teapot</td>\n",
       "            <td>140361992167979</td>\n",
       "        </tr>\n",
       "    </tbody>\n",
       "</table>"
      ]
     },
     "execution_count": null,
     "metadata": {},
     "output_type": "execute_result"
    }
   ],
   "source": [
    "%%sql\n",
    "UPDATE item\n",
    "SET owner = 20\n",
    "WHERE owner IS NULL;\n",
    "\n",
    "\n",
    "SELECT item\n",
    "     , salt_033(sum(nn(hash)) OVER ()) AS token\n",
    "FROM item\n",
    "WHERE owner = 20\n",
    "--> Episode [024]"
   ]
  },
  {
   "cell_type": "code",
   "execution_count": null,
   "id": "ae3fbbd3",
   "metadata": {},
   "outputs": [
    {
     "data": {
      "text/html": [
       "<table>\n",
       "    <thead>\n",
       "        <tr>\n",
       "            <th>item</th>\n",
       "            <th>token</th>\n",
       "        </tr>\n",
       "    </thead>\n",
       "    <tbody>\n",
       "        <tr>\n",
       "            <td>coffee cup</td>\n",
       "            <td>137567818264690</td>\n",
       "        </tr>\n",
       "    </tbody>\n",
       "</table>"
      ]
     },
     "execution_count": null,
     "metadata": {},
     "output_type": "execute_result"
    }
   ],
   "source": [
    "%%sql\n",
    "-- Hint. It seems you have failed to collect any other ownerless item. Remember: comparing to `NULL` with the `=`\n",
    "-- operator always returns... `NULL`. You need the special operator `IS` instead.\n",
    "SELECT item\n",
    "     , salt_033(sum(nn(hash)) OVER ()) AS token\n",
    "FROM item\n",
    "WHERE item = 'coffee cup'"
   ]
  },
  {
   "cell_type": "code",
   "execution_count": null,
   "id": "d9166052",
   "metadata": {},
   "outputs": [
    {
     "data": {
      "text/html": [
       "<table>\n",
       "    <thead>\n",
       "        <tr>\n",
       "            <th>item</th>\n",
       "            <th>token</th>\n",
       "        </tr>\n",
       "    </thead>\n",
       "    <tbody>\n",
       "        <tr>\n",
       "            <td>bucket</td>\n",
       "            <td>133844634368524</td>\n",
       "        </tr>\n",
       "        <tr>\n",
       "            <td>carton</td>\n",
       "            <td>133844634368524</td>\n",
       "        </tr>\n",
       "        <tr>\n",
       "            <td>coffee cup</td>\n",
       "            <td>133844634368524</td>\n",
       "        </tr>\n",
       "        <tr>\n",
       "            <td>lightbulb</td>\n",
       "            <td>133844634368524</td>\n",
       "        </tr>\n",
       "        <tr>\n",
       "            <td>ring</td>\n",
       "            <td>133844634368524</td>\n",
       "        </tr>\n",
       "        <tr>\n",
       "            <td>teapot</td>\n",
       "            <td>133844634368524</td>\n",
       "        </tr>\n",
       "        <tr>\n",
       "            <td>hammer</td>\n",
       "            <td>133844634368524</td>\n",
       "        </tr>\n",
       "        <tr>\n",
       "            <td>cane</td>\n",
       "            <td>133844634368524</td>\n",
       "        </tr>\n",
       "        <tr>\n",
       "            <td>rope</td>\n",
       "            <td>133844634368524</td>\n",
       "        </tr>\n",
       "    </tbody>\n",
       "</table>"
      ]
     },
     "execution_count": null,
     "metadata": {},
     "output_type": "execute_result"
    }
   ],
   "source": [
    "%%sql\n",
    "-- Hint. Restrict the result to the Stranger's rows (personid: 20).\n",
    "SELECT item\n",
    "     , salt_033(sum(nn(hash)) OVER ()) AS token\n",
    "FROM item"
   ]
  },
  {
   "cell_type": "code",
   "execution_count": null,
   "id": "ae328528",
   "metadata": {},
   "outputs": [
    {
     "data": {
      "text/html": [
       "<span style=\"color: green\">9 rows affected.</span>"
      ],
      "text/plain": [
       "9 rows affected."
      ]
     },
     "metadata": {},
     "output_type": "display_data"
    },
    {
     "data": {
      "text/html": [
       "<table>\n",
       "    <thead>\n",
       "        <tr>\n",
       "            <th>item</th>\n",
       "            <th>token</th>\n",
       "        </tr>\n",
       "    </thead>\n",
       "    <tbody>\n",
       "        <tr>\n",
       "            <td>bucket</td>\n",
       "            <td>134094834306231</td>\n",
       "        </tr>\n",
       "        <tr>\n",
       "            <td>carton</td>\n",
       "            <td>134094834306231</td>\n",
       "        </tr>\n",
       "        <tr>\n",
       "            <td>coffee cup</td>\n",
       "            <td>134094834306231</td>\n",
       "        </tr>\n",
       "        <tr>\n",
       "            <td>lightbulb</td>\n",
       "            <td>134094834306231</td>\n",
       "        </tr>\n",
       "        <tr>\n",
       "            <td>ring</td>\n",
       "            <td>134094834306231</td>\n",
       "        </tr>\n",
       "        <tr>\n",
       "            <td>teapot</td>\n",
       "            <td>134094834306231</td>\n",
       "        </tr>\n",
       "        <tr>\n",
       "            <td>hammer</td>\n",
       "            <td>134094834306231</td>\n",
       "        </tr>\n",
       "        <tr>\n",
       "            <td>cane</td>\n",
       "            <td>134094834306231</td>\n",
       "        </tr>\n",
       "        <tr>\n",
       "            <td>rope</td>\n",
       "            <td>134094834306231</td>\n",
       "        </tr>\n",
       "    </tbody>\n",
       "</table>"
      ]
     },
     "execution_count": null,
     "metadata": {},
     "output_type": "execute_result"
    }
   ],
   "source": [
    "%%sql\n",
    "UPDATE item\n",
    "SET owner = 20;\n",
    "\n",
    "\n",
    "SELECT item\n",
    "     , salt_033(sum(nn(hash)) OVER ()) AS token\n",
    "FROM item\n",
    "--> Episode [025]"
   ]
  },
  {
   "cell_type": "markdown",
   "id": "06c1d93f",
   "metadata": {},
   "source": [
    "**Episode [025].** So greedy! You've snapped up all items, even those that already had an owner."
   ]
  },
  {
   "cell_type": "markdown",
   "id": "b84ae11e",
   "metadata": {},
   "source": [
    "**Statement.** Let's give them back to their rightful owners: the cane to 5, the hammer to 2 and the rope to 17. Afterwards, list all of the items you own."
   ]
  },
  {
   "cell_type": "code",
   "execution_count": null,
   "id": "1f80b535",
   "metadata": {},
   "outputs": [
    {
     "data": {
      "text/html": [
       "<span style=\"color: green\">1 rows affected.</span>"
      ],
      "text/plain": [
       "1 rows affected."
      ]
     },
     "metadata": {},
     "output_type": "display_data"
    },
    {
     "data": {
      "text/html": [
       "<span style=\"color: green\">1 rows affected.</span>"
      ],
      "text/plain": [
       "1 rows affected."
      ]
     },
     "metadata": {},
     "output_type": "display_data"
    },
    {
     "data": {
      "text/html": [
       "<span style=\"color: green\">1 rows affected.</span>"
      ],
      "text/plain": [
       "1 rows affected."
      ]
     },
     "metadata": {},
     "output_type": "display_data"
    },
    {
     "data": {
      "text/html": [
       "<table>\n",
       "    <thead>\n",
       "        <tr>\n",
       "            <th>item</th>\n",
       "            <th>token</th>\n",
       "        </tr>\n",
       "    </thead>\n",
       "    <tbody>\n",
       "        <tr>\n",
       "            <td>bucket</td>\n",
       "            <td>206536196373822</td>\n",
       "        </tr>\n",
       "        <tr>\n",
       "            <td>carton</td>\n",
       "            <td>206536196373822</td>\n",
       "        </tr>\n",
       "        <tr>\n",
       "            <td>coffee cup</td>\n",
       "            <td>206536196373822</td>\n",
       "        </tr>\n",
       "        <tr>\n",
       "            <td>lightbulb</td>\n",
       "            <td>206536196373822</td>\n",
       "        </tr>\n",
       "        <tr>\n",
       "            <td>ring</td>\n",
       "            <td>206536196373822</td>\n",
       "        </tr>\n",
       "        <tr>\n",
       "            <td>teapot</td>\n",
       "            <td>206536196373822</td>\n",
       "        </tr>\n",
       "    </tbody>\n",
       "</table>"
      ]
     },
     "execution_count": null,
     "metadata": {},
     "output_type": "execute_result"
    }
   ],
   "source": [
    "%%sql\n",
    "UPDATE item\n",
    "SET owner = 5\n",
    "WHERE item = 'cane';\n",
    "\n",
    "UPDATE item\n",
    "SET owner = 2\n",
    "WHERE item = 'hammer';\n",
    "\n",
    "UPDATE item\n",
    "SET owner = 17\n",
    "WHERE item = 'rope';\n",
    "\n",
    "SELECT item\n",
    "     , salt_025(sum(nn(hash)) OVER ()) AS token\n",
    "FROM item\n",
    "WHERE owner = 20\n",
    "--> Episode [024]"
   ]
  },
  {
   "cell_type": "markdown",
   "id": "969acd56",
   "metadata": {},
   "source": [
    "## Complex condition"
   ]
  },
  {
   "cell_type": "markdown",
   "id": "06ee8bf1",
   "metadata": {},
   "source": [
    "**Episode [024].**"
   ]
  },
  {
   "cell_type": "markdown",
   "id": "f2ee3441",
   "metadata": {},
   "source": [
    "**Statement.** Find a friendly inhabitant who is either a merchant or a dealer. Maybe they want to buy some of your items."
   ]
  },
  {
   "cell_type": "code",
   "execution_count": null,
   "id": "da09c926",
   "metadata": {},
   "outputs": [
    {
     "data": {
      "text/html": [
       "<table>\n",
       "    <thead>\n",
       "        <tr>\n",
       "            <th>personid</th>\n",
       "            <th>name</th>\n",
       "            <th>villageid</th>\n",
       "            <th>gender</th>\n",
       "            <th>job</th>\n",
       "            <th>gold</th>\n",
       "            <th>state</th>\n",
       "            <th>hash</th>\n",
       "            <th>token</th>\n",
       "        </tr>\n",
       "    </thead>\n",
       "    <tbody>\n",
       "        <tr>\n",
       "            <td>4</td>\n",
       "            <td>Carl Ox</td>\n",
       "            <td>1</td>\n",
       "            <td>m</td>\n",
       "            <td>merchant</td>\n",
       "            <td>250</td>\n",
       "            <td>friendly</td>\n",
       "            <td>850110253458</td>\n",
       "            <td>166475576240457</td>\n",
       "        </tr>\n",
       "        <tr>\n",
       "            <td>12</td>\n",
       "            <td>Otto Alexander</td>\n",
       "            <td>2</td>\n",
       "            <td>m</td>\n",
       "            <td>dealer</td>\n",
       "            <td>680</td>\n",
       "            <td>friendly</td>\n",
       "            <td>591142648847</td>\n",
       "            <td>166475576240457</td>\n",
       "        </tr>\n",
       "        <tr>\n",
       "            <td>15</td>\n",
       "            <td>Helen Grasshead</td>\n",
       "            <td>2</td>\n",
       "            <td>f</td>\n",
       "            <td>dealer</td>\n",
       "            <td>680</td>\n",
       "            <td>friendly</td>\n",
       "            <td>152461466647</td>\n",
       "            <td>166475576240457</td>\n",
       "        </tr>\n",
       "    </tbody>\n",
       "</table>"
      ]
     },
     "execution_count": null,
     "metadata": {},
     "output_type": "execute_result"
    }
   ],
   "source": [
    "%%sql\n",
    "-- With a logical `OR`.\n",
    "SELECT *\n",
    "     , salt_024(sum(nn(hash)) OVER ()) AS token\n",
    "FROM inhabitant\n",
    "WHERE state = 'friendly'\n",
    "    AND (job = 'merchant' OR job = 'dealer')\n",
    "--> Episode [034]"
   ]
  },
  {
   "cell_type": "code",
   "execution_count": null,
   "id": "12483fed",
   "metadata": {},
   "outputs": [
    {
     "data": {
      "text/html": [
       "<table>\n",
       "    <thead>\n",
       "        <tr>\n",
       "            <th>personid</th>\n",
       "            <th>name</th>\n",
       "            <th>villageid</th>\n",
       "            <th>gender</th>\n",
       "            <th>job</th>\n",
       "            <th>gold</th>\n",
       "            <th>state</th>\n",
       "            <th>hash</th>\n",
       "            <th>token</th>\n",
       "        </tr>\n",
       "    </thead>\n",
       "    <tbody>\n",
       "        <tr>\n",
       "            <td>4</td>\n",
       "            <td>Carl Ox</td>\n",
       "            <td>1</td>\n",
       "            <td>m</td>\n",
       "            <td>merchant</td>\n",
       "            <td>250</td>\n",
       "            <td>friendly</td>\n",
       "            <td>850110253458</td>\n",
       "            <td>166475576240457</td>\n",
       "        </tr>\n",
       "        <tr>\n",
       "            <td>12</td>\n",
       "            <td>Otto Alexander</td>\n",
       "            <td>2</td>\n",
       "            <td>m</td>\n",
       "            <td>dealer</td>\n",
       "            <td>680</td>\n",
       "            <td>friendly</td>\n",
       "            <td>591142648847</td>\n",
       "            <td>166475576240457</td>\n",
       "        </tr>\n",
       "        <tr>\n",
       "            <td>15</td>\n",
       "            <td>Helen Grasshead</td>\n",
       "            <td>2</td>\n",
       "            <td>f</td>\n",
       "            <td>dealer</td>\n",
       "            <td>680</td>\n",
       "            <td>friendly</td>\n",
       "            <td>152461466647</td>\n",
       "            <td>166475576240457</td>\n",
       "        </tr>\n",
       "    </tbody>\n",
       "</table>"
      ]
     },
     "execution_count": null,
     "metadata": {},
     "output_type": "execute_result"
    }
   ],
   "source": [
    "%%sql\n",
    "-- With the `IN` operator (recommended). A cleaner, more scalable way to check a column against multiple values.\n",
    "SELECT *\n",
    "     , salt_024(sum(nn(hash)) OVER ()) AS token\n",
    "FROM inhabitant\n",
    "WHERE state = 'friendly'\n",
    "    AND job in ('merchant', 'dealer')"
   ]
  },
  {
   "cell_type": "code",
   "execution_count": null,
   "id": "863726c4",
   "metadata": {},
   "outputs": [
    {
     "data": {
      "text/html": [
       "<table>\n",
       "    <thead>\n",
       "        <tr>\n",
       "            <th>personid</th>\n",
       "            <th>name</th>\n",
       "            <th>villageid</th>\n",
       "            <th>gender</th>\n",
       "            <th>job</th>\n",
       "            <th>gold</th>\n",
       "            <th>state</th>\n",
       "            <th>hash</th>\n",
       "            <th>token</th>\n",
       "        </tr>\n",
       "    </thead>\n",
       "    <tbody>\n",
       "        <tr>\n",
       "            <td>4</td>\n",
       "            <td>Carl Ox</td>\n",
       "            <td>1</td>\n",
       "            <td>m</td>\n",
       "            <td>merchant</td>\n",
       "            <td>250</td>\n",
       "            <td>friendly</td>\n",
       "            <td>850110253458</td>\n",
       "            <td>166447123487581</td>\n",
       "        </tr>\n",
       "        <tr>\n",
       "            <td>12</td>\n",
       "            <td>Otto Alexander</td>\n",
       "            <td>2</td>\n",
       "            <td>m</td>\n",
       "            <td>dealer</td>\n",
       "            <td>680</td>\n",
       "            <td>friendly</td>\n",
       "            <td>591142648847</td>\n",
       "            <td>166447123487581</td>\n",
       "        </tr>\n",
       "        <tr>\n",
       "            <td>15</td>\n",
       "            <td>Helen Grasshead</td>\n",
       "            <td>2</td>\n",
       "            <td>f</td>\n",
       "            <td>dealer</td>\n",
       "            <td>680</td>\n",
       "            <td>friendly</td>\n",
       "            <td>152461466647</td>\n",
       "            <td>166447123487581</td>\n",
       "        </tr>\n",
       "        <tr>\n",
       "            <td>16</td>\n",
       "            <td>Ivy Hatter</td>\n",
       "            <td>1</td>\n",
       "            <td>f</td>\n",
       "            <td>dealer</td>\n",
       "            <td>770</td>\n",
       "            <td>evil</td>\n",
       "            <td>31678689780</td>\n",
       "            <td>166447123487581</td>\n",
       "        </tr>\n",
       "    </tbody>\n",
       "</table>"
      ]
     },
     "execution_count": null,
     "metadata": {},
     "output_type": "execute_result"
    }
   ],
   "source": [
    "%%sql\n",
    "-- Hint. Your result include one evil villager. Use both `AND` and `OR`, and don't forget to put the brackets\n",
    "-- correctly.\n",
    "SELECT *\n",
    "     , salt_024(sum(nn(hash)) OVER ()) AS token\n",
    "FROM inhabitant\n",
    "WHERE state = 'friendly' AND job = 'merchant'\n",
    "    OR job = 'dealer'"
   ]
  },
  {
   "cell_type": "code",
   "execution_count": null,
   "id": "7ee33c88",
   "metadata": {},
   "outputs": [
    {
     "data": {
      "text/html": [
       "<table>\n",
       "    <thead>\n",
       "        <tr>\n",
       "            <th>personid</th>\n",
       "            <th>name</th>\n",
       "            <th>villageid</th>\n",
       "            <th>gender</th>\n",
       "            <th>job</th>\n",
       "            <th>gold</th>\n",
       "            <th>state</th>\n",
       "            <th>hash</th>\n",
       "            <th>token</th>\n",
       "        </tr>\n",
       "    </thead>\n",
       "    <tbody>\n",
       "        <tr>\n",
       "            <td>1</td>\n",
       "            <td>Paul Bakerman</td>\n",
       "            <td>1</td>\n",
       "            <td>m</td>\n",
       "            <td>baker</td>\n",
       "            <td>850</td>\n",
       "            <td>friendly</td>\n",
       "            <td>646611776879</td>\n",
       "            <td>161728381954968</td>\n",
       "        </tr>\n",
       "        <tr>\n",
       "            <td>2</td>\n",
       "            <td>Ernest Perry</td>\n",
       "            <td>3</td>\n",
       "            <td>m</td>\n",
       "            <td>weaponsmith</td>\n",
       "            <td>280</td>\n",
       "            <td>friendly</td>\n",
       "            <td>630197013484</td>\n",
       "            <td>161728381954968</td>\n",
       "        </tr>\n",
       "        <tr>\n",
       "            <td>3</td>\n",
       "            <td>Rita Ox</td>\n",
       "            <td>1</td>\n",
       "            <td>f</td>\n",
       "            <td>baker</td>\n",
       "            <td>350</td>\n",
       "            <td>friendly</td>\n",
       "            <td>589077802421</td>\n",
       "            <td>161728381954968</td>\n",
       "        </tr>\n",
       "        <tr>\n",
       "            <td>4</td>\n",
       "            <td>Carl Ox</td>\n",
       "            <td>1</td>\n",
       "            <td>m</td>\n",
       "            <td>merchant</td>\n",
       "            <td>250</td>\n",
       "            <td>friendly</td>\n",
       "            <td>850110253458</td>\n",
       "            <td>161728381954968</td>\n",
       "        </tr>\n",
       "        <tr>\n",
       "            <td>10</td>\n",
       "            <td>Peter Drummer</td>\n",
       "            <td>1</td>\n",
       "            <td>m</td>\n",
       "            <td>smith</td>\n",
       "            <td>600</td>\n",
       "            <td>friendly</td>\n",
       "            <td>445353142598</td>\n",
       "            <td>161728381954968</td>\n",
       "        </tr>\n",
       "        <tr>\n",
       "            <td>12</td>\n",
       "            <td>Otto Alexander</td>\n",
       "            <td>2</td>\n",
       "            <td>m</td>\n",
       "            <td>dealer</td>\n",
       "            <td>680</td>\n",
       "            <td>friendly</td>\n",
       "            <td>591142648847</td>\n",
       "            <td>161728381954968</td>\n",
       "        </tr>\n",
       "        <tr>\n",
       "            <td>13</td>\n",
       "            <td>Fred Dix</td>\n",
       "            <td>3</td>\n",
       "            <td>m</td>\n",
       "            <td>author</td>\n",
       "            <td>420</td>\n",
       "            <td>friendly</td>\n",
       "            <td>758537101048</td>\n",
       "            <td>161728381954968</td>\n",
       "        </tr>\n",
       "        <tr>\n",
       "            <td>15</td>\n",
       "            <td>Helen Grasshead</td>\n",
       "            <td>2</td>\n",
       "            <td>f</td>\n",
       "            <td>dealer</td>\n",
       "            <td>680</td>\n",
       "            <td>friendly</td>\n",
       "            <td>152461466647</td>\n",
       "            <td>161728381954968</td>\n",
       "        </tr>\n",
       "        <tr>\n",
       "            <td>16</td>\n",
       "            <td>Ivy Hatter</td>\n",
       "            <td>1</td>\n",
       "            <td>f</td>\n",
       "            <td>dealer</td>\n",
       "            <td>770</td>\n",
       "            <td>evil</td>\n",
       "            <td>31678689780</td>\n",
       "            <td>161728381954968</td>\n",
       "        </tr>\n",
       "        <tr>\n",
       "            <td>17</td>\n",
       "            <td>Edward Grasshead</td>\n",
       "            <td>3</td>\n",
       "            <td>m</td>\n",
       "            <td>butcher</td>\n",
       "            <td>990</td>\n",
       "            <td>friendly</td>\n",
       "            <td>143447863181</td>\n",
       "            <td>161728381954968</td>\n",
       "        </tr>\n",
       "        <tr>\n",
       "            <td>18</td>\n",
       "            <td>Ryan Horse</td>\n",
       "            <td>3</td>\n",
       "            <td>m</td>\n",
       "            <td>blacksmith</td>\n",
       "            <td>390</td>\n",
       "            <td>friendly</td>\n",
       "            <td>462983685817</td>\n",
       "            <td>161728381954968</td>\n",
       "        </tr>\n",
       "        <tr>\n",
       "            <td>19</td>\n",
       "            <td>Ann Meaty</td>\n",
       "            <td>2</td>\n",
       "            <td>f</td>\n",
       "            <td>butcher</td>\n",
       "            <td>2280</td>\n",
       "            <td>friendly</td>\n",
       "            <td>251247264297</td>\n",
       "            <td>161728381954968</td>\n",
       "        </tr>\n",
       "    </tbody>\n",
       "</table>"
      ]
     },
     "execution_count": null,
     "metadata": {},
     "output_type": "execute_result"
    }
   ],
   "source": [
    "%%sql\n",
    "-- Hint. You have found inhabitants who are either friendly, or dealers, or merchants, but \"friendly\" is not an\n",
    "-- option.\n",
    "SELECT *\n",
    "     , salt_024(sum(nn(hash)) OVER ()) AS token\n",
    "FROM inhabitant\n",
    "WHERE state = 'friendly'\n",
    "    OR job = 'dealer'\n",
    "    OR job = 'merchant'"
   ]
  },
  {
   "cell_type": "code",
   "execution_count": null,
   "id": "c67741af",
   "metadata": {},
   "outputs": [
    {
     "data": {
      "text/html": [
       "<table>\n",
       "    <thead>\n",
       "        <tr>\n",
       "            <th>personid</th>\n",
       "            <th>name</th>\n",
       "            <th>villageid</th>\n",
       "            <th>gender</th>\n",
       "            <th>job</th>\n",
       "            <th>gold</th>\n",
       "            <th>state</th>\n",
       "            <th>hash</th>\n",
       "            <th>token</th>\n",
       "        </tr>\n",
       "    </thead>\n",
       "    <tbody>\n",
       "        <tr>\n",
       "            <td>12</td>\n",
       "            <td>Otto Alexander</td>\n",
       "            <td>2</td>\n",
       "            <td>m</td>\n",
       "            <td>dealer</td>\n",
       "            <td>680</td>\n",
       "            <td>friendly</td>\n",
       "            <td>591142648847</td>\n",
       "            <td>165711365329111</td>\n",
       "        </tr>\n",
       "        <tr>\n",
       "            <td>15</td>\n",
       "            <td>Helen Grasshead</td>\n",
       "            <td>2</td>\n",
       "            <td>f</td>\n",
       "            <td>dealer</td>\n",
       "            <td>680</td>\n",
       "            <td>friendly</td>\n",
       "            <td>152461466647</td>\n",
       "            <td>165711365329111</td>\n",
       "        </tr>\n",
       "    </tbody>\n",
       "</table>"
      ]
     },
     "execution_count": null,
     "metadata": {},
     "output_type": "execute_result"
    }
   ],
   "source": [
    "%%sql\n",
    "-- Hint. Include the friendly merchants too.\n",
    "SELECT *\n",
    "     , salt_024(sum(nn(hash)) OVER ()) AS token\n",
    "FROM inhabitant\n",
    "WHERE state = 'friendly' AND job = 'dealer'"
   ]
  },
  {
   "cell_type": "code",
   "execution_count": null,
   "id": "ba8a0ab0",
   "metadata": {},
   "outputs": [
    {
     "data": {
      "text/html": [
       "<table>\n",
       "    <thead>\n",
       "        <tr>\n",
       "            <th>personid</th>\n",
       "            <th>name</th>\n",
       "            <th>villageid</th>\n",
       "            <th>gender</th>\n",
       "            <th>job</th>\n",
       "            <th>gold</th>\n",
       "            <th>state</th>\n",
       "            <th>hash</th>\n",
       "            <th>token</th>\n",
       "        </tr>\n",
       "    </thead>\n",
       "    <tbody>\n",
       "        <tr>\n",
       "            <td>4</td>\n",
       "            <td>Carl Ox</td>\n",
       "            <td>1</td>\n",
       "            <td>m</td>\n",
       "            <td>merchant</td>\n",
       "            <td>250</td>\n",
       "            <td>friendly</td>\n",
       "            <td>850110253458</td>\n",
       "            <td>165881901973859</td>\n",
       "        </tr>\n",
       "    </tbody>\n",
       "</table>"
      ]
     },
     "execution_count": null,
     "metadata": {},
     "output_type": "execute_result"
    }
   ],
   "source": [
    "%%sql\n",
    "-- Hint. Include the friendly dealers too.\n",
    "SELECT *\n",
    "     , salt_024(sum(nn(hash)) OVER ()) AS token\n",
    "FROM inhabitant\n",
    "WHERE state = 'friendly' AND job = 'merchant'"
   ]
  },
  {
   "cell_type": "markdown",
   "id": "ef4fef57",
   "metadata": {},
   "source": [
    "## `UPDATE` two rows"
   ]
  },
  {
   "cell_type": "markdown",
   "id": "dc377cff",
   "metadata": {},
   "source": [
    "**Episode [034].**\n",
    "\n",
    "– I'd like to get the ring and the teapot. The rest is nothing but scrap. Please give me the two items. My `personid` is 15."
   ]
  },
  {
   "cell_type": "markdown",
   "id": "4d68b3f4",
   "metadata": {},
   "source": [
    "**Statement.** Afterwards, check the items that she owns."
   ]
  },
  {
   "cell_type": "code",
   "execution_count": null,
   "id": "567d9474",
   "metadata": {},
   "outputs": [
    {
     "data": {
      "text/html": [
       "<span style=\"color: green\">2 rows affected.</span>"
      ],
      "text/plain": [
       "2 rows affected."
      ]
     },
     "metadata": {},
     "output_type": "display_data"
    },
    {
     "data": {
      "text/html": [
       "<table>\n",
       "    <thead>\n",
       "        <tr>\n",
       "            <th>item</th>\n",
       "            <th>owner</th>\n",
       "            <th>hash</th>\n",
       "            <th>token</th>\n",
       "        </tr>\n",
       "    </thead>\n",
       "    <tbody>\n",
       "        <tr>\n",
       "            <td>ring</td>\n",
       "            <td>15</td>\n",
       "            <td>285279987781</td>\n",
       "            <td>261352685198133</td>\n",
       "        </tr>\n",
       "        <tr>\n",
       "            <td>teapot</td>\n",
       "            <td>15</td>\n",
       "            <td>950599138709</td>\n",
       "            <td>261352685198133</td>\n",
       "        </tr>\n",
       "    </tbody>\n",
       "</table>"
      ]
     },
     "execution_count": null,
     "metadata": {},
     "output_type": "execute_result"
    }
   ],
   "source": [
    "%%sql\n",
    "UPDATE item\n",
    "SET owner = 15\n",
    "WHERE item IN ('ring', 'teapot');\n",
    "\n",
    "\n",
    "SELECT *\n",
    "     , salt_034(sum(nn(hash)) OVER ()) AS token\n",
    "FROM item\n",
    "WHERE owner = 15\n",
    "--> Episode [091]"
   ]
  },
  {
   "cell_type": "markdown",
   "id": "1dbd45f6",
   "metadata": {},
   "source": [
    "## Transfer some gold"
   ]
  },
  {
   "cell_type": "markdown",
   "id": "f6eaf797",
   "metadata": {},
   "source": [
    "**Episode [091].**\n",
    "\n",
    "— Thank you! Here, some gold!"
   ]
  },
  {
   "cell_type": "markdown",
   "id": "6658bd94",
   "metadata": {},
   "source": [
    "**Statement.** Transfer 120 from Helen's gold to yours, and then check the new amounts of your two rows.\n",
    "\n",
    "_Tip._ SQL has no “transfer” operation. Use two `UPDATE` statements."
   ]
  },
  {
   "cell_type": "code",
   "execution_count": null,
   "id": "864720c1",
   "metadata": {},
   "outputs": [
    {
     "data": {
      "text/html": [
       "<span style=\"color: green\">1 rows affected.</span>"
      ],
      "text/plain": [
       "1 rows affected."
      ]
     },
     "metadata": {},
     "output_type": "display_data"
    },
    {
     "data": {
      "text/html": [
       "<span style=\"color: green\">1 rows affected.</span>"
      ],
      "text/plain": [
       "1 rows affected."
      ]
     },
     "metadata": {},
     "output_type": "display_data"
    },
    {
     "data": {
      "text/html": [
       "<table>\n",
       "    <thead>\n",
       "        <tr>\n",
       "            <th>name</th>\n",
       "            <th>gold</th>\n",
       "            <th>token</th>\n",
       "        </tr>\n",
       "    </thead>\n",
       "    <tbody>\n",
       "        <tr>\n",
       "            <td>Helen Grasshead</td>\n",
       "            <td>560</td>\n",
       "            <td>35110542179316</td>\n",
       "        </tr>\n",
       "        <tr>\n",
       "            <td>Stranger</td>\n",
       "            <td>120</td>\n",
       "            <td>35110542179316</td>\n",
       "        </tr>\n",
       "    </tbody>\n",
       "</table>"
      ]
     },
     "execution_count": null,
     "metadata": {},
     "output_type": "execute_result"
    }
   ],
   "source": [
    "%%sql\n",
    "UPDATE inhabitant\n",
    "SET gold = gold - 120\n",
    "WHERE personid = 15;\n",
    "\n",
    "\n",
    "UPDATE inhabitant\n",
    "SET gold = gold + 120\n",
    "WHERE personid = 20;\n",
    "\n",
    "\n",
    "SELECT name\n",
    "     , gold\n",
    "     , salt_091(sum(nn(hash)) OVER ()) AS token\n",
    "FROM inhabitant\n",
    "WHERE personid IN (15, 20)\n",
    "--> Episode [080]"
   ]
  },
  {
   "cell_type": "code",
   "execution_count": null,
   "id": "45ad531e",
   "metadata": {},
   "outputs": [
    {
     "data": {
      "text/html": [
       "<table>\n",
       "    <thead>\n",
       "        <tr>\n",
       "            <th>name</th>\n",
       "            <th>gold</th>\n",
       "            <th>token</th>\n",
       "        </tr>\n",
       "    </thead>\n",
       "    <tbody>\n",
       "        <tr>\n",
       "            <td>Paul Bakerman</td>\n",
       "            <td>850</td>\n",
       "            <td>23228768719000</td>\n",
       "        </tr>\n",
       "    </tbody>\n",
       "</table>"
      ]
     },
     "execution_count": null,
     "metadata": {},
     "output_type": "execute_result"
    }
   ],
   "source": [
    "%%sql\n",
    "-- Hint. Restrict the result to the row of Helen (15) and yours (20).\n",
    "SELECT name\n",
    "     , gold\n",
    "     , salt_091(sum(nn(hash)) OVER ()) AS token\n",
    "FROM inhabitant\n",
    "LIMIT 1"
   ]
  },
  {
   "cell_type": "code",
   "execution_count": null,
   "id": "6284b456",
   "metadata": {},
   "outputs": [
    {
     "data": {
      "text/html": [
       "<span style=\"color: green\">1 rows affected.</span>"
      ],
      "text/plain": [
       "1 rows affected."
      ]
     },
     "metadata": {},
     "output_type": "display_data"
    },
    {
     "data": {
      "text/html": [
       "<span style=\"color: green\">1 rows affected.</span>"
      ],
      "text/plain": [
       "1 rows affected."
      ]
     },
     "metadata": {},
     "output_type": "display_data"
    },
    {
     "data": {
      "text/html": [
       "<table>\n",
       "    <thead>\n",
       "        <tr>\n",
       "        </tr>\n",
       "    </thead>\n",
       "    <tbody>\n",
       "    </tbody>\n",
       "</table>"
      ],
      "text/plain": [
       "++\n",
       "||\n",
       "++\n",
       "++"
      ]
     },
     "execution_count": null,
     "metadata": {},
     "output_type": "execute_result"
    }
   ],
   "source": [
    "%%sql\n",
    "-- Action. Restore the gold.\n",
    "UPDATE inhabitant SET gold = 680 WHERE personid = 15;\n",
    "UPDATE inhabitant SET gold = 0   WHERE personid = 20"
   ]
  },
  {
   "cell_type": "code",
   "execution_count": null,
   "id": "04d28db1",
   "metadata": {},
   "outputs": [
    {
     "data": {
      "text/html": [
       "<span style=\"color: green\">1 rows affected.</span>"
      ],
      "text/plain": [
       "1 rows affected."
      ]
     },
     "metadata": {},
     "output_type": "display_data"
    },
    {
     "data": {
      "text/html": [
       "<table>\n",
       "    <thead>\n",
       "        <tr>\n",
       "            <th>name</th>\n",
       "            <th>gold</th>\n",
       "            <th>token</th>\n",
       "        </tr>\n",
       "    </thead>\n",
       "    <tbody>\n",
       "        <tr>\n",
       "            <td>Helen Grasshead</td>\n",
       "            <td>560</td>\n",
       "            <td>34877944868442</td>\n",
       "        </tr>\n",
       "        <tr>\n",
       "            <td>Stranger</td>\n",
       "            <td>0</td>\n",
       "            <td>34877944868442</td>\n",
       "        </tr>\n",
       "    </tbody>\n",
       "</table>"
      ]
     },
     "execution_count": null,
     "metadata": {},
     "output_type": "execute_result"
    }
   ],
   "source": [
    "%%sql\n",
    "UPDATE inhabitant\n",
    "SET gold = gold - 120\n",
    "WHERE personid = 15;\n",
    "\n",
    "\n",
    "SELECT name\n",
    "     , gold\n",
    "     , salt_091(sum(nn(hash)) OVER ()) AS token\n",
    "FROM inhabitant\n",
    "WHERE personid IN (15, 20)\n",
    "--> Episode [075]"
   ]
  },
  {
   "cell_type": "code",
   "execution_count": null,
   "id": "ae7741a5",
   "metadata": {},
   "outputs": [
    {
     "data": {
      "text/html": [
       "<table>\n",
       "    <thead>\n",
       "        <tr>\n",
       "            <th>name</th>\n",
       "            <th>gold</th>\n",
       "            <th>token</th>\n",
       "        </tr>\n",
       "    </thead>\n",
       "    <tbody>\n",
       "        <tr>\n",
       "            <td>Paul Bakerman</td>\n",
       "            <td>850</td>\n",
       "            <td>25263687649022</td>\n",
       "        </tr>\n",
       "    </tbody>\n",
       "</table>"
      ]
     },
     "execution_count": null,
     "metadata": {},
     "output_type": "execute_result"
    }
   ],
   "source": [
    "%%sql\n",
    "-- Hint. Restrict the result to the row of Helen (15) and yours (20).\n",
    "SELECT name\n",
    "     , gold\n",
    "     , salt_091(sum(nn(hash)) OVER ()) AS token\n",
    "FROM inhabitant\n",
    "limit 1"
   ]
  },
  {
   "cell_type": "code",
   "execution_count": null,
   "id": "399da05d",
   "metadata": {},
   "outputs": [
    {
     "data": {
      "text/html": [
       "<span style=\"color: green\">1 rows affected.</span>"
      ],
      "text/plain": [
       "1 rows affected."
      ]
     },
     "metadata": {},
     "output_type": "display_data"
    },
    {
     "data": {
      "text/html": [
       "<span style=\"color: green\">1 rows affected.</span>"
      ],
      "text/plain": [
       "1 rows affected."
      ]
     },
     "metadata": {},
     "output_type": "display_data"
    },
    {
     "data": {
      "text/html": [
       "<table>\n",
       "    <thead>\n",
       "        <tr>\n",
       "        </tr>\n",
       "    </thead>\n",
       "    <tbody>\n",
       "    </tbody>\n",
       "</table>"
      ],
      "text/plain": [
       "++\n",
       "||\n",
       "++\n",
       "++"
      ]
     },
     "execution_count": null,
     "metadata": {},
     "output_type": "execute_result"
    }
   ],
   "source": [
    "%%sql\n",
    "-- Action. Restore the gold.\n",
    "UPDATE inhabitant SET gold = 680 WHERE personid = 15;\n",
    "UPDATE inhabitant SET gold = 0   WHERE personid = 20"
   ]
  },
  {
   "cell_type": "code",
   "execution_count": null,
   "id": "ab345295",
   "metadata": {},
   "outputs": [
    {
     "data": {
      "text/html": [
       "<span style=\"color: green\">1 rows affected.</span>"
      ],
      "text/plain": [
       "1 rows affected."
      ]
     },
     "metadata": {},
     "output_type": "display_data"
    },
    {
     "data": {
      "text/html": [
       "<table>\n",
       "    <thead>\n",
       "        <tr>\n",
       "            <th>name</th>\n",
       "            <th>gold</th>\n",
       "            <th>token</th>\n",
       "        </tr>\n",
       "    </thead>\n",
       "    <tbody>\n",
       "        <tr>\n",
       "            <td>Helen Grasshead</td>\n",
       "            <td>680</td>\n",
       "            <td>34756549418683</td>\n",
       "        </tr>\n",
       "        <tr>\n",
       "            <td>Stranger</td>\n",
       "            <td>120</td>\n",
       "            <td>34756549418683</td>\n",
       "        </tr>\n",
       "    </tbody>\n",
       "</table>"
      ]
     },
     "execution_count": null,
     "metadata": {},
     "output_type": "execute_result"
    }
   ],
   "source": [
    "%%sql\n",
    "UPDATE inhabitant\n",
    "SET gold = gold + 120\n",
    "WHERE personid = 20;\n",
    "\n",
    "\n",
    "SELECT name\n",
    "     , gold\n",
    "     , salt_091(sum(nn(hash)) OVER ()) AS token\n",
    "FROM inhabitant\n",
    "WHERE personid IN (15, 20)\n",
    "--> Episode [076]"
   ]
  },
  {
   "cell_type": "code",
   "execution_count": null,
   "id": "14737f54",
   "metadata": {},
   "outputs": [
    {
     "data": {
      "text/html": [
       "<table>\n",
       "    <thead>\n",
       "        <tr>\n",
       "            <th>name</th>\n",
       "            <th>gold</th>\n",
       "            <th>token</th>\n",
       "        </tr>\n",
       "    </thead>\n",
       "    <tbody>\n",
       "        <tr>\n",
       "            <td>Paul Bakerman</td>\n",
       "            <td>850</td>\n",
       "            <td>25142560896863</td>\n",
       "        </tr>\n",
       "    </tbody>\n",
       "</table>"
      ]
     },
     "execution_count": null,
     "metadata": {},
     "output_type": "execute_result"
    }
   ],
   "source": [
    "%%sql\n",
    "-- Hint. Restrict the result to the row of Helen (15) and yours (20).\n",
    "SELECT name\n",
    "     , gold\n",
    "     , salt_091(sum(nn(hash)) OVER ()) AS token\n",
    "FROM inhabitant\n",
    "limit 1"
   ]
  },
  {
   "cell_type": "markdown",
   "id": "fe533b05",
   "metadata": {},
   "source": [
    "**Episode [075].**"
   ]
  },
  {
   "cell_type": "markdown",
   "id": "655099c3",
   "metadata": {},
   "source": [
    "**Statement.** You have correctly updated Helen's gold. Now update yours."
   ]
  },
  {
   "cell_type": "code",
   "execution_count": null,
   "id": "6ae2a532",
   "metadata": {},
   "outputs": [
    {
     "data": {
      "text/html": [
       "<span style=\"color: green\">1 rows affected.</span>"
      ],
      "text/plain": [
       "1 rows affected."
      ]
     },
     "metadata": {},
     "output_type": "display_data"
    },
    {
     "data": {
      "text/html": [
       "<table>\n",
       "    <thead>\n",
       "        <tr>\n",
       "            <th>name</th>\n",
       "            <th>gold</th>\n",
       "            <th>token</th>\n",
       "        </tr>\n",
       "    </thead>\n",
       "    <tbody>\n",
       "        <tr>\n",
       "            <td>Helen Grasshead</td>\n",
       "            <td>680</td>\n",
       "            <td>36005631554399</td>\n",
       "        </tr>\n",
       "        <tr>\n",
       "            <td>Stranger</td>\n",
       "            <td>240</td>\n",
       "            <td>36005631554399</td>\n",
       "        </tr>\n",
       "    </tbody>\n",
       "</table>"
      ]
     },
     "execution_count": null,
     "metadata": {},
     "output_type": "execute_result"
    }
   ],
   "source": [
    "%%sql\n",
    "UPDATE inhabitant\n",
    "SET gold = gold + 120\n",
    "WHERE personid = 20;\n",
    "\n",
    "\n",
    "SELECT name\n",
    "     , gold\n",
    "     , salt_075(sum(nn(hash)) OVER ()) AS token\n",
    "FROM inhabitant\n",
    "WHERE personid IN (15, 20)\n",
    "--> Episode [080]"
   ]
  },
  {
   "cell_type": "markdown",
   "id": "4815c78a",
   "metadata": {},
   "source": [
    "**Episode [076].**"
   ]
  },
  {
   "cell_type": "markdown",
   "id": "add0a65b",
   "metadata": {},
   "source": [
    "**Statement.** You have correctly updated your gold. Now update Helen's."
   ]
  },
  {
   "cell_type": "code",
   "execution_count": null,
   "id": "687272f3",
   "metadata": {},
   "outputs": [
    {
     "data": {
      "text/html": [
       "<span style=\"color: green\">1 rows affected.</span>"
      ],
      "text/plain": [
       "1 rows affected."
      ]
     },
     "metadata": {},
     "output_type": "display_data"
    },
    {
     "data": {
      "text/html": [
       "<table>\n",
       "    <thead>\n",
       "        <tr>\n",
       "            <th>name</th>\n",
       "            <th>gold</th>\n",
       "            <th>token</th>\n",
       "        </tr>\n",
       "    </thead>\n",
       "    <tbody>\n",
       "        <tr>\n",
       "            <td>Helen Grasshead</td>\n",
       "            <td>560</td>\n",
       "            <td>11047667535310</td>\n",
       "        </tr>\n",
       "        <tr>\n",
       "            <td>Stranger</td>\n",
       "            <td>240</td>\n",
       "            <td>11047667535310</td>\n",
       "        </tr>\n",
       "    </tbody>\n",
       "</table>"
      ]
     },
     "execution_count": null,
     "metadata": {},
     "output_type": "execute_result"
    }
   ],
   "source": [
    "%%sql\n",
    "UPDATE inhabitant\n",
    "SET gold = gold - 120\n",
    "WHERE personid = 15;\n",
    "\n",
    "\n",
    "SELECT name\n",
    "     , gold\n",
    "     , salt_076(sum(nn(hash)) OVER ()) AS token\n",
    "FROM inhabitant\n",
    "WHERE personid IN (15, 20)\n",
    "--> Episode [080]"
   ]
  },
  {
   "cell_type": "markdown",
   "id": "af3506a9",
   "metadata": {},
   "source": [
    "## `UPDATE` the name of the stranger"
   ]
  },
  {
   "cell_type": "markdown",
   "id": "5b116077",
   "metadata": {},
   "source": [
    "**Episode [080].** Unfortunately, that's not enough gold to buy a sword. Seems like I do have to work after all. Maybe it's not a bad idea to change my name from Stranger to my real name before I will apply for a job."
   ]
  },
  {
   "cell_type": "markdown",
   "id": "63bf89bb",
   "metadata": {},
   "source": [
    "**Statement.** Update your name to 'Leslie Qualls' and show the updated row."
   ]
  },
  {
   "cell_type": "code",
   "execution_count": null,
   "id": "0b4fbc03",
   "metadata": {},
   "outputs": [
    {
     "data": {
      "text/html": [
       "<span style=\"color: green\">1 rows affected.</span>"
      ],
      "text/plain": [
       "1 rows affected."
      ]
     },
     "metadata": {},
     "output_type": "display_data"
    },
    {
     "data": {
      "text/html": [
       "<table>\n",
       "    <thead>\n",
       "        <tr>\n",
       "            <th>personid</th>\n",
       "            <th>name</th>\n",
       "            <th>villageid</th>\n",
       "            <th>gender</th>\n",
       "            <th>job</th>\n",
       "            <th>gold</th>\n",
       "            <th>state</th>\n",
       "            <th>hash</th>\n",
       "            <th>token</th>\n",
       "        </tr>\n",
       "    </thead>\n",
       "    <tbody>\n",
       "        <tr>\n",
       "            <td>20</td>\n",
       "            <td>Leslie Qualls</td>\n",
       "            <td>1</td>\n",
       "            <td>?</td>\n",
       "            <td>?</td>\n",
       "            <td>240</td>\n",
       "            <td>?</td>\n",
       "            <td>389732266343</td>\n",
       "            <td>17932999715393</td>\n",
       "        </tr>\n",
       "    </tbody>\n",
       "</table>"
      ]
     },
     "execution_count": null,
     "metadata": {},
     "output_type": "execute_result"
    }
   ],
   "source": [
    "%%sql\n",
    "UPDATE inhabitant\n",
    "SET name = 'Leslie Qualls'\n",
    "WHERE personid = 20;\n",
    "\n",
    "\n",
    "SELECT *\n",
    "     , salt_080(sum(nn(hash)) OVER ()) AS token\n",
    "FROM inhabitant\n",
    "WHERE personid = 20\n",
    "--> Episode [078]"
   ]
  },
  {
   "cell_type": "code",
   "execution_count": null,
   "id": "1a9665d9",
   "metadata": {},
   "outputs": [
    {
     "data": {
      "text/html": [
       "<table>\n",
       "    <thead>\n",
       "        <tr>\n",
       "            <th>personid</th>\n",
       "            <th>name</th>\n",
       "            <th>villageid</th>\n",
       "            <th>gender</th>\n",
       "            <th>job</th>\n",
       "            <th>gold</th>\n",
       "            <th>state</th>\n",
       "            <th>hash</th>\n",
       "            <th>token</th>\n",
       "        </tr>\n",
       "    </thead>\n",
       "    <tbody>\n",
       "        <tr>\n",
       "            <td>1</td>\n",
       "            <td>Paul Bakerman</td>\n",
       "            <td>1</td>\n",
       "            <td>m</td>\n",
       "            <td>baker</td>\n",
       "            <td>850</td>\n",
       "            <td>friendly</td>\n",
       "            <td>646611776879</td>\n",
       "            <td>28860022323271</td>\n",
       "        </tr>\n",
       "    </tbody>\n",
       "</table>"
      ]
     },
     "execution_count": null,
     "metadata": {},
     "output_type": "execute_result"
    }
   ],
   "source": [
    "%%sql\n",
    "-- Hint. Restrict the result to your row (20).\n",
    "SELECT *\n",
    "     , salt_080(sum(nn(hash)) OVER ()) AS token\n",
    "FROM inhabitant\n",
    "limit 1"
   ]
  },
  {
   "cell_type": "code",
   "execution_count": null,
   "id": "a5fcf694",
   "metadata": {},
   "outputs": [
    {
     "data": {
      "text/html": [
       "<span style=\"color: green\">1 rows affected.</span>"
      ],
      "text/plain": [
       "1 rows affected."
      ]
     },
     "metadata": {},
     "output_type": "display_data"
    },
    {
     "data": {
      "text/html": [
       "<table>\n",
       "    <thead>\n",
       "        <tr>\n",
       "            <th>personid</th>\n",
       "            <th>name</th>\n",
       "            <th>villageid</th>\n",
       "            <th>gender</th>\n",
       "            <th>job</th>\n",
       "            <th>gold</th>\n",
       "            <th>state</th>\n",
       "            <th>hash</th>\n",
       "            <th>token</th>\n",
       "        </tr>\n",
       "    </thead>\n",
       "    <tbody>\n",
       "        <tr>\n",
       "            <td>20</td>\n",
       "            <td>Leslie Quals</td>\n",
       "            <td>1</td>\n",
       "            <td>?</td>\n",
       "            <td>?</td>\n",
       "            <td>240</td>\n",
       "            <td>?</td>\n",
       "            <td>409621283884</td>\n",
       "            <td>17913110945546</td>\n",
       "        </tr>\n",
       "    </tbody>\n",
       "</table>"
      ]
     },
     "execution_count": null,
     "metadata": {},
     "output_type": "execute_result"
    }
   ],
   "source": [
    "%%sql\n",
    "-- Hint. The name Qualls contains two 'l's.\n",
    "UPDATE inhabitant\n",
    "SET name = 'Leslie Quals'\n",
    "WHERE personid = 20;\n",
    "\n",
    "\n",
    "SELECT *\n",
    "     , salt_080(sum(nn(hash)) OVER ()) AS token\n",
    "FROM inhabitant\n",
    "WHERE personid = 20"
   ]
  },
  {
   "cell_type": "markdown",
   "id": "3bdd611e",
   "metadata": {},
   "source": [
    "## `ORDER BY`"
   ]
  },
  {
   "cell_type": "markdown",
   "id": "9601dee5",
   "metadata": {},
   "source": [
    "**Episode [078].**"
   ]
  },
  {
   "cell_type": "markdown",
   "id": "ef7e6b84",
   "metadata": {},
   "source": [
    "**Statement.** Since baking is one of your hobbies, why not find a baker who you can work for?\n",
    "\n",
    "_Tip._ List all bakers and use `ORDER BY` gold to sort the results. `ORDER BY` gold `DESC` is even better because then the richest baker is on top."
   ]
  },
  {
   "cell_type": "code",
   "execution_count": null,
   "id": "7e79d117",
   "metadata": {},
   "outputs": [],
   "source": [
    "x = 350 # gold on the last row\n",
    "# Javascript: result[0][result[0].length - 2]"
   ]
  },
  {
   "cell_type": "code",
   "execution_count": null,
   "id": "d505d134",
   "metadata": {},
   "outputs": [
    {
     "data": {
      "text/html": [
       "<table>\n",
       "    <thead>\n",
       "        <tr>\n",
       "            <th>personid</th>\n",
       "            <th>name</th>\n",
       "            <th>villageid</th>\n",
       "            <th>gender</th>\n",
       "            <th>job</th>\n",
       "            <th>gold</th>\n",
       "            <th>state</th>\n",
       "            <th>hash</th>\n",
       "            <th>token</th>\n",
       "        </tr>\n",
       "    </thead>\n",
       "    <tbody>\n",
       "        <tr>\n",
       "            <td>1</td>\n",
       "            <td>Paul Bakerman</td>\n",
       "            <td>1</td>\n",
       "            <td>m</td>\n",
       "            <td>baker</td>\n",
       "            <td>850</td>\n",
       "            <td>friendly</td>\n",
       "            <td>646611776879</td>\n",
       "            <td>34691307363878</td>\n",
       "        </tr>\n",
       "        <tr>\n",
       "            <td>9</td>\n",
       "            <td>Tiffany Drummer</td>\n",
       "            <td>1</td>\n",
       "            <td>f</td>\n",
       "            <td>baker</td>\n",
       "            <td>550</td>\n",
       "            <td>evil</td>\n",
       "            <td>592129557518</td>\n",
       "            <td>34691307363878</td>\n",
       "        </tr>\n",
       "        <tr>\n",
       "            <td>3</td>\n",
       "            <td>Rita Ox</td>\n",
       "            <td>1</td>\n",
       "            <td>f</td>\n",
       "            <td>baker</td>\n",
       "            <td>350</td>\n",
       "            <td>friendly</td>\n",
       "            <td>589077802421</td>\n",
       "            <td>34691307363878</td>\n",
       "        </tr>\n",
       "    </tbody>\n",
       "</table>"
      ]
     },
     "execution_count": null,
     "metadata": {},
     "output_type": "execute_result"
    }
   ],
   "source": [
    "%%sql\n",
    "SELECT *\n",
    "     , salt_078({{x}} + sum(nn(hash)) OVER ()) AS token\n",
    "FROM inhabitant\n",
    "WHERE job = 'baker'\n",
    "ORDER BY gold DESC\n",
    "--> Episode [010]"
   ]
  },
  {
   "cell_type": "code",
   "execution_count": null,
   "id": "767fc644",
   "metadata": {},
   "outputs": [],
   "source": [
    "assert x == col[\"gold\"][-1]"
   ]
  },
  {
   "cell_type": "code",
   "execution_count": null,
   "id": "cc69d77a",
   "metadata": {},
   "outputs": [],
   "source": [
    "x = 550"
   ]
  },
  {
   "cell_type": "code",
   "execution_count": null,
   "id": "7e44b31b",
   "metadata": {},
   "outputs": [
    {
     "data": {
      "text/html": [
       "<table>\n",
       "    <thead>\n",
       "        <tr>\n",
       "            <th>personid</th>\n",
       "            <th>name</th>\n",
       "            <th>villageid</th>\n",
       "            <th>gender</th>\n",
       "            <th>job</th>\n",
       "            <th>gold</th>\n",
       "            <th>state</th>\n",
       "            <th>hash</th>\n",
       "            <th>token</th>\n",
       "        </tr>\n",
       "    </thead>\n",
       "    <tbody>\n",
       "        <tr>\n",
       "            <td>1</td>\n",
       "            <td>Paul Bakerman</td>\n",
       "            <td>1</td>\n",
       "            <td>m</td>\n",
       "            <td>baker</td>\n",
       "            <td>850</td>\n",
       "            <td>friendly</td>\n",
       "            <td>646611776879</td>\n",
       "            <td>34691307364334</td>\n",
       "        </tr>\n",
       "        <tr>\n",
       "            <td>3</td>\n",
       "            <td>Rita Ox</td>\n",
       "            <td>1</td>\n",
       "            <td>f</td>\n",
       "            <td>baker</td>\n",
       "            <td>350</td>\n",
       "            <td>friendly</td>\n",
       "            <td>589077802421</td>\n",
       "            <td>34691307364334</td>\n",
       "        </tr>\n",
       "        <tr>\n",
       "            <td>9</td>\n",
       "            <td>Tiffany Drummer</td>\n",
       "            <td>1</td>\n",
       "            <td>f</td>\n",
       "            <td>baker</td>\n",
       "            <td>550</td>\n",
       "            <td>evil</td>\n",
       "            <td>592129557518</td>\n",
       "            <td>34691307364334</td>\n",
       "        </tr>\n",
       "    </tbody>\n",
       "</table>"
      ]
     },
     "execution_count": null,
     "metadata": {},
     "output_type": "execute_result"
    }
   ],
   "source": [
    "%%sql\n",
    "-- Hint. Don't forget to sort the result by decreasing gold.\n",
    "SELECT *\n",
    "     , salt_078({{x}} + sum(nn(hash)) OVER ()) AS token\n",
    "FROM inhabitant\n",
    "WHERE job = 'baker'"
   ]
  },
  {
   "cell_type": "code",
   "execution_count": null,
   "id": "b85d09cd",
   "metadata": {},
   "outputs": [],
   "source": [
    "assert x == col[\"gold\"][-1]"
   ]
  },
  {
   "cell_type": "code",
   "execution_count": null,
   "id": "75864cf3",
   "metadata": {},
   "outputs": [],
   "source": [
    "x = 850"
   ]
  },
  {
   "cell_type": "code",
   "execution_count": null,
   "id": "54cb0016",
   "metadata": {},
   "outputs": [
    {
     "data": {
      "text/html": [
       "<table>\n",
       "    <thead>\n",
       "        <tr>\n",
       "            <th>personid</th>\n",
       "            <th>name</th>\n",
       "            <th>villageid</th>\n",
       "            <th>gender</th>\n",
       "            <th>job</th>\n",
       "            <th>gold</th>\n",
       "            <th>state</th>\n",
       "            <th>hash</th>\n",
       "            <th>token</th>\n",
       "        </tr>\n",
       "    </thead>\n",
       "    <tbody>\n",
       "        <tr>\n",
       "            <td>3</td>\n",
       "            <td>Rita Ox</td>\n",
       "            <td>1</td>\n",
       "            <td>f</td>\n",
       "            <td>baker</td>\n",
       "            <td>350</td>\n",
       "            <td>friendly</td>\n",
       "            <td>589077802421</td>\n",
       "            <td>34691307363378</td>\n",
       "        </tr>\n",
       "        <tr>\n",
       "            <td>9</td>\n",
       "            <td>Tiffany Drummer</td>\n",
       "            <td>1</td>\n",
       "            <td>f</td>\n",
       "            <td>baker</td>\n",
       "            <td>550</td>\n",
       "            <td>evil</td>\n",
       "            <td>592129557518</td>\n",
       "            <td>34691307363378</td>\n",
       "        </tr>\n",
       "        <tr>\n",
       "            <td>1</td>\n",
       "            <td>Paul Bakerman</td>\n",
       "            <td>1</td>\n",
       "            <td>m</td>\n",
       "            <td>baker</td>\n",
       "            <td>850</td>\n",
       "            <td>friendly</td>\n",
       "            <td>646611776879</td>\n",
       "            <td>34691307363378</td>\n",
       "        </tr>\n",
       "    </tbody>\n",
       "</table>"
      ]
     },
     "execution_count": null,
     "metadata": {},
     "output_type": "execute_result"
    }
   ],
   "source": [
    "%%sql\n",
    "-- Hint. The gold must be sorted by decreasing order.\n",
    "SELECT *\n",
    "     , salt_078({{x}} + sum(nn(hash)) OVER ()) AS token\n",
    "FROM inhabitant\n",
    "WHERE job = 'baker'\n",
    "ORDER BY gold"
   ]
  },
  {
   "cell_type": "code",
   "execution_count": null,
   "id": "7cdada1a",
   "metadata": {},
   "outputs": [],
   "source": [
    "assert x == col[\"gold\"][-1]"
   ]
  },
  {
   "cell_type": "code",
   "execution_count": null,
   "id": "e50df9ac",
   "metadata": {},
   "outputs": [
    {
     "data": {
      "text/html": [
       "<table>\n",
       "    <thead>\n",
       "        <tr>\n",
       "            <th>personid</th>\n",
       "            <th>name</th>\n",
       "            <th>villageid</th>\n",
       "            <th>gender</th>\n",
       "            <th>job</th>\n",
       "            <th>gold</th>\n",
       "            <th>state</th>\n",
       "            <th>hash</th>\n",
       "            <th>token</th>\n",
       "        </tr>\n",
       "    </thead>\n",
       "    <tbody>\n",
       "        <tr>\n",
       "            <td>1</td>\n",
       "            <td>Paul Bakerman</td>\n",
       "            <td>1</td>\n",
       "            <td>m</td>\n",
       "            <td>baker</td>\n",
       "            <td>850</td>\n",
       "            <td>friendly</td>\n",
       "            <td>646611776879</td>\n",
       "            <td>34691307360644</td>\n",
       "        </tr>\n",
       "        <tr>\n",
       "            <td>3</td>\n",
       "            <td>Rita Ox</td>\n",
       "            <td>1</td>\n",
       "            <td>f</td>\n",
       "            <td>baker</td>\n",
       "            <td>350</td>\n",
       "            <td>friendly</td>\n",
       "            <td>589077802421</td>\n",
       "            <td>34691307360644</td>\n",
       "        </tr>\n",
       "        <tr>\n",
       "            <td>9</td>\n",
       "            <td>Tiffany Drummer</td>\n",
       "            <td>1</td>\n",
       "            <td>f</td>\n",
       "            <td>baker</td>\n",
       "            <td>550</td>\n",
       "            <td>evil</td>\n",
       "            <td>592129557518</td>\n",
       "            <td>34691307360644</td>\n",
       "        </tr>\n",
       "    </tbody>\n",
       "</table>"
      ]
     },
     "execution_count": null,
     "metadata": {},
     "output_type": "execute_result"
    }
   ],
   "source": [
    "%%sql\n",
    "-- Hint. Don't forget to update the token formula.\n",
    "SELECT *\n",
    "     , salt_078(0 + sum(nn(hash)) OVER ()) AS token\n",
    "FROM inhabitant\n",
    "WHERE job = 'baker'"
   ]
  },
  {
   "cell_type": "markdown",
   "id": "90574714",
   "metadata": {},
   "source": [
    "**Episode [010].** Aha, Paul! I know him!\n",
    "\n",
    "– Hi, you again! I saw you want to work as a baker? Okay! You will be paid 1 gold for 100 bread rolls.\n",
    "\n",
    "(8 hours later...)\n",
    "\n",
    "– Here, I made ten thousand bread rolls! I quit! This should be enough money to buy a sword. Let's see what happens with my gold balance.\n",
    "\n",
    "Here's your new sword, Losloo Qoolls! Now you can go everywhere."
   ]
  },
  {
   "cell_type": "markdown",
   "id": "caf203f4",
   "metadata": {},
   "source": [
    "**Statement.** Transfer your salary (100) from Paul's gold to yours, and substract the price of the sword (150). Then, display your gold balance."
   ]
  },
  {
   "cell_type": "code",
   "execution_count": null,
   "id": "0a1df9ab",
   "metadata": {},
   "outputs": [
    {
     "data": {
      "text/html": [
       "<span style=\"color: green\">1 rows affected.</span>"
      ],
      "text/plain": [
       "1 rows affected."
      ]
     },
     "metadata": {},
     "output_type": "display_data"
    },
    {
     "data": {
      "text/html": [
       "<span style=\"color: green\">1 rows affected.</span>"
      ],
      "text/plain": [
       "1 rows affected."
      ]
     },
     "metadata": {},
     "output_type": "display_data"
    },
    {
     "data": {
      "text/html": [
       "<table>\n",
       "    <thead>\n",
       "        <tr>\n",
       "            <th>gold</th>\n",
       "            <th>token</th>\n",
       "        </tr>\n",
       "    </thead>\n",
       "    <tbody>\n",
       "        <tr>\n",
       "            <td>190</td>\n",
       "            <td>156519988531042</td>\n",
       "        </tr>\n",
       "    </tbody>\n",
       "</table>"
      ]
     },
     "execution_count": null,
     "metadata": {},
     "output_type": "execute_result"
    }
   ],
   "source": [
    "%%sql\n",
    "UPDATE inhabitant\n",
    "SET gold = gold - 100\n",
    "WHERE personid = 1;\n",
    "\n",
    "\n",
    "UPDATE inhabitant\n",
    "SET gold = gold + 100 - 150\n",
    "WHERE personid = 20;\n",
    "\n",
    "\n",
    "SELECT gold\n",
    "     , salt_010(sum(nn(hash)) OVER ()) AS token\n",
    "FROM inhabitant\n",
    "WHERE personid = 20\n",
    "--> Episode [086]"
   ]
  },
  {
   "cell_type": "markdown",
   "id": "510fb142",
   "metadata": {},
   "source": [
    "**Episode [086].**\n",
    "\n",
    "– My name is Leslie qualls! Thanks anyway!"
   ]
  },
  {
   "cell_type": "markdown",
   "id": "3cc9fb9e",
   "metadata": {},
   "source": [
    "**Statement.** Is there a pilot on this island by any chance? He could fly you home."
   ]
  },
  {
   "cell_type": "code",
   "execution_count": null,
   "id": "c7748298",
   "metadata": {},
   "outputs": [
    {
     "data": {
      "text/html": [
       "<table>\n",
       "    <thead>\n",
       "        <tr>\n",
       "            <th>personid</th>\n",
       "            <th>name</th>\n",
       "            <th>villageid</th>\n",
       "            <th>gender</th>\n",
       "            <th>job</th>\n",
       "            <th>gold</th>\n",
       "            <th>state</th>\n",
       "            <th>hash</th>\n",
       "            <th>token</th>\n",
       "        </tr>\n",
       "    </thead>\n",
       "    <tbody>\n",
       "        <tr>\n",
       "            <td>8</td>\n",
       "            <td>Arthur Tailor</td>\n",
       "            <td>2</td>\n",
       "            <td>m</td>\n",
       "            <td>pilot</td>\n",
       "            <td>490</td>\n",
       "            <td>kidnapped</td>\n",
       "            <td>509268313479</td>\n",
       "            <td>228820229151258</td>\n",
       "        </tr>\n",
       "    </tbody>\n",
       "</table>"
      ]
     },
     "execution_count": null,
     "metadata": {},
     "output_type": "execute_result"
    }
   ],
   "source": [
    "%%sql\n",
    "SELECT *\n",
    "     , salt_086(sum(nn(hash)) OVER ()) AS token\n",
    "FROM inhabitant\n",
    "WHERE job = 'pilot'\n",
    "--> Episode [029]"
   ]
  },
  {
   "cell_type": "markdown",
   "id": "3f0be868",
   "metadata": {},
   "source": [
    "## Joins"
   ]
  },
  {
   "cell_type": "markdown",
   "id": "551b942d",
   "metadata": {},
   "source": [
    "**Episode [029].** Oh no, his state is 'kidnapped'.\n",
    "\n",
    "Horrible, the pilot is held captive by Dirty Dieter! I will show you a trick how to find out the name of the village where Dirty Dieter lives.\n",
    "\n",
    "```sql\n",
    "SELECT A.name\n",
    "FROM village A\n",
    "JOIN inhabitant B ON A.villageid = B.villageid\n",
    "WHERE B.name = 'Dirty Dieter'\n",
    "```"
   ]
  },
  {
   "cell_type": "markdown",
   "id": "ab9740fb",
   "metadata": {},
   "source": [
    "**Statement.** Copy-paste the previous query, add the given formula, and execute it."
   ]
  },
  {
   "cell_type": "markdown",
   "id": "b5eec290",
   "metadata": {},
   "source": [
    "**Annotation.** The expression presented here is called a join. It combines the information of the `inhabitant`\n",
    "table with information of the `village` table by matching `villageid` values."
   ]
  },
  {
   "cell_type": "code",
   "execution_count": null,
   "id": "2a875a4e",
   "metadata": {},
   "outputs": [
    {
     "data": {
      "text/html": [
       "<table>\n",
       "    <thead>\n",
       "        <tr>\n",
       "            <th>name</th>\n",
       "            <th>token</th>\n",
       "        </tr>\n",
       "    </thead>\n",
       "    <tbody>\n",
       "        <tr>\n",
       "            <td>Onionville</td>\n",
       "            <td>256416647551874</td>\n",
       "        </tr>\n",
       "    </tbody>\n",
       "</table>"
      ]
     },
     "execution_count": null,
     "metadata": {},
     "output_type": "execute_result"
    }
   ],
   "source": [
    "%%sql\n",
    "SELECT A.name\n",
    "     , salt_029(sum(nn(A.hash) + nn(B.hash)) OVER ()) AS token\n",
    "FROM village A\n",
    "JOIN inhabitant B ON A.villageid = B.villageid\n",
    "WHERE B.name = 'Dirty Dieter'\n",
    "--> Episode [045]"
   ]
  },
  {
   "cell_type": "code",
   "execution_count": null,
   "id": "39ae4e92",
   "metadata": {},
   "outputs": [
    {
     "data": {
      "text/html": [
       "<table>\n",
       "    <thead>\n",
       "        <tr>\n",
       "            <th>name</th>\n",
       "            <th>token</th>\n",
       "        </tr>\n",
       "    </thead>\n",
       "    <tbody>\n",
       "        <tr>\n",
       "            <td>Onionville</td>\n",
       "            <td>256416647551874</td>\n",
       "        </tr>\n",
       "    </tbody>\n",
       "</table>"
      ]
     },
     "execution_count": null,
     "metadata": {},
     "output_type": "execute_result"
    }
   ],
   "source": [
    "%%sql\n",
    "-- Variant. Implicit JOIN. You may encounter a syntax where the join conditions are mixed with the filter conditions.\n",
    "-- This can make the query harder to understand, especially as the number of tables and conditions increases.\n",
    "-- While this method is still supported for backward compatibility, it is generally considered outdated. The\n",
    "-- explicit JOIN syntax is recommended for new SQL code.\n",
    "SELECT A.name\n",
    "     , salt_029(sum(nn(A.hash) + nn(B.hash)) OVER ()) AS token\n",
    "FROM village A, inhabitant B\n",
    "WHERE A.villageid = B.villageid\n",
    "  AND B.name = 'Dirty Dieter'"
   ]
  },
  {
   "cell_type": "markdown",
   "id": "178b5ed6",
   "metadata": {},
   "source": [
    "**Episode [045].**\n",
    "\n",
    "– Thanks for the hint!"
   ]
  },
  {
   "cell_type": "markdown",
   "id": "1741e69b",
   "metadata": {},
   "source": [
    "**Statement.** Use the join to find out the chief's name of the village Onionville.\n",
    "\n",
    "_Tip._ In the column `chief` in the village table, the `personid` of the chief is stored."
   ]
  },
  {
   "cell_type": "code",
   "execution_count": null,
   "id": "a62e3600",
   "metadata": {},
   "outputs": [
    {
     "data": {
      "text/html": [
       "<table>\n",
       "    <thead>\n",
       "        <tr>\n",
       "            <th>name</th>\n",
       "            <th>token</th>\n",
       "        </tr>\n",
       "    </thead>\n",
       "    <tbody>\n",
       "        <tr>\n",
       "            <td>Fred Dix</td>\n",
       "            <td>241551827838277</td>\n",
       "        </tr>\n",
       "    </tbody>\n",
       "</table>"
      ]
     },
     "execution_count": null,
     "metadata": {},
     "output_type": "execute_result"
    }
   ],
   "source": [
    "%%sql\n",
    "SELECT B.name\n",
    "     , salt_045(sum(nn(A.hash) + nn(B.hash)) OVER ()) AS token\n",
    "FROM village A\n",
    "JOIN inhabitant B ON A.chief = B.personid\n",
    "WHERE A.name = 'Onionville'\n",
    "--> Episode [012]"
   ]
  },
  {
   "cell_type": "code",
   "execution_count": null,
   "id": "84de7a34",
   "metadata": {},
   "outputs": [],
   "source": [
    "assert col[\"name\"] == [\"Fred Dix\"]"
   ]
  },
  {
   "cell_type": "code",
   "execution_count": null,
   "id": "eaf055a0",
   "metadata": {},
   "outputs": [
    {
     "data": {
      "text/html": [
       "<table>\n",
       "    <thead>\n",
       "        <tr>\n",
       "            <th>name</th>\n",
       "            <th>token</th>\n",
       "        </tr>\n",
       "    </thead>\n",
       "    <tbody>\n",
       "        <tr>\n",
       "            <td>Paul Bakerman</td>\n",
       "            <td>237791690290201</td>\n",
       "        </tr>\n",
       "        <tr>\n",
       "            <td>Gerry Slaughterer</td>\n",
       "            <td>237791690290201</td>\n",
       "        </tr>\n",
       "        <tr>\n",
       "            <td>Fred Dix</td>\n",
       "            <td>237791690290201</td>\n",
       "        </tr>\n",
       "    </tbody>\n",
       "</table>"
      ]
     },
     "execution_count": null,
     "metadata": {},
     "output_type": "execute_result"
    }
   ],
   "source": [
    "%%sql\n",
    "-- Hint. We are only interested in the chief of Onionville.\n",
    "SELECT B.name\n",
    "     , salt_045(sum(nn(A.hash) + nn(B.hash)) OVER ()) AS token\n",
    "FROM village A\n",
    "JOIN inhabitant B ON A.chief = B.personid"
   ]
  },
  {
   "cell_type": "code",
   "execution_count": null,
   "id": "e3b2a37e",
   "metadata": {},
   "outputs": [
    {
     "data": {
      "text/html": [
       "<table>\n",
       "    <thead>\n",
       "        <tr>\n",
       "            <th>name</th>\n",
       "            <th>token</th>\n",
       "        </tr>\n",
       "    </thead>\n",
       "    <tbody>\n",
       "        <tr>\n",
       "            <td>Paul Bakerman</td>\n",
       "            <td>234350336086754</td>\n",
       "        </tr>\n",
       "        <tr>\n",
       "            <td>Ernest Perry</td>\n",
       "            <td>234350336086754</td>\n",
       "        </tr>\n",
       "        <tr>\n",
       "            <td>Rita Ox</td>\n",
       "            <td>234350336086754</td>\n",
       "        </tr>\n",
       "        <tr>\n",
       "            <td>Carl Ox</td>\n",
       "            <td>234350336086754</td>\n",
       "        </tr>\n",
       "        <tr>\n",
       "            <td>Dirty Dieter</td>\n",
       "            <td>234350336086754</td>\n",
       "        </tr>\n",
       "        <tr>\n",
       "            <td>Gerry Slaughterer</td>\n",
       "            <td>234350336086754</td>\n",
       "        </tr>\n",
       "        <tr>\n",
       "            <td>Peter Slaughterer</td>\n",
       "            <td>234350336086754</td>\n",
       "        </tr>\n",
       "        <tr>\n",
       "            <td>Arthur Tailor</td>\n",
       "            <td>234350336086754</td>\n",
       "        </tr>\n",
       "        <tr>\n",
       "            <td>Tiffany Drummer</td>\n",
       "            <td>234350336086754</td>\n",
       "        </tr>\n",
       "        <tr>\n",
       "            <td>Peter Drummer</td>\n",
       "            <td>234350336086754</td>\n",
       "        </tr>\n",
       "        <tr>\n",
       "            <td>Dirty Diane</td>\n",
       "            <td>234350336086754</td>\n",
       "        </tr>\n",
       "        <tr>\n",
       "            <td>Otto Alexander</td>\n",
       "            <td>234350336086754</td>\n",
       "        </tr>\n",
       "        <tr>\n",
       "            <td>Fred Dix</td>\n",
       "            <td>234350336086754</td>\n",
       "        </tr>\n",
       "        <tr>\n",
       "            <td>Enrico Carpenter</td>\n",
       "            <td>234350336086754</td>\n",
       "        </tr>\n",
       "        <tr>\n",
       "            <td>Helen Grasshead</td>\n",
       "            <td>234350336086754</td>\n",
       "        </tr>\n",
       "        <tr>\n",
       "            <td>Ivy Hatter</td>\n",
       "            <td>234350336086754</td>\n",
       "        </tr>\n",
       "        <tr>\n",
       "            <td>Edward Grasshead</td>\n",
       "            <td>234350336086754</td>\n",
       "        </tr>\n",
       "        <tr>\n",
       "            <td>Ryan Horse</td>\n",
       "            <td>234350336086754</td>\n",
       "        </tr>\n",
       "        <tr>\n",
       "            <td>Ann Meaty</td>\n",
       "            <td>234350336086754</td>\n",
       "        </tr>\n",
       "        <tr>\n",
       "            <td>Leslie Quals</td>\n",
       "            <td>234350336086754</td>\n",
       "        </tr>\n",
       "    </tbody>\n",
       "</table>"
      ]
     },
     "execution_count": null,
     "metadata": {},
     "output_type": "execute_result"
    }
   ],
   "source": [
    "%%sql\n",
    "-- Hint. Don't forget the join condition (`ON ...`). Without it, you make a cartesian product.\n",
    "SELECT B.name\n",
    "     , salt_045(sum(nn(A.hash) + nn(B.hash)) OVER ()) AS token\n",
    "FROM village A, inhabitant B\n",
    "WHERE A.name = 'Onionville'"
   ]
  },
  {
   "cell_type": "markdown",
   "id": "649e4da1",
   "metadata": {},
   "source": [
    "## `COUNT(*)`"
   ]
  },
  {
   "cell_type": "markdown",
   "id": "4938d30c",
   "metadata": {},
   "source": [
    "**Episode [012].** I've got it! I will visit Fred and ask him about Dirty Dieter and the pilot.\n",
    "\n",
    "Um, how many inhabitants does Onionville have?\n",
    "\n",
    "```sql\n",
    "SELECT COUNT(*) as population\n",
    "FROM inhabitant A\n",
    "JOIN village B ON A.villageid = B.villageid\n",
    "WHERE B.name = 'Onionville'\n",
    "```"
   ]
  },
  {
   "cell_type": "markdown",
   "id": "0b6f5dab",
   "metadata": {},
   "source": [
    "**Statement.** Copy-paste the previous query, add the given formula, and execute it."
   ]
  },
  {
   "cell_type": "code",
   "execution_count": null,
   "id": "c248e72d",
   "metadata": {},
   "outputs": [
    {
     "data": {
      "text/html": [
       "<table>\n",
       "    <thead>\n",
       "        <tr>\n",
       "            <th>population</th>\n",
       "            <th>token</th>\n",
       "        </tr>\n",
       "    </thead>\n",
       "    <tbody>\n",
       "        <tr>\n",
       "            <td>8</td>\n",
       "            <td>238207576521752</td>\n",
       "        </tr>\n",
       "    </tbody>\n",
       "</table>"
      ]
     },
     "execution_count": null,
     "metadata": {},
     "output_type": "execute_result"
    }
   ],
   "source": [
    "%%sql\n",
    "SELECT count(*) AS population\n",
    "     , salt_012(sum(avg(nn(A.hash) + nn(B.hash))) OVER ()) AS token\n",
    "FROM inhabitant A\n",
    "JOIN village B ON A.villageid = B.villageid\n",
    "WHERE B.name = 'Onionville'\n",
    "--> Episode [032]"
   ]
  },
  {
   "cell_type": "markdown",
   "id": "1cc8339a",
   "metadata": {},
   "source": [
    "**Episode [032].**\n",
    "\n",
    "– Hello Leslie Qualls, the pilot is held captive by Dirty Dieter in his sister's house."
   ]
  },
  {
   "cell_type": "markdown",
   "id": "9f0130e5",
   "metadata": {},
   "source": [
    "**Statement.** Shall I tell you how many women there are in Onionville? Nah, you can figure it out by yourself!\n",
    "\n",
    "_Tip._ Women show up as gender = 'f'."
   ]
  },
  {
   "cell_type": "code",
   "execution_count": null,
   "id": "0373b9bc",
   "metadata": {},
   "outputs": [],
   "source": [
    "x = 1 # this number\n",
    "# Javascript: result[0][0]"
   ]
  },
  {
   "cell_type": "code",
   "execution_count": null,
   "id": "7f6a4e6b",
   "metadata": {},
   "outputs": [
    {
     "data": {
      "text/html": [
       "<table>\n",
       "    <thead>\n",
       "        <tr>\n",
       "            <th>women</th>\n",
       "            <th>token</th>\n",
       "        </tr>\n",
       "    </thead>\n",
       "    <tbody>\n",
       "        <tr>\n",
       "            <td>1</td>\n",
       "            <td>41269257906868</td>\n",
       "        </tr>\n",
       "    </tbody>\n",
       "</table>"
      ]
     },
     "execution_count": null,
     "metadata": {},
     "output_type": "execute_result"
    }
   ],
   "source": [
    "%%sql\n",
    "SELECT count(*) AS women\n",
    "     , salt_032({{x}} + sum(avg(nn(A.hash) + nn(B.hash))) OVER ()) AS token\n",
    "FROM inhabitant A\n",
    "JOIN village B ON A.villageid = B.villageid\n",
    "    AND B.name = 'Onionville'\n",
    "    AND gender = 'f'\n",
    "--> Episode [036]"
   ]
  },
  {
   "cell_type": "code",
   "execution_count": null,
   "id": "f44a6e2c",
   "metadata": {},
   "outputs": [],
   "source": [
    "assert x == col[\"women\"][0]"
   ]
  },
  {
   "cell_type": "code",
   "execution_count": null,
   "id": "d0c96030",
   "metadata": {},
   "outputs": [],
   "source": [
    "x = 8"
   ]
  },
  {
   "cell_type": "code",
   "execution_count": null,
   "id": "451b7ff1",
   "metadata": {},
   "outputs": [
    {
     "data": {
      "text/html": [
       "<table>\n",
       "    <thead>\n",
       "        <tr>\n",
       "            <th>women</th>\n",
       "            <th>token</th>\n",
       "        </tr>\n",
       "    </thead>\n",
       "    <tbody>\n",
       "        <tr>\n",
       "            <td>8</td>\n",
       "            <td>39891969235649</td>\n",
       "        </tr>\n",
       "    </tbody>\n",
       "</table>"
      ]
     },
     "execution_count": null,
     "metadata": {},
     "output_type": "execute_result"
    }
   ],
   "source": [
    "%%sql\n",
    "-- Hint. This is the population of Onionville. We are only interested in its women.\n",
    "SELECT count(*) AS women\n",
    "     , salt_032({{x}} + sum(avg(nn(A.hash) + nn(B.hash))) OVER ()) AS token\n",
    "FROM inhabitant A, village B\n",
    "WHERE A.villageid = B.villageid\n",
    "    AND B.name = 'Onionville'"
   ]
  },
  {
   "cell_type": "code",
   "execution_count": null,
   "id": "413f120e",
   "metadata": {},
   "outputs": [],
   "source": [
    "assert x == col[\"women\"][0]"
   ]
  },
  {
   "cell_type": "code",
   "execution_count": null,
   "id": "19167b8d",
   "metadata": {},
   "outputs": [],
   "source": [
    "x = 6"
   ]
  },
  {
   "cell_type": "code",
   "execution_count": null,
   "id": "22cdd083",
   "metadata": {},
   "outputs": [
    {
     "data": {
      "text/html": [
       "<table>\n",
       "    <thead>\n",
       "        <tr>\n",
       "            <th>women</th>\n",
       "            <th>token</th>\n",
       "        </tr>\n",
       "    </thead>\n",
       "    <tbody>\n",
       "        <tr>\n",
       "            <td>6</td>\n",
       "            <td>40030811180335</td>\n",
       "        </tr>\n",
       "    </tbody>\n",
       "</table>"
      ]
     },
     "execution_count": null,
     "metadata": {},
     "output_type": "execute_result"
    }
   ],
   "source": [
    "%%sql\n",
    "-- Hint. This is the total number of women. We are only interested in those of Onionville.\n",
    "SELECT count(*) AS women\n",
    "     , salt_032({{x}} + sum(avg(nn(A.hash) + nn(B.hash))) OVER ()) AS token\n",
    "FROM inhabitant A, village B\n",
    "WHERE A.villageid = B.villageid\n",
    "    AND gender = 'f'"
   ]
  },
  {
   "cell_type": "code",
   "execution_count": null,
   "id": "05c82a35",
   "metadata": {},
   "outputs": [],
   "source": [
    "assert x == col[\"women\"][0]"
   ]
  },
  {
   "cell_type": "code",
   "execution_count": null,
   "id": "9e7b15d4",
   "metadata": {},
   "outputs": [],
   "source": [
    "x = 6"
   ]
  },
  {
   "cell_type": "code",
   "execution_count": null,
   "id": "9beae108",
   "metadata": {},
   "outputs": [
    {
     "data": {
      "text/html": [
       "<table>\n",
       "    <thead>\n",
       "        <tr>\n",
       "            <th>women</th>\n",
       "            <th>token</th>\n",
       "        </tr>\n",
       "    </thead>\n",
       "    <tbody>\n",
       "        <tr>\n",
       "            <td>6</td>\n",
       "            <td>39735907674280</td>\n",
       "        </tr>\n",
       "    </tbody>\n",
       "</table>"
      ]
     },
     "execution_count": null,
     "metadata": {},
     "output_type": "execute_result"
    }
   ],
   "source": [
    "%%sql\n",
    "-- Hint. Don't forget the join condition (`ON ...`).\n",
    "SELECT count(*) AS women\n",
    "     , salt_032({{x}} + sum(avg(nn(A.hash) + nn(B.hash))) OVER ()) AS token\n",
    "FROM inhabitant A, village B\n",
    "WHERE gender = 'f'\n",
    "    AND B.name = 'Onionville'"
   ]
  },
  {
   "cell_type": "code",
   "execution_count": null,
   "id": "b284294d",
   "metadata": {},
   "outputs": [],
   "source": [
    "assert x == col[\"women\"][0]"
   ]
  },
  {
   "cell_type": "markdown",
   "id": "190133db",
   "metadata": {},
   "source": [
    "**Episode [036].** Oh, only one woman."
   ]
  },
  {
   "cell_type": "markdown",
   "id": "ed7008a8",
   "metadata": {},
   "source": [
    "**Statement.** What's her name?"
   ]
  },
  {
   "cell_type": "code",
   "execution_count": null,
   "id": "5f43b0e0",
   "metadata": {},
   "outputs": [
    {
     "data": {
      "text/html": [
       "<table>\n",
       "    <thead>\n",
       "        <tr>\n",
       "            <th>name</th>\n",
       "            <th>token</th>\n",
       "        </tr>\n",
       "    </thead>\n",
       "    <tbody>\n",
       "        <tr>\n",
       "            <td>Dirty Diane</td>\n",
       "            <td>124758398389543</td>\n",
       "        </tr>\n",
       "    </tbody>\n",
       "</table>"
      ]
     },
     "execution_count": null,
     "metadata": {},
     "output_type": "execute_result"
    }
   ],
   "source": [
    "%%sql\n",
    "SELECT A.name\n",
    "     , salt_036(sum(nn(A.hash) + nn(B.hash)) OVER ()) AS token\n",
    "FROM inhabitant A\n",
    "JOIN village B ON A.villageid = B.villageid\n",
    "WHERE B.name = 'Onionville'\n",
    "    AND gender = 'f'\n",
    "--> Episode [035]"
   ]
  },
  {
   "cell_type": "code",
   "execution_count": null,
   "id": "2fb62fdd",
   "metadata": {},
   "outputs": [],
   "source": [
    "assert col[\"name\"] == ['Dirty Diane']"
   ]
  },
  {
   "cell_type": "code",
   "execution_count": null,
   "id": "9980d77f",
   "metadata": {},
   "outputs": [
    {
     "data": {
      "text/html": [
       "<table>\n",
       "    <thead>\n",
       "        <tr>\n",
       "            <th>name</th>\n",
       "            <th>token</th>\n",
       "        </tr>\n",
       "    </thead>\n",
       "    <tbody>\n",
       "        <tr>\n",
       "            <td>Rita Ox</td>\n",
       "            <td>128750693527757</td>\n",
       "        </tr>\n",
       "        <tr>\n",
       "            <td>Tiffany Drummer</td>\n",
       "            <td>128750693527757</td>\n",
       "        </tr>\n",
       "        <tr>\n",
       "            <td>Dirty Diane</td>\n",
       "            <td>128750693527757</td>\n",
       "        </tr>\n",
       "        <tr>\n",
       "            <td>Helen Grasshead</td>\n",
       "            <td>128750693527757</td>\n",
       "        </tr>\n",
       "        <tr>\n",
       "            <td>Ivy Hatter</td>\n",
       "            <td>128750693527757</td>\n",
       "        </tr>\n",
       "        <tr>\n",
       "            <td>Ann Meaty</td>\n",
       "            <td>128750693527757</td>\n",
       "        </tr>\n",
       "    </tbody>\n",
       "</table>"
      ]
     },
     "execution_count": null,
     "metadata": {},
     "output_type": "execute_result"
    }
   ],
   "source": [
    "%%sql\n",
    "-- Hint. Restrict the result to Onionville.\n",
    "SELECT A.name\n",
    "     , salt_036(sum(nn(A.hash) + nn(B.hash)) OVER ()) AS token\n",
    "FROM inhabitant A\n",
    "JOIN village B ON A.villageid = B.villageid\n",
    "WHERE gender = 'f'"
   ]
  },
  {
   "cell_type": "code",
   "execution_count": null,
   "id": "1f4bb52d",
   "metadata": {},
   "outputs": [
    {
     "data": {
      "text/html": [
       "<table>\n",
       "    <thead>\n",
       "        <tr>\n",
       "            <th>name</th>\n",
       "            <th>token</th>\n",
       "        </tr>\n",
       "    </thead>\n",
       "    <tbody>\n",
       "        <tr>\n",
       "            <td>Ernest Perry</td>\n",
       "            <td>130035311163695</td>\n",
       "        </tr>\n",
       "        <tr>\n",
       "            <td>Dirty Dieter</td>\n",
       "            <td>130035311163695</td>\n",
       "        </tr>\n",
       "        <tr>\n",
       "            <td>Peter Slaughterer</td>\n",
       "            <td>130035311163695</td>\n",
       "        </tr>\n",
       "        <tr>\n",
       "            <td>Dirty Diane</td>\n",
       "            <td>130035311163695</td>\n",
       "        </tr>\n",
       "        <tr>\n",
       "            <td>Fred Dix</td>\n",
       "            <td>130035311163695</td>\n",
       "        </tr>\n",
       "        <tr>\n",
       "            <td>Enrico Carpenter</td>\n",
       "            <td>130035311163695</td>\n",
       "        </tr>\n",
       "        <tr>\n",
       "            <td>Edward Grasshead</td>\n",
       "            <td>130035311163695</td>\n",
       "        </tr>\n",
       "        <tr>\n",
       "            <td>Ryan Horse</td>\n",
       "            <td>130035311163695</td>\n",
       "        </tr>\n",
       "    </tbody>\n",
       "</table>"
      ]
     },
     "execution_count": null,
     "metadata": {},
     "output_type": "execute_result"
    }
   ],
   "source": [
    "%%sql\n",
    "-- Hint. Restrict the result to the women.\n",
    "SELECT A.name\n",
    "     , salt_036(sum(nn(A.hash) + nn(B.hash)) OVER ()) AS token\n",
    "FROM inhabitant A\n",
    "JOIN village B ON A.villageid = B.villageid\n",
    "WHERE B.name = 'Onionville'"
   ]
  },
  {
   "cell_type": "markdown",
   "id": "c3bf7a48",
   "metadata": {},
   "source": [
    "## `SUM()`"
   ]
  },
  {
   "cell_type": "markdown",
   "id": "6d66ba3c",
   "metadata": {},
   "source": [
    "**Episode [035].** Let's go!\n",
    "\n",
    "– Leslie Qualls, if you hand me over the entire property of our nearby village Cucumbertown, I will release the pilot. I will show you now what this property consists of.\n",
    "\n",
    "```sql\n",
    "SELECT SUM(A.gold) as total\n",
    "FROM inhabitant A\n",
    "JOIN village B ON A.villageid = B.villageid\n",
    "WHERE B.name = 'Cucumbertown'\n",
    "```"
   ]
  },
  {
   "cell_type": "markdown",
   "id": "a298ce10",
   "metadata": {},
   "source": [
    "**Statement.** Copy-paste the previous query, add the given formula, and execute it."
   ]
  },
  {
   "cell_type": "code",
   "execution_count": null,
   "id": "f51e56a7",
   "metadata": {},
   "outputs": [
    {
     "data": {
      "text/html": [
       "<table>\n",
       "    <thead>\n",
       "        <tr>\n",
       "            <th>total</th>\n",
       "            <th>token</th>\n",
       "        </tr>\n",
       "    </thead>\n",
       "    <tbody>\n",
       "        <tr>\n",
       "            <td>8860</td>\n",
       "            <td>152687633573299</td>\n",
       "        </tr>\n",
       "    </tbody>\n",
       "</table>"
      ]
     },
     "execution_count": null,
     "metadata": {},
     "output_type": "execute_result"
    }
   ],
   "source": [
    "%%sql\n",
    "SELECT sum(A.gold) AS total\n",
    "     , salt_035(sum(avg(nn(A.hash) + nn(B.hash))) OVER ()) AS token\n",
    "FROM inhabitant A\n",
    "JOIN village B ON A.villageid = B.villageid\n",
    "WHERE B.name = 'Cucumbertown'\n",
    "--> Episode [046]"
   ]
  },
  {
   "cell_type": "markdown",
   "id": "88e22bfa",
   "metadata": {},
   "source": [
    "**Episode [046].** Oh no, baking bread alone can't solve my problems. If I continue working and selling items though, I could earn more gold than the worth of gold inventories of all bakers, dealers and merchants together."
   ]
  },
  {
   "cell_type": "markdown",
   "id": "0a3a0b0c",
   "metadata": {},
   "source": [
    "**Statement.** Sum the gold of all these people."
   ]
  },
  {
   "cell_type": "code",
   "execution_count": null,
   "id": "ff23d9a1",
   "metadata": {},
   "outputs": [],
   "source": [
    "x = 3910 # this sum\n",
    "# Javascript: result[0][0]"
   ]
  },
  {
   "cell_type": "code",
   "execution_count": null,
   "id": "3a838a88",
   "metadata": {},
   "outputs": [
    {
     "data": {
      "text/html": [
       "<table>\n",
       "    <thead>\n",
       "        <tr>\n",
       "            <th>total</th>\n",
       "            <th>token</th>\n",
       "        </tr>\n",
       "    </thead>\n",
       "    <tbody>\n",
       "        <tr>\n",
       "            <td>3910</td>\n",
       "            <td>203591029657813</td>\n",
       "        </tr>\n",
       "    </tbody>\n",
       "</table>"
      ]
     },
     "execution_count": null,
     "metadata": {},
     "output_type": "execute_result"
    }
   ],
   "source": [
    "%%sql\n",
    "SELECT sum(inhabitant.gold) AS total\n",
    "     , salt_046({{x}} + sum(avg(nn(hash))) OVER ()) AS token\n",
    "FROM inhabitant\n",
    "WHERE job IN ('baker', 'dealer', 'merchant')\n",
    "--> Episode [071]"
   ]
  },
  {
   "cell_type": "code",
   "execution_count": null,
   "id": "f263ebaf",
   "metadata": {},
   "outputs": [],
   "source": [
    "assert x == col[\"total\"][0]"
   ]
  },
  {
   "cell_type": "code",
   "execution_count": null,
   "id": "cfa87ade",
   "metadata": {},
   "outputs": [],
   "source": [
    "x = 18820"
   ]
  },
  {
   "cell_type": "code",
   "execution_count": null,
   "id": "611496b9",
   "metadata": {},
   "outputs": [
    {
     "data": {
      "text/html": [
       "<table>\n",
       "    <thead>\n",
       "        <tr>\n",
       "            <th>total</th>\n",
       "            <th>token</th>\n",
       "        </tr>\n",
       "    </thead>\n",
       "    <tbody>\n",
       "        <tr>\n",
       "            <td>18820</td>\n",
       "            <td>203589828702201</td>\n",
       "        </tr>\n",
       "    </tbody>\n",
       "</table>"
      ]
     },
     "execution_count": null,
     "metadata": {},
     "output_type": "execute_result"
    }
   ],
   "source": [
    "%%sql\n",
    "-- Hint. Restrict your queries to the bakers, dealers and merchants together.\n",
    "SELECT sum(inhabitant.gold) AS total\n",
    "     , salt_046({{x}} + sum(avg(nn(hash))) OVER ()) AS token\n",
    "FROM inhabitant"
   ]
  },
  {
   "cell_type": "code",
   "execution_count": null,
   "id": "fdb63611",
   "metadata": {},
   "outputs": [],
   "source": [
    "assert x == col[\"total\"][0]"
   ]
  },
  {
   "cell_type": "markdown",
   "id": "bd28e92e",
   "metadata": {},
   "source": [
    "## `AVG()`"
   ]
  },
  {
   "cell_type": "markdown",
   "id": "315290c1",
   "metadata": {},
   "source": [
    "**Episode [071].** That's not enough.\n",
    "\n",
    "Let's have a look at how much average gold people own, depending on their job.\n",
    "\n",
    "```sql\n",
    "SELECT job, avg(gold)\n",
    "FROM inhabitant\n",
    "GROUP BY job\n",
    "ORDER BY avg(gold)\n",
    "```"
   ]
  },
  {
   "cell_type": "markdown",
   "id": "ca3737ad",
   "metadata": {},
   "source": [
    "**Statement.** Copy-paste the previous query, add the given formula, and execute it."
   ]
  },
  {
   "cell_type": "code",
   "execution_count": null,
   "id": "89294099",
   "metadata": {},
   "outputs": [
    {
     "data": {
      "text/html": [
       "<table>\n",
       "    <thead>\n",
       "        <tr>\n",
       "            <th>job</th>\n",
       "            <th>average</th>\n",
       "            <th>token</th>\n",
       "        </tr>\n",
       "    </thead>\n",
       "    <tbody>\n",
       "        <tr>\n",
       "            <td>farmer</td>\n",
       "            <td>10.0</td>\n",
       "            <td>222052332563255</td>\n",
       "        </tr>\n",
       "        <tr>\n",
       "            <td>?</td>\n",
       "            <td>190.0</td>\n",
       "            <td>222052332563255</td>\n",
       "        </tr>\n",
       "        <tr>\n",
       "            <td>merchant</td>\n",
       "            <td>250.0</td>\n",
       "            <td>222052332563255</td>\n",
       "        </tr>\n",
       "        <tr>\n",
       "            <td>blacksmith</td>\n",
       "            <td>390.0</td>\n",
       "            <td>222052332563255</td>\n",
       "        </tr>\n",
       "        <tr>\n",
       "            <td>weaponsmith</td>\n",
       "            <td>395.0</td>\n",
       "            <td>222052332563255</td>\n",
       "        </tr>\n",
       "        <tr>\n",
       "            <td>author</td>\n",
       "            <td>420.0</td>\n",
       "            <td>222052332563255</td>\n",
       "        </tr>\n",
       "        <tr>\n",
       "            <td>pilot</td>\n",
       "            <td>490.0</td>\n",
       "            <td>222052332563255</td>\n",
       "        </tr>\n",
       "        <tr>\n",
       "            <td>baker</td>\n",
       "            <td>550.0</td>\n",
       "            <td>222052332563255</td>\n",
       "        </tr>\n",
       "        <tr>\n",
       "            <td>smith</td>\n",
       "            <td>625.0</td>\n",
       "            <td>222052332563255</td>\n",
       "        </tr>\n",
       "        <tr>\n",
       "            <td>dealer</td>\n",
       "            <td>670.0</td>\n",
       "            <td>222052332563255</td>\n",
       "        </tr>\n",
       "        <tr>\n",
       "            <td>butcher</td>\n",
       "            <td>2842.5</td>\n",
       "            <td>222052332563255</td>\n",
       "        </tr>\n",
       "    </tbody>\n",
       "</table>"
      ]
     },
     "execution_count": null,
     "metadata": {},
     "output_type": "execute_result"
    }
   ],
   "source": [
    "%%sql\n",
    "SELECT job\n",
    "     , avg(gold) AS average\n",
    "     , salt_071(sum(avg(nn(hash))) OVER ()) AS token\n",
    "FROM inhabitant\n",
    "GROUP BY job\n",
    "ORDER BY average\n",
    "--> Episode [018]"
   ]
  },
  {
   "cell_type": "markdown",
   "id": "5ada83d0",
   "metadata": {},
   "source": [
    "## `DELETE`"
   ]
  },
  {
   "cell_type": "markdown",
   "id": "6f519693",
   "metadata": {},
   "source": [
    "**Episode [018].** Ok, so the only way is to mug the villains. Or I might as well go ahead and just kill Dirty Dieter with my sword!\n",
    "\n",
    "```sql\n",
    "DELETE\n",
    "FROM inhabitant\n",
    "WHERE name = 'Dirty Dieter'\n",
    "```"
   ]
  },
  {
   "cell_type": "markdown",
   "id": "978e4939",
   "metadata": {},
   "source": [
    "**Statement.** Execute the previous statement. Which item is now ownerless?"
   ]
  },
  {
   "cell_type": "code",
   "execution_count": null,
   "id": "168d4ed2",
   "metadata": {},
   "outputs": [
    {
     "data": {
      "text/html": [
       "<span style=\"color: green\">1 rows affected.</span>"
      ],
      "text/plain": [
       "1 rows affected."
      ]
     },
     "metadata": {},
     "output_type": "display_data"
    },
    {
     "data": {
      "text/html": [
       "<table>\n",
       "    <thead>\n",
       "        <tr>\n",
       "            <th>item</th>\n",
       "            <th>token</th>\n",
       "        </tr>\n",
       "    </thead>\n",
       "    <tbody>\n",
       "        <tr>\n",
       "            <td>cane</td>\n",
       "            <td>193773092890240</td>\n",
       "        </tr>\n",
       "    </tbody>\n",
       "</table>"
      ]
     },
     "execution_count": null,
     "metadata": {},
     "output_type": "execute_result"
    }
   ],
   "source": [
    "%%sql\n",
    "DELETE\n",
    "FROM inhabitant\n",
    "WHERE name = 'Dirty Dieter';\n",
    "\n",
    "\n",
    "SELECT item\n",
    "     , salt_018(sum(nn(hash)) OVER ()) AS token\n",
    "FROM item\n",
    "WHERE owner IS NULL\n",
    "--> Episode [004]"
   ]
  },
  {
   "cell_type": "code",
   "execution_count": null,
   "id": "0cfdbdae",
   "metadata": {},
   "outputs": [],
   "source": [
    "assert col[\"item\"] == ['cane']"
   ]
  },
  {
   "cell_type": "markdown",
   "id": "9cd8cdce",
   "metadata": {},
   "source": [
    "**Episode [004].** Dirty Diane: Heeeey! Now I'm very angry!\n",
    "\n",
    "What will you do next, Leslie Qualls?"
   ]
  },
  {
   "cell_type": "markdown",
   "id": "7b0d072f",
   "metadata": {},
   "source": [
    "**Statement.** Delete Dirty Diane, and show the remaining inhabitants of Onionville (villageid 3)."
   ]
  },
  {
   "cell_type": "code",
   "execution_count": null,
   "id": "1ffbd6fb",
   "metadata": {},
   "outputs": [
    {
     "data": {
      "text/html": [
       "<span style=\"color: green\">1 rows affected.</span>"
      ],
      "text/plain": [
       "1 rows affected."
      ]
     },
     "metadata": {},
     "output_type": "display_data"
    },
    {
     "data": {
      "text/html": [
       "<table>\n",
       "    <thead>\n",
       "        <tr>\n",
       "            <th>personid</th>\n",
       "            <th>name</th>\n",
       "            <th>villageid</th>\n",
       "            <th>gender</th>\n",
       "            <th>job</th>\n",
       "            <th>gold</th>\n",
       "            <th>state</th>\n",
       "            <th>hash</th>\n",
       "            <th>token</th>\n",
       "        </tr>\n",
       "    </thead>\n",
       "    <tbody>\n",
       "        <tr>\n",
       "            <td>2</td>\n",
       "            <td>Ernest Perry</td>\n",
       "            <td>3</td>\n",
       "            <td>m</td>\n",
       "            <td>weaponsmith</td>\n",
       "            <td>280</td>\n",
       "            <td>friendly</td>\n",
       "            <td>630197013484</td>\n",
       "            <td>60216806700812</td>\n",
       "        </tr>\n",
       "        <tr>\n",
       "            <td>7</td>\n",
       "            <td>Peter Slaughterer</td>\n",
       "            <td>3</td>\n",
       "            <td>m</td>\n",
       "            <td>butcher</td>\n",
       "            <td>3250</td>\n",
       "            <td>evil</td>\n",
       "            <td>681036005590</td>\n",
       "            <td>60216806700812</td>\n",
       "        </tr>\n",
       "        <tr>\n",
       "            <td>13</td>\n",
       "            <td>Fred Dix</td>\n",
       "            <td>3</td>\n",
       "            <td>m</td>\n",
       "            <td>author</td>\n",
       "            <td>420</td>\n",
       "            <td>friendly</td>\n",
       "            <td>758537101048</td>\n",
       "            <td>60216806700812</td>\n",
       "        </tr>\n",
       "        <tr>\n",
       "            <td>14</td>\n",
       "            <td>Enrico Carpenter</td>\n",
       "            <td>3</td>\n",
       "            <td>m</td>\n",
       "            <td>weaponsmith</td>\n",
       "            <td>510</td>\n",
       "            <td>evil</td>\n",
       "            <td>342855603621</td>\n",
       "            <td>60216806700812</td>\n",
       "        </tr>\n",
       "        <tr>\n",
       "            <td>17</td>\n",
       "            <td>Edward Grasshead</td>\n",
       "            <td>3</td>\n",
       "            <td>m</td>\n",
       "            <td>butcher</td>\n",
       "            <td>990</td>\n",
       "            <td>friendly</td>\n",
       "            <td>143447863181</td>\n",
       "            <td>60216806700812</td>\n",
       "        </tr>\n",
       "        <tr>\n",
       "            <td>18</td>\n",
       "            <td>Ryan Horse</td>\n",
       "            <td>3</td>\n",
       "            <td>m</td>\n",
       "            <td>blacksmith</td>\n",
       "            <td>390</td>\n",
       "            <td>friendly</td>\n",
       "            <td>462983685817</td>\n",
       "            <td>60216806700812</td>\n",
       "        </tr>\n",
       "    </tbody>\n",
       "</table>"
      ]
     },
     "execution_count": null,
     "metadata": {},
     "output_type": "execute_result"
    }
   ],
   "source": [
    "%%sql\n",
    "DELETE\n",
    "FROM inhabitant\n",
    "WHERE name = 'Dirty Diane';\n",
    "\n",
    "\n",
    "SELECT *\n",
    "     , salt_004(sum(nn(hash)) OVER ()) AS token\n",
    "FROM inhabitant\n",
    "WHERE villageid = 3\n",
    "--> Episode [051]"
   ]
  },
  {
   "cell_type": "code",
   "execution_count": null,
   "id": "eb859cce",
   "metadata": {},
   "outputs": [],
   "source": [
    "assert \"Dirty Diane\" not in col[\"name\"]"
   ]
  },
  {
   "cell_type": "code",
   "execution_count": null,
   "id": "cc23dc48",
   "metadata": {},
   "outputs": [
    {
     "data": {
      "text/html": [
       "<table>\n",
       "    <thead>\n",
       "        <tr>\n",
       "            <th>personid</th>\n",
       "            <th>name</th>\n",
       "            <th>villageid</th>\n",
       "            <th>gender</th>\n",
       "            <th>job</th>\n",
       "            <th>gold</th>\n",
       "            <th>state</th>\n",
       "            <th>hash</th>\n",
       "            <th>token</th>\n",
       "        </tr>\n",
       "    </thead>\n",
       "    <tbody>\n",
       "        <tr>\n",
       "            <td>1</td>\n",
       "            <td>Paul Bakerman</td>\n",
       "            <td>1</td>\n",
       "            <td>m</td>\n",
       "            <td>baker</td>\n",
       "            <td>750</td>\n",
       "            <td>friendly</td>\n",
       "            <td>503254218482</td>\n",
       "            <td>66225330703443</td>\n",
       "        </tr>\n",
       "        <tr>\n",
       "            <td>2</td>\n",
       "            <td>Ernest Perry</td>\n",
       "            <td>3</td>\n",
       "            <td>m</td>\n",
       "            <td>weaponsmith</td>\n",
       "            <td>280</td>\n",
       "            <td>friendly</td>\n",
       "            <td>630197013484</td>\n",
       "            <td>66225330703443</td>\n",
       "        </tr>\n",
       "        <tr>\n",
       "            <td>3</td>\n",
       "            <td>Rita Ox</td>\n",
       "            <td>1</td>\n",
       "            <td>f</td>\n",
       "            <td>baker</td>\n",
       "            <td>350</td>\n",
       "            <td>friendly</td>\n",
       "            <td>589077802421</td>\n",
       "            <td>66225330703443</td>\n",
       "        </tr>\n",
       "        <tr>\n",
       "            <td>4</td>\n",
       "            <td>Carl Ox</td>\n",
       "            <td>1</td>\n",
       "            <td>m</td>\n",
       "            <td>merchant</td>\n",
       "            <td>250</td>\n",
       "            <td>friendly</td>\n",
       "            <td>850110253458</td>\n",
       "            <td>66225330703443</td>\n",
       "        </tr>\n",
       "        <tr>\n",
       "            <td>6</td>\n",
       "            <td>Gerry Slaughterer</td>\n",
       "            <td>2</td>\n",
       "            <td>m</td>\n",
       "            <td>butcher</td>\n",
       "            <td>4850</td>\n",
       "            <td>evil</td>\n",
       "            <td>856968177321</td>\n",
       "            <td>66225330703443</td>\n",
       "        </tr>\n",
       "        <tr>\n",
       "            <td>7</td>\n",
       "            <td>Peter Slaughterer</td>\n",
       "            <td>3</td>\n",
       "            <td>m</td>\n",
       "            <td>butcher</td>\n",
       "            <td>3250</td>\n",
       "            <td>evil</td>\n",
       "            <td>681036005590</td>\n",
       "            <td>66225330703443</td>\n",
       "        </tr>\n",
       "        <tr>\n",
       "            <td>8</td>\n",
       "            <td>Arthur Tailor</td>\n",
       "            <td>2</td>\n",
       "            <td>m</td>\n",
       "            <td>pilot</td>\n",
       "            <td>490</td>\n",
       "            <td>kidnapped</td>\n",
       "            <td>509268313479</td>\n",
       "            <td>66225330703443</td>\n",
       "        </tr>\n",
       "        <tr>\n",
       "            <td>9</td>\n",
       "            <td>Tiffany Drummer</td>\n",
       "            <td>1</td>\n",
       "            <td>f</td>\n",
       "            <td>baker</td>\n",
       "            <td>550</td>\n",
       "            <td>evil</td>\n",
       "            <td>592129557518</td>\n",
       "            <td>66225330703443</td>\n",
       "        </tr>\n",
       "        <tr>\n",
       "            <td>10</td>\n",
       "            <td>Peter Drummer</td>\n",
       "            <td>1</td>\n",
       "            <td>m</td>\n",
       "            <td>smith</td>\n",
       "            <td>600</td>\n",
       "            <td>friendly</td>\n",
       "            <td>445353142598</td>\n",
       "            <td>66225330703443</td>\n",
       "        </tr>\n",
       "        <tr>\n",
       "            <td>12</td>\n",
       "            <td>Otto Alexander</td>\n",
       "            <td>2</td>\n",
       "            <td>m</td>\n",
       "            <td>dealer</td>\n",
       "            <td>680</td>\n",
       "            <td>friendly</td>\n",
       "            <td>591142648847</td>\n",
       "            <td>66225330703443</td>\n",
       "        </tr>\n",
       "        <tr>\n",
       "            <td>13</td>\n",
       "            <td>Fred Dix</td>\n",
       "            <td>3</td>\n",
       "            <td>m</td>\n",
       "            <td>author</td>\n",
       "            <td>420</td>\n",
       "            <td>friendly</td>\n",
       "            <td>758537101048</td>\n",
       "            <td>66225330703443</td>\n",
       "        </tr>\n",
       "        <tr>\n",
       "            <td>14</td>\n",
       "            <td>Enrico Carpenter</td>\n",
       "            <td>3</td>\n",
       "            <td>m</td>\n",
       "            <td>weaponsmith</td>\n",
       "            <td>510</td>\n",
       "            <td>evil</td>\n",
       "            <td>342855603621</td>\n",
       "            <td>66225330703443</td>\n",
       "        </tr>\n",
       "        <tr>\n",
       "            <td>15</td>\n",
       "            <td>Helen Grasshead</td>\n",
       "            <td>2</td>\n",
       "            <td>f</td>\n",
       "            <td>dealer</td>\n",
       "            <td>560</td>\n",
       "            <td>friendly</td>\n",
       "            <td>611654306462</td>\n",
       "            <td>66225330703443</td>\n",
       "        </tr>\n",
       "        <tr>\n",
       "            <td>16</td>\n",
       "            <td>Ivy Hatter</td>\n",
       "            <td>1</td>\n",
       "            <td>f</td>\n",
       "            <td>dealer</td>\n",
       "            <td>770</td>\n",
       "            <td>evil</td>\n",
       "            <td>31678689780</td>\n",
       "            <td>66225330703443</td>\n",
       "        </tr>\n",
       "        <tr>\n",
       "            <td>17</td>\n",
       "            <td>Edward Grasshead</td>\n",
       "            <td>3</td>\n",
       "            <td>m</td>\n",
       "            <td>butcher</td>\n",
       "            <td>990</td>\n",
       "            <td>friendly</td>\n",
       "            <td>143447863181</td>\n",
       "            <td>66225330703443</td>\n",
       "        </tr>\n",
       "        <tr>\n",
       "            <td>18</td>\n",
       "            <td>Ryan Horse</td>\n",
       "            <td>3</td>\n",
       "            <td>m</td>\n",
       "            <td>blacksmith</td>\n",
       "            <td>390</td>\n",
       "            <td>friendly</td>\n",
       "            <td>462983685817</td>\n",
       "            <td>66225330703443</td>\n",
       "        </tr>\n",
       "        <tr>\n",
       "            <td>19</td>\n",
       "            <td>Ann Meaty</td>\n",
       "            <td>2</td>\n",
       "            <td>f</td>\n",
       "            <td>butcher</td>\n",
       "            <td>2280</td>\n",
       "            <td>friendly</td>\n",
       "            <td>251247264297</td>\n",
       "            <td>66225330703443</td>\n",
       "        </tr>\n",
       "        <tr>\n",
       "            <td>20</td>\n",
       "            <td>Leslie Quals</td>\n",
       "            <td>1</td>\n",
       "            <td>?</td>\n",
       "            <td>?</td>\n",
       "            <td>190</td>\n",
       "            <td>?</td>\n",
       "            <td>228447687374</td>\n",
       "            <td>66225330703443</td>\n",
       "        </tr>\n",
       "    </tbody>\n",
       "</table>"
      ]
     },
     "execution_count": null,
     "metadata": {},
     "output_type": "execute_result"
    }
   ],
   "source": [
    "%%sql\n",
    "-- Hint. Restrict the result to the village of Onionville.\n",
    "SELECT *\n",
    "     , salt_004(sum(nn(hash)) OVER ()) AS token\n",
    "FROM inhabitant\n",
    "--> Episode [051]"
   ]
  },
  {
   "cell_type": "markdown",
   "id": "4fc3d103",
   "metadata": {},
   "source": [
    "## Epilog"
   ]
  },
  {
   "cell_type": "markdown",
   "id": "3866764d",
   "metadata": {},
   "source": [
    "**Episode [051].**\n",
    "\n",
    "– Yeah! Now I release the pilot!<br>\n",
    "– Thank's for releasing me, Leslie Qualls! I will fly you home!<br>\n",
    "– I take my sword, some gold and lots of useless items with me as a souvenir."
   ]
  },
  {
   "cell_type": "markdown",
   "id": "a1641cc0",
   "metadata": {},
   "source": [
    "**Statement.** Change the pilot's status to 'friendly', your own status to 'emigrated', and show the table `inhabitant`."
   ]
  },
  {
   "cell_type": "code",
   "execution_count": null,
   "id": "ab22f466",
   "metadata": {},
   "outputs": [
    {
     "data": {
      "text/html": [
       "<span style=\"color: green\">1 rows affected.</span>"
      ],
      "text/plain": [
       "1 rows affected."
      ]
     },
     "metadata": {},
     "output_type": "display_data"
    },
    {
     "data": {
      "text/html": [
       "<table>\n",
       "    <thead>\n",
       "        <tr>\n",
       "            <th>personid</th>\n",
       "            <th>name</th>\n",
       "            <th>villageid</th>\n",
       "            <th>gender</th>\n",
       "            <th>job</th>\n",
       "            <th>gold</th>\n",
       "            <th>state</th>\n",
       "            <th>hash</th>\n",
       "            <th>token</th>\n",
       "        </tr>\n",
       "    </thead>\n",
       "    <tbody>\n",
       "        <tr>\n",
       "            <td>1</td>\n",
       "            <td>Paul Bakerman</td>\n",
       "            <td>1</td>\n",
       "            <td>m</td>\n",
       "            <td>baker</td>\n",
       "            <td>750</td>\n",
       "            <td>friendly</td>\n",
       "            <td>503254218482</td>\n",
       "            <td>225765442742136</td>\n",
       "        </tr>\n",
       "        <tr>\n",
       "            <td>2</td>\n",
       "            <td>Ernest Perry</td>\n",
       "            <td>3</td>\n",
       "            <td>m</td>\n",
       "            <td>weaponsmith</td>\n",
       "            <td>280</td>\n",
       "            <td>friendly</td>\n",
       "            <td>630197013484</td>\n",
       "            <td>225765442742136</td>\n",
       "        </tr>\n",
       "        <tr>\n",
       "            <td>3</td>\n",
       "            <td>Rita Ox</td>\n",
       "            <td>1</td>\n",
       "            <td>f</td>\n",
       "            <td>baker</td>\n",
       "            <td>350</td>\n",
       "            <td>friendly</td>\n",
       "            <td>589077802421</td>\n",
       "            <td>225765442742136</td>\n",
       "        </tr>\n",
       "        <tr>\n",
       "            <td>4</td>\n",
       "            <td>Carl Ox</td>\n",
       "            <td>1</td>\n",
       "            <td>m</td>\n",
       "            <td>merchant</td>\n",
       "            <td>250</td>\n",
       "            <td>friendly</td>\n",
       "            <td>850110253458</td>\n",
       "            <td>225765442742136</td>\n",
       "        </tr>\n",
       "        <tr>\n",
       "            <td>6</td>\n",
       "            <td>Gerry Slaughterer</td>\n",
       "            <td>2</td>\n",
       "            <td>m</td>\n",
       "            <td>butcher</td>\n",
       "            <td>4850</td>\n",
       "            <td>evil</td>\n",
       "            <td>856968177321</td>\n",
       "            <td>225765442742136</td>\n",
       "        </tr>\n",
       "        <tr>\n",
       "            <td>7</td>\n",
       "            <td>Peter Slaughterer</td>\n",
       "            <td>3</td>\n",
       "            <td>m</td>\n",
       "            <td>butcher</td>\n",
       "            <td>3250</td>\n",
       "            <td>evil</td>\n",
       "            <td>681036005590</td>\n",
       "            <td>225765442742136</td>\n",
       "        </tr>\n",
       "        <tr>\n",
       "            <td>8</td>\n",
       "            <td>Arthur Tailor</td>\n",
       "            <td>2</td>\n",
       "            <td>m</td>\n",
       "            <td>pilot</td>\n",
       "            <td>490</td>\n",
       "            <td>friendly</td>\n",
       "            <td>591266993653</td>\n",
       "            <td>225765442742136</td>\n",
       "        </tr>\n",
       "        <tr>\n",
       "            <td>9</td>\n",
       "            <td>Tiffany Drummer</td>\n",
       "            <td>1</td>\n",
       "            <td>f</td>\n",
       "            <td>baker</td>\n",
       "            <td>550</td>\n",
       "            <td>evil</td>\n",
       "            <td>592129557518</td>\n",
       "            <td>225765442742136</td>\n",
       "        </tr>\n",
       "        <tr>\n",
       "            <td>10</td>\n",
       "            <td>Peter Drummer</td>\n",
       "            <td>1</td>\n",
       "            <td>m</td>\n",
       "            <td>smith</td>\n",
       "            <td>600</td>\n",
       "            <td>friendly</td>\n",
       "            <td>445353142598</td>\n",
       "            <td>225765442742136</td>\n",
       "        </tr>\n",
       "        <tr>\n",
       "            <td>12</td>\n",
       "            <td>Otto Alexander</td>\n",
       "            <td>2</td>\n",
       "            <td>m</td>\n",
       "            <td>dealer</td>\n",
       "            <td>680</td>\n",
       "            <td>friendly</td>\n",
       "            <td>591142648847</td>\n",
       "            <td>225765442742136</td>\n",
       "        </tr>\n",
       "        <tr>\n",
       "            <td>13</td>\n",
       "            <td>Fred Dix</td>\n",
       "            <td>3</td>\n",
       "            <td>m</td>\n",
       "            <td>author</td>\n",
       "            <td>420</td>\n",
       "            <td>friendly</td>\n",
       "            <td>758537101048</td>\n",
       "            <td>225765442742136</td>\n",
       "        </tr>\n",
       "        <tr>\n",
       "            <td>14</td>\n",
       "            <td>Enrico Carpenter</td>\n",
       "            <td>3</td>\n",
       "            <td>m</td>\n",
       "            <td>weaponsmith</td>\n",
       "            <td>510</td>\n",
       "            <td>evil</td>\n",
       "            <td>342855603621</td>\n",
       "            <td>225765442742136</td>\n",
       "        </tr>\n",
       "        <tr>\n",
       "            <td>15</td>\n",
       "            <td>Helen Grasshead</td>\n",
       "            <td>2</td>\n",
       "            <td>f</td>\n",
       "            <td>dealer</td>\n",
       "            <td>560</td>\n",
       "            <td>friendly</td>\n",
       "            <td>611654306462</td>\n",
       "            <td>225765442742136</td>\n",
       "        </tr>\n",
       "        <tr>\n",
       "            <td>16</td>\n",
       "            <td>Ivy Hatter</td>\n",
       "            <td>1</td>\n",
       "            <td>f</td>\n",
       "            <td>dealer</td>\n",
       "            <td>770</td>\n",
       "            <td>evil</td>\n",
       "            <td>31678689780</td>\n",
       "            <td>225765442742136</td>\n",
       "        </tr>\n",
       "        <tr>\n",
       "            <td>17</td>\n",
       "            <td>Edward Grasshead</td>\n",
       "            <td>3</td>\n",
       "            <td>m</td>\n",
       "            <td>butcher</td>\n",
       "            <td>990</td>\n",
       "            <td>friendly</td>\n",
       "            <td>143447863181</td>\n",
       "            <td>225765442742136</td>\n",
       "        </tr>\n",
       "        <tr>\n",
       "            <td>18</td>\n",
       "            <td>Ryan Horse</td>\n",
       "            <td>3</td>\n",
       "            <td>m</td>\n",
       "            <td>blacksmith</td>\n",
       "            <td>390</td>\n",
       "            <td>friendly</td>\n",
       "            <td>462983685817</td>\n",
       "            <td>225765442742136</td>\n",
       "        </tr>\n",
       "        <tr>\n",
       "            <td>19</td>\n",
       "            <td>Ann Meaty</td>\n",
       "            <td>2</td>\n",
       "            <td>f</td>\n",
       "            <td>butcher</td>\n",
       "            <td>2280</td>\n",
       "            <td>friendly</td>\n",
       "            <td>251247264297</td>\n",
       "            <td>225765442742136</td>\n",
       "        </tr>\n",
       "        <tr>\n",
       "            <td>20</td>\n",
       "            <td>Leslie Quals</td>\n",
       "            <td>1</td>\n",
       "            <td>?</td>\n",
       "            <td>?</td>\n",
       "            <td>190</td>\n",
       "            <td>?</td>\n",
       "            <td>228447687374</td>\n",
       "            <td>225765442742136</td>\n",
       "        </tr>\n",
       "    </tbody>\n",
       "</table>"
      ]
     },
     "execution_count": null,
     "metadata": {},
     "output_type": "execute_result"
    }
   ],
   "source": [
    "%%sql\n",
    "UPDATE inhabitant\n",
    "SET state = 'friendly'\n",
    "WHERE job = 'pilot';\n",
    "\n",
    "SELECT *\n",
    "     , salt_051(sum(nn(hash)) OVER ()) AS token\n",
    "FROM inhabitant;\n",
    "--> Episode [052]"
   ]
  },
  {
   "cell_type": "code",
   "execution_count": null,
   "id": "f3882d0b",
   "metadata": {},
   "outputs": [
    {
     "data": {
      "text/html": [
       "<span style=\"color: green\">1 rows affected.</span>"
      ],
      "text/plain": [
       "1 rows affected."
      ]
     },
     "metadata": {},
     "output_type": "display_data"
    },
    {
     "data": {
      "text/html": [
       "<table>\n",
       "    <thead>\n",
       "        <tr>\n",
       "        </tr>\n",
       "    </thead>\n",
       "    <tbody>\n",
       "    </tbody>\n",
       "</table>"
      ],
      "text/plain": [
       "++\n",
       "||\n",
       "++\n",
       "++"
      ]
     },
     "execution_count": null,
     "metadata": {},
     "output_type": "execute_result"
    }
   ],
   "source": [
    "%%sql\n",
    "-- Action. Restore the pilot state.\n",
    "UPDATE inhabitant SET state = 'kidnapped' WHERE job = 'pilot';"
   ]
  },
  {
   "cell_type": "code",
   "execution_count": null,
   "id": "98e696bc",
   "metadata": {},
   "outputs": [
    {
     "data": {
      "text/html": [
       "<span style=\"color: green\">1 rows affected.</span>"
      ],
      "text/plain": [
       "1 rows affected."
      ]
     },
     "metadata": {},
     "output_type": "display_data"
    },
    {
     "data": {
      "text/html": [
       "<table>\n",
       "    <thead>\n",
       "        <tr>\n",
       "            <th>personid</th>\n",
       "            <th>name</th>\n",
       "            <th>villageid</th>\n",
       "            <th>gender</th>\n",
       "            <th>job</th>\n",
       "            <th>gold</th>\n",
       "            <th>state</th>\n",
       "            <th>hash</th>\n",
       "            <th>token</th>\n",
       "        </tr>\n",
       "    </thead>\n",
       "    <tbody>\n",
       "        <tr>\n",
       "            <td>1</td>\n",
       "            <td>Paul Bakerman</td>\n",
       "            <td>1</td>\n",
       "            <td>m</td>\n",
       "            <td>baker</td>\n",
       "            <td>750</td>\n",
       "            <td>friendly</td>\n",
       "            <td>503254218482</td>\n",
       "            <td>225973728467568</td>\n",
       "        </tr>\n",
       "        <tr>\n",
       "            <td>2</td>\n",
       "            <td>Ernest Perry</td>\n",
       "            <td>3</td>\n",
       "            <td>m</td>\n",
       "            <td>weaponsmith</td>\n",
       "            <td>280</td>\n",
       "            <td>friendly</td>\n",
       "            <td>630197013484</td>\n",
       "            <td>225973728467568</td>\n",
       "        </tr>\n",
       "        <tr>\n",
       "            <td>3</td>\n",
       "            <td>Rita Ox</td>\n",
       "            <td>1</td>\n",
       "            <td>f</td>\n",
       "            <td>baker</td>\n",
       "            <td>350</td>\n",
       "            <td>friendly</td>\n",
       "            <td>589077802421</td>\n",
       "            <td>225973728467568</td>\n",
       "        </tr>\n",
       "        <tr>\n",
       "            <td>4</td>\n",
       "            <td>Carl Ox</td>\n",
       "            <td>1</td>\n",
       "            <td>m</td>\n",
       "            <td>merchant</td>\n",
       "            <td>250</td>\n",
       "            <td>friendly</td>\n",
       "            <td>850110253458</td>\n",
       "            <td>225973728467568</td>\n",
       "        </tr>\n",
       "        <tr>\n",
       "            <td>6</td>\n",
       "            <td>Gerry Slaughterer</td>\n",
       "            <td>2</td>\n",
       "            <td>m</td>\n",
       "            <td>butcher</td>\n",
       "            <td>4850</td>\n",
       "            <td>evil</td>\n",
       "            <td>856968177321</td>\n",
       "            <td>225973728467568</td>\n",
       "        </tr>\n",
       "        <tr>\n",
       "            <td>7</td>\n",
       "            <td>Peter Slaughterer</td>\n",
       "            <td>3</td>\n",
       "            <td>m</td>\n",
       "            <td>butcher</td>\n",
       "            <td>3250</td>\n",
       "            <td>evil</td>\n",
       "            <td>681036005590</td>\n",
       "            <td>225973728467568</td>\n",
       "        </tr>\n",
       "        <tr>\n",
       "            <td>8</td>\n",
       "            <td>Arthur Tailor</td>\n",
       "            <td>2</td>\n",
       "            <td>m</td>\n",
       "            <td>pilot</td>\n",
       "            <td>490</td>\n",
       "            <td>kidnapped</td>\n",
       "            <td>817131000772</td>\n",
       "            <td>225973728467568</td>\n",
       "        </tr>\n",
       "        <tr>\n",
       "            <td>9</td>\n",
       "            <td>Tiffany Drummer</td>\n",
       "            <td>1</td>\n",
       "            <td>f</td>\n",
       "            <td>baker</td>\n",
       "            <td>550</td>\n",
       "            <td>evil</td>\n",
       "            <td>592129557518</td>\n",
       "            <td>225973728467568</td>\n",
       "        </tr>\n",
       "        <tr>\n",
       "            <td>10</td>\n",
       "            <td>Peter Drummer</td>\n",
       "            <td>1</td>\n",
       "            <td>m</td>\n",
       "            <td>smith</td>\n",
       "            <td>600</td>\n",
       "            <td>friendly</td>\n",
       "            <td>445353142598</td>\n",
       "            <td>225973728467568</td>\n",
       "        </tr>\n",
       "        <tr>\n",
       "            <td>12</td>\n",
       "            <td>Otto Alexander</td>\n",
       "            <td>2</td>\n",
       "            <td>m</td>\n",
       "            <td>dealer</td>\n",
       "            <td>680</td>\n",
       "            <td>friendly</td>\n",
       "            <td>591142648847</td>\n",
       "            <td>225973728467568</td>\n",
       "        </tr>\n",
       "        <tr>\n",
       "            <td>13</td>\n",
       "            <td>Fred Dix</td>\n",
       "            <td>3</td>\n",
       "            <td>m</td>\n",
       "            <td>author</td>\n",
       "            <td>420</td>\n",
       "            <td>friendly</td>\n",
       "            <td>758537101048</td>\n",
       "            <td>225973728467568</td>\n",
       "        </tr>\n",
       "        <tr>\n",
       "            <td>14</td>\n",
       "            <td>Enrico Carpenter</td>\n",
       "            <td>3</td>\n",
       "            <td>m</td>\n",
       "            <td>weaponsmith</td>\n",
       "            <td>510</td>\n",
       "            <td>evil</td>\n",
       "            <td>342855603621</td>\n",
       "            <td>225973728467568</td>\n",
       "        </tr>\n",
       "        <tr>\n",
       "            <td>15</td>\n",
       "            <td>Helen Grasshead</td>\n",
       "            <td>2</td>\n",
       "            <td>f</td>\n",
       "            <td>dealer</td>\n",
       "            <td>560</td>\n",
       "            <td>friendly</td>\n",
       "            <td>611654306462</td>\n",
       "            <td>225973728467568</td>\n",
       "        </tr>\n",
       "        <tr>\n",
       "            <td>16</td>\n",
       "            <td>Ivy Hatter</td>\n",
       "            <td>1</td>\n",
       "            <td>f</td>\n",
       "            <td>dealer</td>\n",
       "            <td>770</td>\n",
       "            <td>evil</td>\n",
       "            <td>31678689780</td>\n",
       "            <td>225973728467568</td>\n",
       "        </tr>\n",
       "        <tr>\n",
       "            <td>17</td>\n",
       "            <td>Edward Grasshead</td>\n",
       "            <td>3</td>\n",
       "            <td>m</td>\n",
       "            <td>butcher</td>\n",
       "            <td>990</td>\n",
       "            <td>friendly</td>\n",
       "            <td>143447863181</td>\n",
       "            <td>225973728467568</td>\n",
       "        </tr>\n",
       "        <tr>\n",
       "            <td>18</td>\n",
       "            <td>Ryan Horse</td>\n",
       "            <td>3</td>\n",
       "            <td>m</td>\n",
       "            <td>blacksmith</td>\n",
       "            <td>390</td>\n",
       "            <td>friendly</td>\n",
       "            <td>462983685817</td>\n",
       "            <td>225973728467568</td>\n",
       "        </tr>\n",
       "        <tr>\n",
       "            <td>19</td>\n",
       "            <td>Ann Meaty</td>\n",
       "            <td>2</td>\n",
       "            <td>f</td>\n",
       "            <td>butcher</td>\n",
       "            <td>2280</td>\n",
       "            <td>friendly</td>\n",
       "            <td>251247264297</td>\n",
       "            <td>225973728467568</td>\n",
       "        </tr>\n",
       "        <tr>\n",
       "            <td>20</td>\n",
       "            <td>Leslie Quals</td>\n",
       "            <td>1</td>\n",
       "            <td>?</td>\n",
       "            <td>?</td>\n",
       "            <td>190</td>\n",
       "            <td>emigrated</td>\n",
       "            <td>210861004791</td>\n",
       "            <td>225973728467568</td>\n",
       "        </tr>\n",
       "    </tbody>\n",
       "</table>"
      ]
     },
     "execution_count": null,
     "metadata": {},
     "output_type": "execute_result"
    }
   ],
   "source": [
    "%%sql\n",
    "UPDATE inhabitant\n",
    "SET state = 'emigrated'\n",
    "WHERE personid = 20;\n",
    "\n",
    "SELECT *\n",
    "     , salt_051(sum(nn(hash)) OVER ()) AS token\n",
    "FROM inhabitant;\n",
    "--> Episode [053]"
   ]
  },
  {
   "cell_type": "code",
   "execution_count": null,
   "id": "94d73060",
   "metadata": {},
   "outputs": [
    {
     "data": {
      "text/html": [
       "<span style=\"color: green\">1 rows affected.</span>"
      ],
      "text/plain": [
       "1 rows affected."
      ]
     },
     "metadata": {},
     "output_type": "display_data"
    },
    {
     "data": {
      "text/html": [
       "<span style=\"color: green\">1 rows affected.</span>"
      ],
      "text/plain": [
       "1 rows affected."
      ]
     },
     "metadata": {},
     "output_type": "display_data"
    },
    {
     "data": {
      "text/html": [
       "<table>\n",
       "    <thead>\n",
       "        <tr>\n",
       "            <th>personid</th>\n",
       "            <th>name</th>\n",
       "            <th>villageid</th>\n",
       "            <th>gender</th>\n",
       "            <th>job</th>\n",
       "            <th>gold</th>\n",
       "            <th>state</th>\n",
       "            <th>hash</th>\n",
       "            <th>token</th>\n",
       "        </tr>\n",
       "    </thead>\n",
       "    <tbody>\n",
       "        <tr>\n",
       "            <td>1</td>\n",
       "            <td>Paul Bakerman</td>\n",
       "            <td>1</td>\n",
       "            <td>m</td>\n",
       "            <td>baker</td>\n",
       "            <td>750</td>\n",
       "            <td>friendly</td>\n",
       "            <td>503254218482</td>\n",
       "            <td>225747327555713</td>\n",
       "        </tr>\n",
       "        <tr>\n",
       "            <td>2</td>\n",
       "            <td>Ernest Perry</td>\n",
       "            <td>3</td>\n",
       "            <td>m</td>\n",
       "            <td>weaponsmith</td>\n",
       "            <td>280</td>\n",
       "            <td>friendly</td>\n",
       "            <td>630197013484</td>\n",
       "            <td>225747327555713</td>\n",
       "        </tr>\n",
       "        <tr>\n",
       "            <td>3</td>\n",
       "            <td>Rita Ox</td>\n",
       "            <td>1</td>\n",
       "            <td>f</td>\n",
       "            <td>baker</td>\n",
       "            <td>350</td>\n",
       "            <td>friendly</td>\n",
       "            <td>589077802421</td>\n",
       "            <td>225747327555713</td>\n",
       "        </tr>\n",
       "        <tr>\n",
       "            <td>4</td>\n",
       "            <td>Carl Ox</td>\n",
       "            <td>1</td>\n",
       "            <td>m</td>\n",
       "            <td>merchant</td>\n",
       "            <td>250</td>\n",
       "            <td>friendly</td>\n",
       "            <td>850110253458</td>\n",
       "            <td>225747327555713</td>\n",
       "        </tr>\n",
       "        <tr>\n",
       "            <td>6</td>\n",
       "            <td>Gerry Slaughterer</td>\n",
       "            <td>2</td>\n",
       "            <td>m</td>\n",
       "            <td>butcher</td>\n",
       "            <td>4850</td>\n",
       "            <td>evil</td>\n",
       "            <td>856968177321</td>\n",
       "            <td>225747327555713</td>\n",
       "        </tr>\n",
       "        <tr>\n",
       "            <td>7</td>\n",
       "            <td>Peter Slaughterer</td>\n",
       "            <td>3</td>\n",
       "            <td>m</td>\n",
       "            <td>butcher</td>\n",
       "            <td>3250</td>\n",
       "            <td>evil</td>\n",
       "            <td>681036005590</td>\n",
       "            <td>225747327555713</td>\n",
       "        </tr>\n",
       "        <tr>\n",
       "            <td>8</td>\n",
       "            <td>Arthur Tailor</td>\n",
       "            <td>2</td>\n",
       "            <td>m</td>\n",
       "            <td>pilot</td>\n",
       "            <td>490</td>\n",
       "            <td>friendly</td>\n",
       "            <td>591266993653</td>\n",
       "            <td>225747327555713</td>\n",
       "        </tr>\n",
       "        <tr>\n",
       "            <td>9</td>\n",
       "            <td>Tiffany Drummer</td>\n",
       "            <td>1</td>\n",
       "            <td>f</td>\n",
       "            <td>baker</td>\n",
       "            <td>550</td>\n",
       "            <td>evil</td>\n",
       "            <td>592129557518</td>\n",
       "            <td>225747327555713</td>\n",
       "        </tr>\n",
       "        <tr>\n",
       "            <td>10</td>\n",
       "            <td>Peter Drummer</td>\n",
       "            <td>1</td>\n",
       "            <td>m</td>\n",
       "            <td>smith</td>\n",
       "            <td>600</td>\n",
       "            <td>friendly</td>\n",
       "            <td>445353142598</td>\n",
       "            <td>225747327555713</td>\n",
       "        </tr>\n",
       "        <tr>\n",
       "            <td>12</td>\n",
       "            <td>Otto Alexander</td>\n",
       "            <td>2</td>\n",
       "            <td>m</td>\n",
       "            <td>dealer</td>\n",
       "            <td>680</td>\n",
       "            <td>friendly</td>\n",
       "            <td>591142648847</td>\n",
       "            <td>225747327555713</td>\n",
       "        </tr>\n",
       "        <tr>\n",
       "            <td>13</td>\n",
       "            <td>Fred Dix</td>\n",
       "            <td>3</td>\n",
       "            <td>m</td>\n",
       "            <td>author</td>\n",
       "            <td>420</td>\n",
       "            <td>friendly</td>\n",
       "            <td>758537101048</td>\n",
       "            <td>225747327555713</td>\n",
       "        </tr>\n",
       "        <tr>\n",
       "            <td>14</td>\n",
       "            <td>Enrico Carpenter</td>\n",
       "            <td>3</td>\n",
       "            <td>m</td>\n",
       "            <td>weaponsmith</td>\n",
       "            <td>510</td>\n",
       "            <td>evil</td>\n",
       "            <td>342855603621</td>\n",
       "            <td>225747327555713</td>\n",
       "        </tr>\n",
       "        <tr>\n",
       "            <td>15</td>\n",
       "            <td>Helen Grasshead</td>\n",
       "            <td>2</td>\n",
       "            <td>f</td>\n",
       "            <td>dealer</td>\n",
       "            <td>560</td>\n",
       "            <td>friendly</td>\n",
       "            <td>611654306462</td>\n",
       "            <td>225747327555713</td>\n",
       "        </tr>\n",
       "        <tr>\n",
       "            <td>16</td>\n",
       "            <td>Ivy Hatter</td>\n",
       "            <td>1</td>\n",
       "            <td>f</td>\n",
       "            <td>dealer</td>\n",
       "            <td>770</td>\n",
       "            <td>evil</td>\n",
       "            <td>31678689780</td>\n",
       "            <td>225747327555713</td>\n",
       "        </tr>\n",
       "        <tr>\n",
       "            <td>17</td>\n",
       "            <td>Edward Grasshead</td>\n",
       "            <td>3</td>\n",
       "            <td>m</td>\n",
       "            <td>butcher</td>\n",
       "            <td>990</td>\n",
       "            <td>friendly</td>\n",
       "            <td>143447863181</td>\n",
       "            <td>225747327555713</td>\n",
       "        </tr>\n",
       "        <tr>\n",
       "            <td>18</td>\n",
       "            <td>Ryan Horse</td>\n",
       "            <td>3</td>\n",
       "            <td>m</td>\n",
       "            <td>blacksmith</td>\n",
       "            <td>390</td>\n",
       "            <td>friendly</td>\n",
       "            <td>462983685817</td>\n",
       "            <td>225747327555713</td>\n",
       "        </tr>\n",
       "        <tr>\n",
       "            <td>19</td>\n",
       "            <td>Ann Meaty</td>\n",
       "            <td>2</td>\n",
       "            <td>f</td>\n",
       "            <td>butcher</td>\n",
       "            <td>2280</td>\n",
       "            <td>friendly</td>\n",
       "            <td>251247264297</td>\n",
       "            <td>225747327555713</td>\n",
       "        </tr>\n",
       "        <tr>\n",
       "            <td>20</td>\n",
       "            <td>Leslie Quals</td>\n",
       "            <td>1</td>\n",
       "            <td>?</td>\n",
       "            <td>?</td>\n",
       "            <td>190</td>\n",
       "            <td>emigrated</td>\n",
       "            <td>210861004791</td>\n",
       "            <td>225747327555713</td>\n",
       "        </tr>\n",
       "    </tbody>\n",
       "</table>"
      ]
     },
     "execution_count": null,
     "metadata": {},
     "output_type": "execute_result"
    }
   ],
   "source": [
    "%%sql\n",
    "UPDATE inhabitant\n",
    "SET state = 'emigrated'\n",
    "WHERE personid = 20;\n",
    "\n",
    "\n",
    "UPDATE inhabitant\n",
    "SET state = 'friendly'\n",
    "WHERE job = 'pilot';\n",
    "\n",
    "\n",
    "SELECT *\n",
    "     , salt_051(sum(nn(hash)) OVER ()) AS token\n",
    "FROM inhabitant;\n",
    "--> Episode [049]"
   ]
  },
  {
   "cell_type": "markdown",
   "id": "899d3ce5",
   "metadata": {},
   "source": [
    "**Episode [052].**"
   ]
  },
  {
   "cell_type": "markdown",
   "id": "9171c42a",
   "metadata": {},
   "source": [
    "**Statement.** You have correctly updated the pilot's status. Now update yours to 'emigrated', and show the table `inhabitant`."
   ]
  },
  {
   "cell_type": "code",
   "execution_count": null,
   "id": "086682bd",
   "metadata": {},
   "outputs": [
    {
     "data": {
      "text/html": [
       "<span style=\"color: green\">1 rows affected.</span>"
      ],
      "text/plain": [
       "1 rows affected."
      ]
     },
     "metadata": {},
     "output_type": "display_data"
    },
    {
     "data": {
      "text/html": [
       "<table>\n",
       "    <thead>\n",
       "        <tr>\n",
       "            <th>personid</th>\n",
       "            <th>name</th>\n",
       "            <th>villageid</th>\n",
       "            <th>gender</th>\n",
       "            <th>job</th>\n",
       "            <th>gold</th>\n",
       "            <th>state</th>\n",
       "            <th>hash</th>\n",
       "            <th>token</th>\n",
       "        </tr>\n",
       "    </thead>\n",
       "    <tbody>\n",
       "        <tr>\n",
       "            <td>1</td>\n",
       "            <td>Paul Bakerman</td>\n",
       "            <td>1</td>\n",
       "            <td>m</td>\n",
       "            <td>baker</td>\n",
       "            <td>750</td>\n",
       "            <td>friendly</td>\n",
       "            <td>503254218482</td>\n",
       "            <td>255035326205192</td>\n",
       "        </tr>\n",
       "        <tr>\n",
       "            <td>2</td>\n",
       "            <td>Ernest Perry</td>\n",
       "            <td>3</td>\n",
       "            <td>m</td>\n",
       "            <td>weaponsmith</td>\n",
       "            <td>280</td>\n",
       "            <td>friendly</td>\n",
       "            <td>630197013484</td>\n",
       "            <td>255035326205192</td>\n",
       "        </tr>\n",
       "        <tr>\n",
       "            <td>3</td>\n",
       "            <td>Rita Ox</td>\n",
       "            <td>1</td>\n",
       "            <td>f</td>\n",
       "            <td>baker</td>\n",
       "            <td>350</td>\n",
       "            <td>friendly</td>\n",
       "            <td>589077802421</td>\n",
       "            <td>255035326205192</td>\n",
       "        </tr>\n",
       "        <tr>\n",
       "            <td>4</td>\n",
       "            <td>Carl Ox</td>\n",
       "            <td>1</td>\n",
       "            <td>m</td>\n",
       "            <td>merchant</td>\n",
       "            <td>250</td>\n",
       "            <td>friendly</td>\n",
       "            <td>850110253458</td>\n",
       "            <td>255035326205192</td>\n",
       "        </tr>\n",
       "        <tr>\n",
       "            <td>6</td>\n",
       "            <td>Gerry Slaughterer</td>\n",
       "            <td>2</td>\n",
       "            <td>m</td>\n",
       "            <td>butcher</td>\n",
       "            <td>4850</td>\n",
       "            <td>evil</td>\n",
       "            <td>856968177321</td>\n",
       "            <td>255035326205192</td>\n",
       "        </tr>\n",
       "        <tr>\n",
       "            <td>7</td>\n",
       "            <td>Peter Slaughterer</td>\n",
       "            <td>3</td>\n",
       "            <td>m</td>\n",
       "            <td>butcher</td>\n",
       "            <td>3250</td>\n",
       "            <td>evil</td>\n",
       "            <td>681036005590</td>\n",
       "            <td>255035326205192</td>\n",
       "        </tr>\n",
       "        <tr>\n",
       "            <td>8</td>\n",
       "            <td>Arthur Tailor</td>\n",
       "            <td>2</td>\n",
       "            <td>m</td>\n",
       "            <td>pilot</td>\n",
       "            <td>490</td>\n",
       "            <td>friendly</td>\n",
       "            <td>591266993653</td>\n",
       "            <td>255035326205192</td>\n",
       "        </tr>\n",
       "        <tr>\n",
       "            <td>9</td>\n",
       "            <td>Tiffany Drummer</td>\n",
       "            <td>1</td>\n",
       "            <td>f</td>\n",
       "            <td>baker</td>\n",
       "            <td>550</td>\n",
       "            <td>evil</td>\n",
       "            <td>592129557518</td>\n",
       "            <td>255035326205192</td>\n",
       "        </tr>\n",
       "        <tr>\n",
       "            <td>10</td>\n",
       "            <td>Peter Drummer</td>\n",
       "            <td>1</td>\n",
       "            <td>m</td>\n",
       "            <td>smith</td>\n",
       "            <td>600</td>\n",
       "            <td>friendly</td>\n",
       "            <td>445353142598</td>\n",
       "            <td>255035326205192</td>\n",
       "        </tr>\n",
       "        <tr>\n",
       "            <td>12</td>\n",
       "            <td>Otto Alexander</td>\n",
       "            <td>2</td>\n",
       "            <td>m</td>\n",
       "            <td>dealer</td>\n",
       "            <td>680</td>\n",
       "            <td>friendly</td>\n",
       "            <td>591142648847</td>\n",
       "            <td>255035326205192</td>\n",
       "        </tr>\n",
       "        <tr>\n",
       "            <td>13</td>\n",
       "            <td>Fred Dix</td>\n",
       "            <td>3</td>\n",
       "            <td>m</td>\n",
       "            <td>author</td>\n",
       "            <td>420</td>\n",
       "            <td>friendly</td>\n",
       "            <td>758537101048</td>\n",
       "            <td>255035326205192</td>\n",
       "        </tr>\n",
       "        <tr>\n",
       "            <td>14</td>\n",
       "            <td>Enrico Carpenter</td>\n",
       "            <td>3</td>\n",
       "            <td>m</td>\n",
       "            <td>weaponsmith</td>\n",
       "            <td>510</td>\n",
       "            <td>evil</td>\n",
       "            <td>342855603621</td>\n",
       "            <td>255035326205192</td>\n",
       "        </tr>\n",
       "        <tr>\n",
       "            <td>15</td>\n",
       "            <td>Helen Grasshead</td>\n",
       "            <td>2</td>\n",
       "            <td>f</td>\n",
       "            <td>dealer</td>\n",
       "            <td>560</td>\n",
       "            <td>friendly</td>\n",
       "            <td>611654306462</td>\n",
       "            <td>255035326205192</td>\n",
       "        </tr>\n",
       "        <tr>\n",
       "            <td>16</td>\n",
       "            <td>Ivy Hatter</td>\n",
       "            <td>1</td>\n",
       "            <td>f</td>\n",
       "            <td>dealer</td>\n",
       "            <td>770</td>\n",
       "            <td>evil</td>\n",
       "            <td>31678689780</td>\n",
       "            <td>255035326205192</td>\n",
       "        </tr>\n",
       "        <tr>\n",
       "            <td>17</td>\n",
       "            <td>Edward Grasshead</td>\n",
       "            <td>3</td>\n",
       "            <td>m</td>\n",
       "            <td>butcher</td>\n",
       "            <td>990</td>\n",
       "            <td>friendly</td>\n",
       "            <td>143447863181</td>\n",
       "            <td>255035326205192</td>\n",
       "        </tr>\n",
       "        <tr>\n",
       "            <td>18</td>\n",
       "            <td>Ryan Horse</td>\n",
       "            <td>3</td>\n",
       "            <td>m</td>\n",
       "            <td>blacksmith</td>\n",
       "            <td>390</td>\n",
       "            <td>friendly</td>\n",
       "            <td>462983685817</td>\n",
       "            <td>255035326205192</td>\n",
       "        </tr>\n",
       "        <tr>\n",
       "            <td>19</td>\n",
       "            <td>Ann Meaty</td>\n",
       "            <td>2</td>\n",
       "            <td>f</td>\n",
       "            <td>butcher</td>\n",
       "            <td>2280</td>\n",
       "            <td>friendly</td>\n",
       "            <td>251247264297</td>\n",
       "            <td>255035326205192</td>\n",
       "        </tr>\n",
       "        <tr>\n",
       "            <td>20</td>\n",
       "            <td>Leslie Quals</td>\n",
       "            <td>1</td>\n",
       "            <td>?</td>\n",
       "            <td>?</td>\n",
       "            <td>190</td>\n",
       "            <td>emigrated</td>\n",
       "            <td>210861004791</td>\n",
       "            <td>255035326205192</td>\n",
       "        </tr>\n",
       "    </tbody>\n",
       "</table>"
      ]
     },
     "execution_count": null,
     "metadata": {},
     "output_type": "execute_result"
    }
   ],
   "source": [
    "%%sql\n",
    "UPDATE inhabitant\n",
    "SET state = 'emigrated'\n",
    "WHERE personid = 20;\n",
    "\n",
    "SELECT *\n",
    "     , salt_052(sum(nn(hash)) OVER ()) AS token\n",
    "FROM inhabitant;\n",
    "--> Episode [049]"
   ]
  },
  {
   "cell_type": "markdown",
   "id": "6090a622",
   "metadata": {},
   "source": [
    "**Episode [053].**"
   ]
  },
  {
   "cell_type": "markdown",
   "id": "dac03e4b",
   "metadata": {},
   "source": [
    "**Statement.** You have correctly updated your status. Now update the pilot's state to 'friendly', and show the table `inhabitant`."
   ]
  },
  {
   "cell_type": "code",
   "execution_count": null,
   "id": "cf1a115c",
   "metadata": {},
   "outputs": [
    {
     "data": {
      "text/html": [
       "<span style=\"color: green\">1 rows affected.</span>"
      ],
      "text/plain": [
       "1 rows affected."
      ]
     },
     "metadata": {},
     "output_type": "display_data"
    },
    {
     "data": {
      "text/html": [
       "<table>\n",
       "    <thead>\n",
       "        <tr>\n",
       "            <th>personid</th>\n",
       "            <th>name</th>\n",
       "            <th>villageid</th>\n",
       "            <th>gender</th>\n",
       "            <th>job</th>\n",
       "            <th>gold</th>\n",
       "            <th>state</th>\n",
       "            <th>hash</th>\n",
       "            <th>token</th>\n",
       "        </tr>\n",
       "    </thead>\n",
       "    <tbody>\n",
       "        <tr>\n",
       "            <td>1</td>\n",
       "            <td>Paul Bakerman</td>\n",
       "            <td>1</td>\n",
       "            <td>m</td>\n",
       "            <td>baker</td>\n",
       "            <td>750</td>\n",
       "            <td>friendly</td>\n",
       "            <td>503254218482</td>\n",
       "            <td>150536228948792</td>\n",
       "        </tr>\n",
       "        <tr>\n",
       "            <td>2</td>\n",
       "            <td>Ernest Perry</td>\n",
       "            <td>3</td>\n",
       "            <td>m</td>\n",
       "            <td>weaponsmith</td>\n",
       "            <td>280</td>\n",
       "            <td>friendly</td>\n",
       "            <td>630197013484</td>\n",
       "            <td>150536228948792</td>\n",
       "        </tr>\n",
       "        <tr>\n",
       "            <td>3</td>\n",
       "            <td>Rita Ox</td>\n",
       "            <td>1</td>\n",
       "            <td>f</td>\n",
       "            <td>baker</td>\n",
       "            <td>350</td>\n",
       "            <td>friendly</td>\n",
       "            <td>589077802421</td>\n",
       "            <td>150536228948792</td>\n",
       "        </tr>\n",
       "        <tr>\n",
       "            <td>4</td>\n",
       "            <td>Carl Ox</td>\n",
       "            <td>1</td>\n",
       "            <td>m</td>\n",
       "            <td>merchant</td>\n",
       "            <td>250</td>\n",
       "            <td>friendly</td>\n",
       "            <td>850110253458</td>\n",
       "            <td>150536228948792</td>\n",
       "        </tr>\n",
       "        <tr>\n",
       "            <td>6</td>\n",
       "            <td>Gerry Slaughterer</td>\n",
       "            <td>2</td>\n",
       "            <td>m</td>\n",
       "            <td>butcher</td>\n",
       "            <td>4850</td>\n",
       "            <td>evil</td>\n",
       "            <td>856968177321</td>\n",
       "            <td>150536228948792</td>\n",
       "        </tr>\n",
       "        <tr>\n",
       "            <td>7</td>\n",
       "            <td>Peter Slaughterer</td>\n",
       "            <td>3</td>\n",
       "            <td>m</td>\n",
       "            <td>butcher</td>\n",
       "            <td>3250</td>\n",
       "            <td>evil</td>\n",
       "            <td>681036005590</td>\n",
       "            <td>150536228948792</td>\n",
       "        </tr>\n",
       "        <tr>\n",
       "            <td>8</td>\n",
       "            <td>Arthur Tailor</td>\n",
       "            <td>2</td>\n",
       "            <td>m</td>\n",
       "            <td>pilot</td>\n",
       "            <td>490</td>\n",
       "            <td>friendly</td>\n",
       "            <td>591266993653</td>\n",
       "            <td>150536228948792</td>\n",
       "        </tr>\n",
       "        <tr>\n",
       "            <td>9</td>\n",
       "            <td>Tiffany Drummer</td>\n",
       "            <td>1</td>\n",
       "            <td>f</td>\n",
       "            <td>baker</td>\n",
       "            <td>550</td>\n",
       "            <td>evil</td>\n",
       "            <td>592129557518</td>\n",
       "            <td>150536228948792</td>\n",
       "        </tr>\n",
       "        <tr>\n",
       "            <td>10</td>\n",
       "            <td>Peter Drummer</td>\n",
       "            <td>1</td>\n",
       "            <td>m</td>\n",
       "            <td>smith</td>\n",
       "            <td>600</td>\n",
       "            <td>friendly</td>\n",
       "            <td>445353142598</td>\n",
       "            <td>150536228948792</td>\n",
       "        </tr>\n",
       "        <tr>\n",
       "            <td>12</td>\n",
       "            <td>Otto Alexander</td>\n",
       "            <td>2</td>\n",
       "            <td>m</td>\n",
       "            <td>dealer</td>\n",
       "            <td>680</td>\n",
       "            <td>friendly</td>\n",
       "            <td>591142648847</td>\n",
       "            <td>150536228948792</td>\n",
       "        </tr>\n",
       "        <tr>\n",
       "            <td>13</td>\n",
       "            <td>Fred Dix</td>\n",
       "            <td>3</td>\n",
       "            <td>m</td>\n",
       "            <td>author</td>\n",
       "            <td>420</td>\n",
       "            <td>friendly</td>\n",
       "            <td>758537101048</td>\n",
       "            <td>150536228948792</td>\n",
       "        </tr>\n",
       "        <tr>\n",
       "            <td>14</td>\n",
       "            <td>Enrico Carpenter</td>\n",
       "            <td>3</td>\n",
       "            <td>m</td>\n",
       "            <td>weaponsmith</td>\n",
       "            <td>510</td>\n",
       "            <td>evil</td>\n",
       "            <td>342855603621</td>\n",
       "            <td>150536228948792</td>\n",
       "        </tr>\n",
       "        <tr>\n",
       "            <td>15</td>\n",
       "            <td>Helen Grasshead</td>\n",
       "            <td>2</td>\n",
       "            <td>f</td>\n",
       "            <td>dealer</td>\n",
       "            <td>560</td>\n",
       "            <td>friendly</td>\n",
       "            <td>611654306462</td>\n",
       "            <td>150536228948792</td>\n",
       "        </tr>\n",
       "        <tr>\n",
       "            <td>16</td>\n",
       "            <td>Ivy Hatter</td>\n",
       "            <td>1</td>\n",
       "            <td>f</td>\n",
       "            <td>dealer</td>\n",
       "            <td>770</td>\n",
       "            <td>evil</td>\n",
       "            <td>31678689780</td>\n",
       "            <td>150536228948792</td>\n",
       "        </tr>\n",
       "        <tr>\n",
       "            <td>17</td>\n",
       "            <td>Edward Grasshead</td>\n",
       "            <td>3</td>\n",
       "            <td>m</td>\n",
       "            <td>butcher</td>\n",
       "            <td>990</td>\n",
       "            <td>friendly</td>\n",
       "            <td>143447863181</td>\n",
       "            <td>150536228948792</td>\n",
       "        </tr>\n",
       "        <tr>\n",
       "            <td>18</td>\n",
       "            <td>Ryan Horse</td>\n",
       "            <td>3</td>\n",
       "            <td>m</td>\n",
       "            <td>blacksmith</td>\n",
       "            <td>390</td>\n",
       "            <td>friendly</td>\n",
       "            <td>462983685817</td>\n",
       "            <td>150536228948792</td>\n",
       "        </tr>\n",
       "        <tr>\n",
       "            <td>19</td>\n",
       "            <td>Ann Meaty</td>\n",
       "            <td>2</td>\n",
       "            <td>f</td>\n",
       "            <td>butcher</td>\n",
       "            <td>2280</td>\n",
       "            <td>friendly</td>\n",
       "            <td>251247264297</td>\n",
       "            <td>150536228948792</td>\n",
       "        </tr>\n",
       "        <tr>\n",
       "            <td>20</td>\n",
       "            <td>Leslie Quals</td>\n",
       "            <td>1</td>\n",
       "            <td>?</td>\n",
       "            <td>?</td>\n",
       "            <td>190</td>\n",
       "            <td>emigrated</td>\n",
       "            <td>210861004791</td>\n",
       "            <td>150536228948792</td>\n",
       "        </tr>\n",
       "    </tbody>\n",
       "</table>"
      ]
     },
     "execution_count": null,
     "metadata": {},
     "output_type": "execute_result"
    }
   ],
   "source": [
    "%%sql\n",
    "UPDATE inhabitant\n",
    "SET state = 'friendly'\n",
    "WHERE job = 'pilot';\n",
    "\n",
    "SELECT *\n",
    "     , salt_053(sum(nn(hash)) OVER ()) AS token\n",
    "FROM inhabitant;\n",
    "--> Episode [049]"
   ]
  },
  {
   "cell_type": "markdown",
   "id": "b9b7791a",
   "metadata": {},
   "source": [
    "**Episode [049].** You have completed SQLab Island. What a big adventure!"
   ]
  }
 ],
 "metadata": {
  "celltoolbar": "Initialization Cell",
  "hide_input": false,
  "kernelspec": {
   "display_name": "Python 3 (ipykernel)",
   "language": "python",
   "name": "python3"
  },
  "language_info": {
   "codemirror_mode": {
    "name": "ipython",
    "version": 3
   },
   "file_extension": ".py",
   "mimetype": "text/x-python",
   "name": "python",
   "nbconvert_exporter": "python",
   "pygments_lexer": "ipython3",
   "version": "3.12.3"
  },
  "toc": {
   "base_numbering": 1,
   "nav_menu": {},
   "number_sections": true,
   "sideBar": true,
   "skip_h1_title": false,
   "title_cell": "Table of Contents",
   "title_sidebar": "SQLab Island",
   "toc_cell": false,
   "toc_position": {
    "height": "calc(100% - 180px)",
    "left": "10px",
    "top": "150px",
    "width": "250.32px"
   },
   "toc_section_display": true,
   "toc_window_display": true
  },
  "varInspector": {
   "cols": {
    "lenName": 16,
    "lenType": 16,
    "lenVar": 40
   },
   "kernels_config": {
    "python": {
     "delete_cmd_postfix": "",
     "delete_cmd_prefix": "del ",
     "library": "var_list.py",
     "varRefreshCmd": "print(var_dic_list())"
    },
    "r": {
     "delete_cmd_postfix": ") ",
     "delete_cmd_prefix": "rm(",
     "library": "var_list.r",
     "varRefreshCmd": "cat(var_dic_list()) "
    }
   },
   "types_to_exclude": [
    "module",
    "function",
    "builtin_function_or_method",
    "instance",
    "_Feature"
   ],
   "window_display": false
  }
 },
 "nbformat": 4,
 "nbformat_minor": 5
}
